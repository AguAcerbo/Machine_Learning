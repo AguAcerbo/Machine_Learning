{
 "cells": [
  {
   "cell_type": "markdown",
   "metadata": {
    "id": "aSTHBEvvdRQp"
   },
   "source": [
    "## World Happiness Ranking\n"
   ]
  },
  {
   "cell_type": "code",
   "execution_count": null,
   "metadata": {
    "id": "sbuaVx5WhieT"
   },
   "outputs": [],
   "source": [
    "import os\n",
    "import platform\n",
    "\n",
    "import numpy as np\n",
    "import matplotlib.pyplot as plt\n",
    "import seaborn as sns\n",
    "import pandas as pd"
   ]
  },
  {
   "cell_type": "markdown",
   "metadata": {
    "id": "DHiydJS6hd68"
   },
   "source": [
    "## 1 - Recolectar los datos"
   ]
  },
  {
   "cell_type": "code",
   "execution_count": null,
   "metadata": {
    "colab": {
     "base_uri": "https://localhost:8080/"
    },
    "id": "UVjHhvQsbz6O",
    "outputId": "ca9080c7-7aa2-44ab-e9de-73c50626849b"
   },
   "outputs": [
    {
     "name": "stdout",
     "output_type": "stream",
     "text": [
      "Mounted at /content/drive\n"
     ]
    }
   ],
   "source": [
    "from google.colab import drive\n",
    "drive.mount('/content/drive')"
   ]
  },
  {
   "cell_type": "code",
   "execution_count": null,
   "metadata": {
    "id": "nDdPwzp3kBzJ"
   },
   "outputs": [],
   "source": [
    "path = '/content/drive/MyDrive/Colab Notebooks/MachineLearningII'\n",
    "ds = pd.read_csv(path+'/ds_final.csv')"
   ]
  },
  {
   "cell_type": "markdown",
   "metadata": {
    "id": "B1i1AwC2dQWe"
   },
   "source": [
    "## 2 - Explorar datos"
   ]
  },
  {
   "cell_type": "code",
   "execution_count": null,
   "metadata": {
    "colab": {
     "base_uri": "https://localhost:8080/"
    },
    "id": "scLk08bId-iT",
    "outputId": "396f329d-e91c-4d5c-a5fe-e28056019116"
   },
   "outputs": [
    {
     "name": "stdout",
     "output_type": "stream",
     "text": [
      "<class 'pandas.core.frame.DataFrame'>\n",
      "RangeIndex: 782 entries, 0 to 781\n",
      "Data columns (total 9 columns):\n",
      " #   Column                     Non-Null Count  Dtype  \n",
      "---  ------                     --------------  -----  \n",
      " 0   Year                       782 non-null    float64\n",
      " 1   Country                    782 non-null    object \n",
      " 2   Happiness Score            782 non-null    float64\n",
      " 3   GDP per Capita             782 non-null    float64\n",
      " 4   Life Expectancy            782 non-null    float64\n",
      " 5   Freedom                    782 non-null    float64\n",
      " 6   Perceptions of corruption  782 non-null    float64\n",
      " 7   Generosity                 782 non-null    float64\n",
      " 8   Region                     782 non-null    object \n",
      "dtypes: float64(7), object(2)\n",
      "memory usage: 55.1+ KB\n"
     ]
    }
   ],
   "source": [
    "ds.info()"
   ]
  },
  {
   "cell_type": "code",
   "execution_count": null,
   "metadata": {
    "colab": {
     "base_uri": "https://localhost:8080/",
     "height": 355
    },
    "id": "EfsCiiLpkMfw",
    "outputId": "69d0afba-7e27-41bc-e037-bc9b729e222a"
   },
   "outputs": [
    {
     "data": {
      "text/html": [
       "<div>\n",
       "<style scoped>\n",
       "    .dataframe tbody tr th:only-of-type {\n",
       "        vertical-align: middle;\n",
       "    }\n",
       "\n",
       "    .dataframe tbody tr th {\n",
       "        vertical-align: top;\n",
       "    }\n",
       "\n",
       "    .dataframe thead th {\n",
       "        text-align: right;\n",
       "    }\n",
       "</style>\n",
       "<table border=\"1\" class=\"dataframe\">\n",
       "  <thead>\n",
       "    <tr style=\"text-align: right;\">\n",
       "      <th></th>\n",
       "      <th>Year</th>\n",
       "      <th>Happiness Score</th>\n",
       "      <th>GDP per Capita</th>\n",
       "      <th>Life Expectancy</th>\n",
       "      <th>Freedom</th>\n",
       "      <th>Perceptions of corruption</th>\n",
       "      <th>Generosity</th>\n",
       "    </tr>\n",
       "  </thead>\n",
       "  <tbody>\n",
       "    <tr>\n",
       "      <th>count</th>\n",
       "      <td>782.000000</td>\n",
       "      <td>782.000000</td>\n",
       "      <td>782.000000</td>\n",
       "      <td>782.000000</td>\n",
       "      <td>782.000000</td>\n",
       "      <td>782.000000</td>\n",
       "      <td>782.000000</td>\n",
       "    </tr>\n",
       "    <tr>\n",
       "      <th>mean</th>\n",
       "      <td>2016.993606</td>\n",
       "      <td>5.379018</td>\n",
       "      <td>0.916047</td>\n",
       "      <td>0.612416</td>\n",
       "      <td>0.411091</td>\n",
       "      <td>0.125674</td>\n",
       "      <td>0.218576</td>\n",
       "    </tr>\n",
       "    <tr>\n",
       "      <th>std</th>\n",
       "      <td>1.417364</td>\n",
       "      <td>1.127456</td>\n",
       "      <td>0.407340</td>\n",
       "      <td>0.248309</td>\n",
       "      <td>0.152880</td>\n",
       "      <td>0.105959</td>\n",
       "      <td>0.122321</td>\n",
       "    </tr>\n",
       "    <tr>\n",
       "      <th>min</th>\n",
       "      <td>2015.000000</td>\n",
       "      <td>2.693000</td>\n",
       "      <td>0.000000</td>\n",
       "      <td>0.000000</td>\n",
       "      <td>0.000000</td>\n",
       "      <td>0.000000</td>\n",
       "      <td>0.000000</td>\n",
       "    </tr>\n",
       "    <tr>\n",
       "      <th>25%</th>\n",
       "      <td>2016.000000</td>\n",
       "      <td>4.509750</td>\n",
       "      <td>0.606500</td>\n",
       "      <td>0.440183</td>\n",
       "      <td>0.309768</td>\n",
       "      <td>0.054250</td>\n",
       "      <td>0.130000</td>\n",
       "    </tr>\n",
       "    <tr>\n",
       "      <th>50%</th>\n",
       "      <td>2017.000000</td>\n",
       "      <td>5.322000</td>\n",
       "      <td>0.982205</td>\n",
       "      <td>0.647310</td>\n",
       "      <td>0.431000</td>\n",
       "      <td>0.091033</td>\n",
       "      <td>0.201982</td>\n",
       "    </tr>\n",
       "    <tr>\n",
       "      <th>75%</th>\n",
       "      <td>2018.000000</td>\n",
       "      <td>6.189500</td>\n",
       "      <td>1.236187</td>\n",
       "      <td>0.808000</td>\n",
       "      <td>0.531000</td>\n",
       "      <td>0.156243</td>\n",
       "      <td>0.278832</td>\n",
       "    </tr>\n",
       "    <tr>\n",
       "      <th>max</th>\n",
       "      <td>2019.000000</td>\n",
       "      <td>7.769000</td>\n",
       "      <td>2.096000</td>\n",
       "      <td>1.141000</td>\n",
       "      <td>0.724000</td>\n",
       "      <td>0.551910</td>\n",
       "      <td>0.838075</td>\n",
       "    </tr>\n",
       "    <tr>\n",
       "      <th>Nan</th>\n",
       "      <td>0.000000</td>\n",
       "      <td>0.000000</td>\n",
       "      <td>0.000000</td>\n",
       "      <td>0.000000</td>\n",
       "      <td>0.000000</td>\n",
       "      <td>0.000000</td>\n",
       "      <td>0.000000</td>\n",
       "    </tr>\n",
       "    <tr>\n",
       "      <th>%Nan</th>\n",
       "      <td>0.000000</td>\n",
       "      <td>0.000000</td>\n",
       "      <td>0.000000</td>\n",
       "      <td>0.000000</td>\n",
       "      <td>0.000000</td>\n",
       "      <td>0.000000</td>\n",
       "      <td>0.000000</td>\n",
       "    </tr>\n",
       "  </tbody>\n",
       "</table>\n",
       "</div>"
      ],
      "text/plain": [
       "              Year  Happiness Score  ...  Perceptions of corruption  Generosity\n",
       "count   782.000000       782.000000  ...                 782.000000  782.000000\n",
       "mean   2016.993606         5.379018  ...                   0.125674    0.218576\n",
       "std       1.417364         1.127456  ...                   0.105959    0.122321\n",
       "min    2015.000000         2.693000  ...                   0.000000    0.000000\n",
       "25%    2016.000000         4.509750  ...                   0.054250    0.130000\n",
       "50%    2017.000000         5.322000  ...                   0.091033    0.201982\n",
       "75%    2018.000000         6.189500  ...                   0.156243    0.278832\n",
       "max    2019.000000         7.769000  ...                   0.551910    0.838075\n",
       "Nan       0.000000         0.000000  ...                   0.000000    0.000000\n",
       "%Nan      0.000000         0.000000  ...                   0.000000    0.000000\n",
       "\n",
       "[10 rows x 7 columns]"
      ]
     },
     "execution_count": 5,
     "metadata": {},
     "output_type": "execute_result"
    }
   ],
   "source": [
    "des = ds.describe()\n",
    "des.loc['Nan'] = ds.isna().sum()\n",
    "des.loc['%Nan'] = (ds.isna().mean())*100\n",
    "des"
   ]
  },
  {
   "cell_type": "markdown",
   "metadata": {
    "id": "GwmUvsPKqKW7"
   },
   "source": [
    "Se puede ver que no hay elementos faltantes (NaN) como tampoco hay variables categóricas texto."
   ]
  },
  {
   "cell_type": "code",
   "execution_count": null,
   "metadata": {
    "colab": {
     "base_uri": "https://localhost:8080/"
    },
    "id": "d5HjKun4qoOX",
    "outputId": "19cca432-d412-4364-f1e2-c40b7f0664f0"
   },
   "outputs": [
    {
     "name": "stdout",
     "output_type": "stream",
     "text": [
      "Cantidad de filas del dataset: 782\n"
     ]
    }
   ],
   "source": [
    "# Cantidad de filas a analizar\n",
    "print('Cantidad de filas del dataset:', ds.shape[0])"
   ]
  },
  {
   "cell_type": "code",
   "execution_count": null,
   "metadata": {
    "colab": {
     "base_uri": "https://localhost:8080/",
     "height": 202
    },
    "id": "yUhOpWJ-j__R",
    "outputId": "c83aa683-55b9-4b58-dfe5-43a65d76e67b"
   },
   "outputs": [
    {
     "data": {
      "text/html": [
       "<div>\n",
       "<style scoped>\n",
       "    .dataframe tbody tr th:only-of-type {\n",
       "        vertical-align: middle;\n",
       "    }\n",
       "\n",
       "    .dataframe tbody tr th {\n",
       "        vertical-align: top;\n",
       "    }\n",
       "\n",
       "    .dataframe thead th {\n",
       "        text-align: right;\n",
       "    }\n",
       "</style>\n",
       "<table border=\"1\" class=\"dataframe\">\n",
       "  <thead>\n",
       "    <tr style=\"text-align: right;\">\n",
       "      <th></th>\n",
       "      <th>Year</th>\n",
       "      <th>Country</th>\n",
       "      <th>Happiness Score</th>\n",
       "      <th>GDP per Capita</th>\n",
       "      <th>Life Expectancy</th>\n",
       "      <th>Freedom</th>\n",
       "      <th>Perceptions of corruption</th>\n",
       "      <th>Generosity</th>\n",
       "      <th>Region</th>\n",
       "    </tr>\n",
       "  </thead>\n",
       "  <tbody>\n",
       "    <tr>\n",
       "      <th>0</th>\n",
       "      <td>2015.0</td>\n",
       "      <td>Switzerland</td>\n",
       "      <td>7.587</td>\n",
       "      <td>1.39651</td>\n",
       "      <td>0.94143</td>\n",
       "      <td>0.66557</td>\n",
       "      <td>0.41978</td>\n",
       "      <td>0.29678</td>\n",
       "      <td>Western Europe</td>\n",
       "    </tr>\n",
       "    <tr>\n",
       "      <th>1</th>\n",
       "      <td>2015.0</td>\n",
       "      <td>Iceland</td>\n",
       "      <td>7.561</td>\n",
       "      <td>1.30232</td>\n",
       "      <td>0.94784</td>\n",
       "      <td>0.62877</td>\n",
       "      <td>0.14145</td>\n",
       "      <td>0.43630</td>\n",
       "      <td>Western Europe</td>\n",
       "    </tr>\n",
       "    <tr>\n",
       "      <th>2</th>\n",
       "      <td>2015.0</td>\n",
       "      <td>Denmark</td>\n",
       "      <td>7.527</td>\n",
       "      <td>1.32548</td>\n",
       "      <td>0.87464</td>\n",
       "      <td>0.64938</td>\n",
       "      <td>0.48357</td>\n",
       "      <td>0.34139</td>\n",
       "      <td>Western Europe</td>\n",
       "    </tr>\n",
       "    <tr>\n",
       "      <th>3</th>\n",
       "      <td>2015.0</td>\n",
       "      <td>Norway</td>\n",
       "      <td>7.522</td>\n",
       "      <td>1.45900</td>\n",
       "      <td>0.88521</td>\n",
       "      <td>0.66973</td>\n",
       "      <td>0.36503</td>\n",
       "      <td>0.34699</td>\n",
       "      <td>Western Europe</td>\n",
       "    </tr>\n",
       "    <tr>\n",
       "      <th>4</th>\n",
       "      <td>2015.0</td>\n",
       "      <td>Canada</td>\n",
       "      <td>7.427</td>\n",
       "      <td>1.32629</td>\n",
       "      <td>0.90563</td>\n",
       "      <td>0.63297</td>\n",
       "      <td>0.32957</td>\n",
       "      <td>0.45811</td>\n",
       "      <td>North America</td>\n",
       "    </tr>\n",
       "  </tbody>\n",
       "</table>\n",
       "</div>"
      ],
      "text/plain": [
       "     Year      Country  ...  Generosity          Region\n",
       "0  2015.0  Switzerland  ...     0.29678  Western Europe\n",
       "1  2015.0      Iceland  ...     0.43630  Western Europe\n",
       "2  2015.0      Denmark  ...     0.34139  Western Europe\n",
       "3  2015.0       Norway  ...     0.34699  Western Europe\n",
       "4  2015.0       Canada  ...     0.45811   North America\n",
       "\n",
       "[5 rows x 9 columns]"
      ]
     },
     "execution_count": 7,
     "metadata": {},
     "output_type": "execute_result"
    }
   ],
   "source": [
    "ds.head()"
   ]
  },
  {
   "cell_type": "markdown",
   "metadata": {
    "id": "WBSNQS-mrq94"
   },
   "source": [
    "## 3 - Procesamiento de los datos\n",
    "Hay datos que corresponden a multiclase, para mejorar su tratamiento por el modelo realizaremos OneHotEncoding para separar las clases en columnas. Clases para codificar:\n",
    "- Region\n",
    "\n",
    "La variable de salida se codificara en 1 si el puntaje de felicidad es mayor o igual a 5.5 y en 0 si es menor. No elegimos un valor mayor ya que de lo contrario se desbalancearia mucho el dataset\n",
    "\n",
    "Otros tipos de datos entre las columnas:\n",
    "- La feature Year se quitara.\n",
    "- La feature Country se quitara."
   ]
  },
  {
   "cell_type": "markdown",
   "metadata": {
    "id": "-7itzNsniab8"
   },
   "source": [
    "### Variable de salida"
   ]
  },
  {
   "cell_type": "code",
   "execution_count": null,
   "metadata": {
    "colab": {
     "base_uri": "https://localhost:8080/"
    },
    "id": "2PZxFnxpic7b",
    "outputId": "4895f697-3a5e-4ee6-d2e6-b125a3ba0768"
   },
   "outputs": [
    {
     "name": "stdout",
     "output_type": "stream",
     "text": [
      "426\n",
      "356\n"
     ]
    }
   ],
   "source": [
    "ds['Happiness Score'] = ds['Happiness Score'].apply(lambda label: 0 if label <= 5.5 else 1)\n",
    "print(len(ds[ds['Happiness Score'] == 0]))\n",
    "print(len(ds[ds['Happiness Score'] == 1]))"
   ]
  },
  {
   "cell_type": "markdown",
   "metadata": {
    "id": "ATIwJ-jPdtLQ"
   },
   "source": [
    "### OHE en Region"
   ]
  },
  {
   "cell_type": "code",
   "execution_count": null,
   "metadata": {
    "colab": {
     "base_uri": "https://localhost:8080/"
    },
    "id": "xAztxKcOrtur",
    "outputId": "936d5f71-dcce-403a-a71d-55e7f383dd97"
   },
   "outputs": [
    {
     "name": "stdout",
     "output_type": "stream",
     "text": [
      "<class 'pandas.core.frame.DataFrame'>\n",
      "RangeIndex: 782 entries, 0 to 781\n",
      "Data columns (total 10 columns):\n",
      " #   Column                                  Non-Null Count  Dtype\n",
      "---  ------                                  --------------  -----\n",
      " 0   Region_Australia and New Zealand        782 non-null    uint8\n",
      " 1   Region_Central and Eastern Europe       782 non-null    uint8\n",
      " 2   Region_Eastern Asia                     782 non-null    uint8\n",
      " 3   Region_Latin America and Caribbean      782 non-null    uint8\n",
      " 4   Region_Middle East and Northern Africa  782 non-null    uint8\n",
      " 5   Region_North America                    782 non-null    uint8\n",
      " 6   Region_Southeastern Asia                782 non-null    uint8\n",
      " 7   Region_Southern Asia                    782 non-null    uint8\n",
      " 8   Region_Sub-Saharan Africa               782 non-null    uint8\n",
      " 9   Region_Western Europe                   782 non-null    uint8\n",
      "dtypes: uint8(10)\n",
      "memory usage: 7.8 KB\n"
     ]
    }
   ],
   "source": [
    "reg = pd.get_dummies(ds.Region, prefix=\"Region\")\n",
    "reg.info()"
   ]
  },
  {
   "cell_type": "code",
   "execution_count": null,
   "metadata": {
    "colab": {
     "base_uri": "https://localhost:8080/"
    },
    "id": "3Ho2RZ_wuFBg",
    "outputId": "9a551a88-224b-43bf-bb95-7136515ad7ea"
   },
   "outputs": [
    {
     "name": "stdout",
     "output_type": "stream",
     "text": [
      "<class 'pandas.core.frame.DataFrame'>\n",
      "RangeIndex: 782 entries, 0 to 781\n",
      "Data columns (total 19 columns):\n",
      " #   Column                                  Non-Null Count  Dtype  \n",
      "---  ------                                  --------------  -----  \n",
      " 0   Year                                    782 non-null    float64\n",
      " 1   Country                                 782 non-null    object \n",
      " 2   Happiness Score                         782 non-null    int64  \n",
      " 3   GDP per Capita                          782 non-null    float64\n",
      " 4   Life Expectancy                         782 non-null    float64\n",
      " 5   Freedom                                 782 non-null    float64\n",
      " 6   Perceptions of corruption               782 non-null    float64\n",
      " 7   Generosity                              782 non-null    float64\n",
      " 8   Region                                  782 non-null    object \n",
      " 9   Region_Australia and New Zealand        782 non-null    uint8  \n",
      " 10  Region_Central and Eastern Europe       782 non-null    uint8  \n",
      " 11  Region_Eastern Asia                     782 non-null    uint8  \n",
      " 12  Region_Latin America and Caribbean      782 non-null    uint8  \n",
      " 13  Region_Middle East and Northern Africa  782 non-null    uint8  \n",
      " 14  Region_North America                    782 non-null    uint8  \n",
      " 15  Region_Southeastern Asia                782 non-null    uint8  \n",
      " 16  Region_Southern Asia                    782 non-null    uint8  \n",
      " 17  Region_Sub-Saharan Africa               782 non-null    uint8  \n",
      " 18  Region_Western Europe                   782 non-null    uint8  \n",
      "dtypes: float64(6), int64(1), object(2), uint8(10)\n",
      "memory usage: 62.7+ KB\n"
     ]
    }
   ],
   "source": [
    "ds = pd.concat([ds, reg], axis=1)\n",
    "ds.info()"
   ]
  },
  {
   "cell_type": "code",
   "execution_count": null,
   "metadata": {
    "id": "HK_20kroymZU"
   },
   "outputs": [],
   "source": [
    "ds_final = ds.drop(['Year', 'Country', 'Region'], axis=1)"
   ]
  },
  {
   "cell_type": "code",
   "execution_count": null,
   "metadata": {
    "id": "CxtuHS8j2Hpc"
   },
   "outputs": [],
   "source": [
    "# Separar los datos en entrada/feature (X) y salida/target (y)\n",
    "y = ds_final['Happiness Score'].values\n",
    "X_data = ds_final.drop(['Happiness Score'], axis=1)"
   ]
  },
  {
   "cell_type": "code",
   "execution_count": null,
   "metadata": {
    "colab": {
     "base_uri": "https://localhost:8080/"
    },
    "id": "KV0DveK_0AIL",
    "outputId": "bdda7e53-368d-41a0-953b-1abadc4e13ed"
   },
   "outputs": [
    {
     "name": "stdout",
     "output_type": "stream",
     "text": [
      "[[0.66627385 0.82509202 0.91929558 ... 0.         0.         1.        ]\n",
      " [0.62133588 0.8307099  0.86846685 ... 0.         0.         1.        ]\n",
      " [0.6323855  0.76655565 0.8969337  ... 0.         0.         1.        ]\n",
      " ...\n",
      " [0.16698473 0.31638913 0.         ... 1.         0.         0.        ]\n",
      " [0.01240458 0.09202454 0.31077348 ... 0.         1.         0.        ]\n",
      " [0.14599237 0.25854514 0.01381215 ... 0.         1.         0.        ]]\n",
      "[1 1 1 1 1 1 1 1 1 1]\n"
     ]
    }
   ],
   "source": [
    "# Por último, normalizamos la data de entrada\n",
    "from sklearn import preprocessing\n",
    "min_max_scaler = preprocessing.MinMaxScaler()\n",
    "\n",
    "X = min_max_scaler.fit_transform(X_data)\n",
    "print(X)\n",
    "\n",
    "print(y[:10])"
   ]
  },
  {
   "cell_type": "markdown",
   "metadata": {
    "id": "5KaZ6wClz63V"
   },
   "source": [
    "## 4 - Preparar los datos de entrenamiento\n",
    "- Ahora que ya tenemos todos los datos, podemos compararlos en una matriz de correlación para ver el aporte de cada feature a la salida.\n"
   ]
  },
  {
   "cell_type": "code",
   "execution_count": null,
   "metadata": {
    "colab": {
     "base_uri": "https://localhost:8080/",
     "height": 784
    },
    "id": "t9D-4Rs63Y_k",
    "outputId": "e1b59dd3-bd4a-45c4-96a3-d5f363cb6fa5"
   },
   "outputs": [
    {
     "data": {
      "image/png": "[encoded data removed]",
      "text/plain": [
       "<Figure size 1296x720 with 2 Axes>"
      ]
     },
     "metadata": {
      "needs_background": "light"
     },
     "output_type": "display_data"
    }
   ],
   "source": [
    "corr = ds_final.corr()\n",
    "fig, ax1 = plt.subplots(1, figsize=(18, 10))\n",
    "sns.heatmap(corr, cmap=sns.diverging_palette(220, 10, as_cmap=True), annot=True, fmt=\".2f\")\n",
    "sns.set(font_scale=1.5)"
   ]
  },
  {
   "cell_type": "markdown",
   "metadata": {
    "id": "Sw1iZdC9Dtd1"
   },
   "source": [
    "## 5 - Entrenar los modelos\n",
    "- Entrenar diferentes modelos y encontrar el mejor performante contra el dataset de test. Para eso se utilizarán los siguientes algoritmos de clasificación:\n",
    " - Decision Tree\n",
    " - Random Forest\n",
    " - Logistic Regresion\n",
    " - KNN\n",
    " - SVM Classifier\n",
    " - AdaBoost Classifier\n",
    " - XGBoost Classifier"
   ]
  },
  {
   "cell_type": "code",
   "execution_count": null,
   "metadata": {
    "id": "bPPq-_r1Fuxr"
   },
   "outputs": [],
   "source": [
    "from sklearn import metrics\n",
    "from sklearn.tree import DecisionTreeClassifier\n",
    "from sklearn.ensemble  import RandomForestClassifier\n",
    "from sklearn.linear_model import LogisticRegression\n",
    "from sklearn.neighbors import KNeighborsClassifier\n",
    "from sklearn.svm import SVC\n",
    "from sklearn.ensemble  import AdaBoostClassifier\n",
    "import xgboost as xgb"
   ]
  },
  {
   "cell_type": "code",
   "execution_count": null,
   "metadata": {
    "id": "jkmTtJ3N_hdF"
   },
   "outputs": [],
   "source": [
    "# Separar los datos de entrenamiento (train) y de prueba (test) 20%\n",
    "from sklearn.model_selection import train_test_split\n",
    "indices = np.arange(X.shape[0])\n",
    "X_train, X_test, y_train, y_test, index_train, index_test = train_test_split(X, y, indices, test_size=0.20, random_state=42)"
   ]
  },
  {
   "cell_type": "code",
   "execution_count": null,
   "metadata": {
    "id": "vC2LQA_0g8G4"
   },
   "outputs": [],
   "source": [
    "df_train = ds_final.loc[index_train, :]\n",
    "df_test =  ds_final.loc[index_test, :]\n",
    "\n",
    "df_train.to_csv(\"df_train.csv\", index = False)\n",
    "df_test.to_csv(\"df_test.csv\", index = False)"
   ]
  },
  {
   "cell_type": "code",
   "execution_count": null,
   "metadata": {
    "id": "O-5JAjxoAg3_"
   },
   "outputs": [],
   "source": [
    "# Separar los datos de entrenamiento y valid para hyperparameter tunning\n",
    "X_train_tuning, X_valid_tuning, y_train_tuning, y_valid_tuning = train_test_split(X_train, y_train, test_size=0.20, random_state=42)"
   ]
  },
  {
   "cell_type": "code",
   "execution_count": null,
   "metadata": {
    "id": "PCp8X4DJAok2"
   },
   "outputs": [],
   "source": [
    "classifier = []\n",
    "accuracy = []"
   ]
  },
  {
   "cell_type": "code",
   "execution_count": null,
   "metadata": {
    "id": "1mWX6RTEnHJi"
   },
   "outputs": [],
   "source": [
    "class ModelCompare():\n",
    "    def __init__(self):\n",
    "        self.name = \"\"\n",
    "        self.model = None\n",
    "        self.accuracy = 0\n",
    "        self.f1_score = 0\n",
    "\n",
    "    def it2hp(self, it):\n",
    "        # itearation_to_hyperparameter\n",
    "        raise NotImplemented\n",
    "\n",
    "    def fit(self, X_train, y_train, hp):\n",
    "        raise NotImplemented\n",
    "    \n",
    "    def compare(self, X_train, y_train, X_test, y_test, iteration=100):\n",
    "        models = []\n",
    "\n",
    "        mean_acc = np.zeros((iteration))\n",
    "        std_acc = np.zeros((iteration))\n",
    "        f1_scores = np.zeros((iteration))\n",
    "\n",
    "        for it in range(iteration):\n",
    "            # Train de model\n",
    "            model = self.fit(X_train, y_train, self.it2hp(it+1))\n",
    "\n",
    "            # Predict\n",
    "            y_hat = model.predict(X_test)   \n",
    "\n",
    "            # Evaluar el modelo\n",
    "            mean_acc[it] = metrics.accuracy_score(y_test, y_hat)    \n",
    "            std_acc[it] = np.std(y_hat==y_test)/np.sqrt(y_hat.shape[0])\n",
    "            f1_scores[it] = metrics.f1_score(y_test, y_hat)\n",
    "            models.append(model)\n",
    "\n",
    "        plt.plot(range(1, iteration+1), mean_acc,'darkBlue')\n",
    "        plt.fill_between(range(1, iteration+1), mean_acc - 1 * std_acc, mean_acc + 1 * std_acc, alpha=0.10)\n",
    "        plt.legend(('Accuracy ', '+/- std'))\n",
    "        plt.ylabel('Accuracy ')\n",
    "        plt.xlabel('hp')\n",
    "        plt.tight_layout()\n",
    "        plt.show()\n",
    "\n",
    "        print(f\"La mejor exactitud se obtuvo con {mean_acc.max():.2f} con hp={self.it2hp(mean_acc.argmax()+1)}\")\n",
    "        print(f\"El mejor f1_score se obtuvo con {f1_scores.max():.2f} con hp={self.it2hp(mean_acc.argmax()+1)}\")\n",
    "        self.model = models[mean_acc.argmax()]\n",
    "        self.accuracy = mean_acc.max()\n",
    "        self.f1_score = f1_scores[mean_acc.argmax()]\n",
    "      \n",
    "\n",
    "class DecisionTreeCompare(ModelCompare):\n",
    "    def __init__(self):\n",
    "        super().__init__()\n",
    "        self.name = \"DecisionTreeClassifier\"\n",
    "    def it2hp(self, it):\n",
    "        # itearation_to_hyperparameter\n",
    "        return it\n",
    "\n",
    "    def fit(self, X_train, y_train, hp):\n",
    "        self.model = DecisionTreeClassifier(criterion=\"entropy\", max_depth = hp)\n",
    "        return self.model.fit(X_train,y_train)\n",
    "\n",
    "\n",
    "class RandomForestCompare(ModelCompare):\n",
    "    def __init__(self):\n",
    "        super().__init__()\n",
    "        self.name = \"RandomForestClassifier\"\n",
    "    def it2hp(self, it):\n",
    "        # itearation_to_hyperparameter\n",
    "        return it\n",
    "\n",
    "    def fit(self, X_train, y_train, hp):\n",
    "        self.model = RandomForestClassifier(n_estimators=hp, random_state=1, class_weight = 'balanced')\n",
    "        return self.model.fit(X_train,y_train)\n",
    "\n",
    "\n",
    "class LogisticRegresionCompare(ModelCompare):\n",
    "    def __init__(self):\n",
    "        super().__init__()\n",
    "        self.name = \"LogisticRegression\"\n",
    "    def it2hp(self, it):\n",
    "        # itearation_to_hyperparameter\n",
    "        return it / 100\n",
    "\n",
    "    def fit(self, X_train, y_train, hp):\n",
    "        self.model = LogisticRegression(C=hp, solver='sag')\n",
    "        return self.model.fit(X_train,y_train)\n",
    "\n",
    "\n",
    "class KNNCompare(ModelCompare):\n",
    "    def __init__(self):\n",
    "        super().__init__()\n",
    "        self.name = \"KNeighborsClassifier\"\n",
    "    def it2hp(self, it):\n",
    "        # itearation_to_hyperparameter\n",
    "        return it\n",
    "\n",
    "    def fit(self, X_train, y_train, hp):\n",
    "        self.model = KNeighborsClassifier(n_neighbors = hp)\n",
    "        return self.model.fit(X_train,y_train)\n",
    "\n",
    "\n",
    "class SVCCompare(ModelCompare):\n",
    "    def __init__(self):\n",
    "        super().__init__()\n",
    "        self.name = \"SupportVectorMachine\"\n",
    "    def it2hp(self, it):\n",
    "        # itearation_to_hyperparameter\n",
    "        return it\n",
    "\n",
    "    def fit(self, X_train, y_train, hp):\n",
    "        self.model = SVC()\n",
    "        return self.model.fit(X_train,y_train)\n",
    "\n",
    "class AdaBoostCompare(ModelCompare):\n",
    "    def __init__(self):\n",
    "        super().__init__()\n",
    "        self.name = \"AdaBoostClassifier\"\n",
    "    def it2hp(self, it):\n",
    "        # itearation_to_hyperparameter\n",
    "        return it\n",
    "\n",
    "    def fit(self, X_train, y_train, hp):\n",
    "        self.model = AdaBoostClassifier(n_estimators=hp)\n",
    "        return self.model.fit(X_train,y_train)\n",
    "\n",
    "class XGBoostCompare(ModelCompare):\n",
    "    def __init__(self):\n",
    "        super().__init__()\n",
    "        self.name = \"XGBClassifier\"\n",
    "    def it2hp(self, it):\n",
    "        # itearation_to_hyperparameter\n",
    "        return it\n",
    "\n",
    "    def fit(self, X_train, y_train, hp):\n",
    "        self.model = xgb.XGBClassifier(objective=\"binary:logistic\", n_estimators=hp, random_state=42)\n",
    "        return self.model.fit(X_train, y_train)"
   ]
  },
  {
   "cell_type": "markdown",
   "metadata": {
    "id": "z17smnKtmQqc"
   },
   "source": [
    "### Decision Tree"
   ]
  },
  {
   "cell_type": "code",
   "execution_count": null,
   "metadata": {
    "colab": {
     "base_uri": "https://localhost:8080/",
     "height": 315
    },
    "id": "612FSzZ1mQ70",
    "outputId": "6147d3ec-1327-434d-e8d5-471de788e920"
   },
   "outputs": [
    {
     "data": {
      "image/png": "[encoded data removed]",
      "text/plain": [
       "<Figure size 432x288 with 1 Axes>"
      ]
     },
     "metadata": {},
     "output_type": "display_data"
    },
    {
     "name": "stdout",
     "output_type": "stream",
     "text": [
      "La mejor exactitud se obtuvo con 0.92 con hp=3\n",
      "El mejor f1_score se obtuvo con 0.91 con hp=3\n"
     ]
    }
   ],
   "source": [
    "model_compare_dt = DecisionTreeCompare()\n",
    "model_compare_dt.compare(X_train_tuning, y_train_tuning, X_valid_tuning, y_valid_tuning, 25)\n",
    "clf = model_compare_dt.model"
   ]
  },
  {
   "cell_type": "markdown",
   "metadata": {
    "id": "OBCYMvDKmNAG"
   },
   "source": [
    "### Random Forest:"
   ]
  },
  {
   "cell_type": "code",
   "execution_count": null,
   "metadata": {
    "colab": {
     "base_uri": "https://localhost:8080/",
     "height": 315
    },
    "id": "k0CVvAq0WMwN",
    "outputId": "732f2f01-6d24-4f97-cd00-be50b9f831eb"
   },
   "outputs": [
    {
     "data": {
      "image/png": "[encoded data removed]",
      "text/plain": [
       "<Figure size 432x288 with 1 Axes>"
      ]
     },
     "metadata": {},
     "output_type": "display_data"
    },
    {
     "name": "stdout",
     "output_type": "stream",
     "text": [
      "La mejor exactitud se obtuvo con 0.93 con hp=19\n",
      "El mejor f1_score se obtuvo con 0.92 con hp=19\n"
     ]
    }
   ],
   "source": [
    "model_compare_rf = RandomForestCompare()\n",
    "model_compare_rf.compare(X_train_tuning, y_train_tuning, X_valid_tuning, y_valid_tuning, 25)\n",
    "clf = model_compare_rf.model"
   ]
  },
  {
   "cell_type": "markdown",
   "metadata": {
    "id": "uCHA_q_ymreT"
   },
   "source": [
    "### Logistic Reresion"
   ]
  },
  {
   "cell_type": "code",
   "execution_count": null,
   "metadata": {
    "colab": {
     "base_uri": "https://localhost:8080/",
     "height": 315
    },
    "id": "k4g6yh0Omrmw",
    "outputId": "c0adeddd-2c4f-44fa-b663-27d4baca3aa6"
   },
   "outputs": [
    {
     "data": {
      "image/png": "[encoded data removed]",
      "text/plain": [
       "<Figure size 432x288 with 1 Axes>"
      ]
     },
     "metadata": {},
     "output_type": "display_data"
    },
    {
     "name": "stdout",
     "output_type": "stream",
     "text": [
      "La mejor exactitud se obtuvo con 0.86 con hp=0.03\n",
      "El mejor f1_score se obtuvo con 0.81 con hp=0.03\n"
     ]
    }
   ],
   "source": [
    "model_compare_lr = LogisticRegresionCompare()\n",
    "model_compare_lr.compare(X_train_tuning, y_train_tuning, X_valid_tuning, y_valid_tuning, 25)\n",
    "clf = model_compare_lr.model"
   ]
  },
  {
   "cell_type": "markdown",
   "metadata": {
    "id": "pUr_jwg5mrxC"
   },
   "source": [
    "### KNN"
   ]
  },
  {
   "cell_type": "code",
   "execution_count": null,
   "metadata": {
    "colab": {
     "base_uri": "https://localhost:8080/",
     "height": 315
    },
    "id": "n9pv3fMemr4L",
    "outputId": "cb0d28db-e53a-4b97-d55d-fbc6ea02623e"
   },
   "outputs": [
    {
     "data": {
      "image/png": "[encoded data removed]",
      "text/plain": [
       "<Figure size 432x288 with 1 Axes>"
      ]
     },
     "metadata": {},
     "output_type": "display_data"
    },
    {
     "name": "stdout",
     "output_type": "stream",
     "text": [
      "La mejor exactitud se obtuvo con 0.90 con hp=1\n",
      "El mejor f1_score se obtuvo con 0.88 con hp=1\n"
     ]
    }
   ],
   "source": [
    "model_compare_knn = KNNCompare()\n",
    "model_compare_knn.compare(X_train_tuning, y_train_tuning, X_valid_tuning, y_valid_tuning, 25)\n",
    "clf = model_compare_knn.model"
   ]
  },
  {
   "cell_type": "markdown",
   "metadata": {
    "id": "qMUizcVtmsDz"
   },
   "source": [
    "### SVM"
   ]
  },
  {
   "cell_type": "code",
   "execution_count": null,
   "metadata": {
    "colab": {
     "base_uri": "https://localhost:8080/",
     "height": 315
    },
    "id": "GhTV8kcqmsKF",
    "outputId": "05fd899e-adb4-48cf-9df8-61becbcfbbfc"
   },
   "outputs": [
    {
     "data": {
      "image/png": "[encoded data removed]",
      "text/plain": [
       "<Figure size 432x288 with 1 Axes>"
      ]
     },
     "metadata": {},
     "output_type": "display_data"
    },
    {
     "name": "stdout",
     "output_type": "stream",
     "text": [
      "La mejor exactitud se obtuvo con 0.87 con hp=1\n",
      "El mejor f1_score se obtuvo con 0.85 con hp=1\n"
     ]
    }
   ],
   "source": [
    "model_compare_svc = SVCCompare()\n",
    "model_compare_svc.compare(X_train_tuning, y_train_tuning, X_valid_tuning, y_valid_tuning, 25)\n",
    "clf = model_compare_svc.model"
   ]
  },
  {
   "cell_type": "markdown",
   "metadata": {
    "id": "-zWG2DAHmsQF"
   },
   "source": [
    "### Adaboost"
   ]
  },
  {
   "cell_type": "code",
   "execution_count": null,
   "metadata": {
    "colab": {
     "base_uri": "https://localhost:8080/",
     "height": 315
    },
    "id": "QYVYVJmAmsWE",
    "outputId": "4b8558a7-3670-437c-ed8a-07a017bcf81f"
   },
   "outputs": [
    {
     "data": {
      "image/png": "[encoded data removed]",
      "text/plain": [
       "<Figure size 432x288 with 1 Axes>"
      ]
     },
     "metadata": {},
     "output_type": "display_data"
    },
    {
     "name": "stdout",
     "output_type": "stream",
     "text": [
      "La mejor exactitud se obtuvo con 0.91 con hp=2\n",
      "El mejor f1_score se obtuvo con 0.90 con hp=2\n"
     ]
    }
   ],
   "source": [
    "model_compare_a = AdaBoostCompare()\n",
    "model_compare_a.compare(X_train_tuning, y_train_tuning, X_valid_tuning, y_valid_tuning, 25)\n",
    "clf = model_compare_a.model"
   ]
  },
  {
   "cell_type": "markdown",
   "metadata": {
    "id": "9vtzZ0jZnP31"
   },
   "source": [
    "### XGBoost"
   ]
  },
  {
   "cell_type": "code",
   "execution_count": null,
   "metadata": {
    "colab": {
     "base_uri": "https://localhost:8080/",
     "height": 315
    },
    "id": "t_Xn_IShnP-2",
    "outputId": "487cc41c-fbff-448d-a54a-54e30e949a25"
   },
   "outputs": [
    {
     "data": {
      "image/png": "[encoded data removed]",
      "text/plain": [
       "<Figure size 432x288 with 1 Axes>"
      ]
     },
     "metadata": {},
     "output_type": "display_data"
    },
    {
     "name": "stdout",
     "output_type": "stream",
     "text": [
      "La mejor exactitud se obtuvo con 0.93 con hp=17\n",
      "El mejor f1_score se obtuvo con 0.92 con hp=17\n"
     ]
    }
   ],
   "source": [
    "model_compare_xgb = XGBoostCompare()\n",
    "model_compare_xgb.compare(X_train_tuning, y_train_tuning, X_valid_tuning, y_valid_tuning, 25)\n",
    "clf = model_compare_xgb.model"
   ]
  },
  {
   "cell_type": "markdown",
   "metadata": {
    "id": "voYx00cj-LEy"
   },
   "source": [
    "## 6 - Seleccionar de los hyperparámetros utilizando SearchCV"
   ]
  },
  {
   "cell_type": "markdown",
   "metadata": {
    "id": "ZUKzt3mQ260t"
   },
   "source": [
    "El objetivo es utiliza primero RandomizedSearchCV que lleva menos tiempo ejecutarlo. Con los parámetros obtenidos con RandomizedSearchCV se realizará una búsqueda más fina con GridSearchCV en torno a esos parámetros."
   ]
  },
  {
   "cell_type": "code",
   "execution_count": null,
   "metadata": {
    "id": "1oVcocbgFLsJ"
   },
   "outputs": [],
   "source": [
    "from sklearn.metrics import precision_score, recall_score, f1_score"
   ]
  },
  {
   "cell_type": "markdown",
   "metadata": {
    "id": "-QAJhvgspphE"
   },
   "source": [
    "### Decision Tree"
   ]
  },
  {
   "cell_type": "markdown",
   "metadata": {
    "id": "dTS99gMQr7cC"
   },
   "source": [
    "#### Random Search"
   ]
  },
  {
   "cell_type": "code",
   "execution_count": null,
   "metadata": {
    "id": "nbLU8tiHpsOr"
   },
   "outputs": [],
   "source": [
    "from sklearn.model_selection import RandomizedSearchCV\n",
    "from sklearn.model_selection import cross_val_score\n",
    "from sklearn.model_selection import GridSearchCV\n",
    "import time\n",
    "\n",
    "parameters_dt = {\n",
    "    'criterion': ['entropy', 'gini'],\n",
    "    'max_depth': list(range(5, 21, 3)) + [None],\n",
    "    'max_features': ['auto', 'sqrt', 'log2', None],\n",
    "    'min_samples_leaf': list(range(2, 11, 2)),\n",
    "    'min_samples_split': list(range(2, 11, 2)),\n",
    "}"
   ]
  },
  {
   "cell_type": "code",
   "execution_count": null,
   "metadata": {
    "colab": {
     "base_uri": "https://localhost:8080/"
    },
    "id": "Kj1SkNpzpsSM",
    "outputId": "a8a9d1a6-6319-47bd-d1b2-7307c6027282"
   },
   "outputs": [
    {
     "name": "stdout",
     "output_type": "stream",
     "text": [
      "seconds:  2.037442684173584\n"
     ]
    },
    {
     "data": {
      "text/plain": [
       "DecisionTreeClassifier(ccp_alpha=0.0, class_weight=None, criterion='gini',\n",
       "                       max_depth=20, max_features=None, max_leaf_nodes=None,\n",
       "                       min_impurity_decrease=0.0, min_impurity_split=None,\n",
       "                       min_samples_leaf=2, min_samples_split=8,\n",
       "                       min_weight_fraction_leaf=0.0, presort='deprecated',\n",
       "                       random_state=None, splitter='best')"
      ]
     },
     "execution_count": 29,
     "metadata": {},
     "output_type": "execute_result"
    }
   ],
   "source": [
    "start_time = time.time()\n",
    "clf_dt = RandomizedSearchCV(estimator=DecisionTreeClassifier(), param_distributions=parameters_dt, n_iter=100, random_state=0, n_jobs=-1, scoring=['accuracy'], refit='accuracy')\n",
    "clf_dt.fit(X_train, y_train)\n",
    "print(\"seconds: \", (time.time() - start_time))\n",
    "clf_dt.best_estimator_"
   ]
  },
  {
   "cell_type": "code",
   "execution_count": null,
   "metadata": {
    "colab": {
     "base_uri": "https://localhost:8080/"
    },
    "id": "xq9CNyOzqRb8",
    "outputId": "09e37366-5e05-452a-e0b1-86deb8d0f7ea"
   },
   "outputs": [
    {
     "data": {
      "text/plain": [
       "0.8832000000000001"
      ]
     },
     "execution_count": 30,
     "metadata": {},
     "output_type": "execute_result"
    }
   ],
   "source": [
    "clf_dt.best_score_"
   ]
  },
  {
   "cell_type": "markdown",
   "metadata": {
    "id": "MVpvMInDr_WJ"
   },
   "source": [
    "#### Grid Search"
   ]
  },
  {
   "cell_type": "code",
   "execution_count": null,
   "metadata": {
    "id": "UGuB1TDbrxdU"
   },
   "outputs": [],
   "source": [
    "reduce_parameters_dt = {\n",
    "    'criterion': ['entropy'],\n",
    "    'max_depth': list(range(10, 18, 1)) + [None],\n",
    "    'max_features': ['log2'],\n",
    "    'min_samples_leaf': list(range(4, 8, 1)),\n",
    "    'min_samples_split': list(range(2, 6, 1)),\n",
    "}"
   ]
  },
  {
   "cell_type": "code",
   "execution_count": null,
   "metadata": {
    "colab": {
     "base_uri": "https://localhost:8080/"
    },
    "id": "oP4T-Ergrxg-",
    "outputId": "d6e5cb89-56cd-41a3-d14a-998ed193121c"
   },
   "outputs": [
    {
     "name": "stdout",
     "output_type": "stream",
     "text": [
      "seconds: 1.2996032238006592\n"
     ]
    },
    {
     "data": {
      "text/plain": [
       "DecisionTreeClassifier(ccp_alpha=0.0, class_weight=None, criterion='entropy',\n",
       "                       max_depth=17, max_features='log2', max_leaf_nodes=None,\n",
       "                       min_impurity_decrease=0.0, min_impurity_split=None,\n",
       "                       min_samples_leaf=7, min_samples_split=3,\n",
       "                       min_weight_fraction_leaf=0.0, presort='deprecated',\n",
       "                       random_state=None, splitter='best')"
      ]
     },
     "execution_count": 32,
     "metadata": {},
     "output_type": "execute_result"
    }
   ],
   "source": [
    "start_time = time.time()\n",
    "clf_grid_dt = GridSearchCV(estimator=DecisionTreeClassifier(), param_grid=reduce_parameters_dt, n_jobs=-1, scoring=['accuracy'], refit='accuracy')\n",
    "clf_grid_dt.fit(X_train, y_train)\n",
    "print(\"seconds:\", (time.time() - start_time))\n",
    "clf_grid_dt.best_estimator_"
   ]
  },
  {
   "cell_type": "code",
   "execution_count": null,
   "metadata": {
    "colab": {
     "base_uri": "https://localhost:8080/"
    },
    "id": "FLF-f5MysuEV",
    "outputId": "62697b42-320e-4139-a70c-0b4cc5a79a9d"
   },
   "outputs": [
    {
     "data": {
      "text/plain": [
       "0.8848"
      ]
     },
     "execution_count": 33,
     "metadata": {},
     "output_type": "execute_result"
    }
   ],
   "source": [
    "clf_grid_dt.best_score_"
   ]
  },
  {
   "cell_type": "markdown",
   "metadata": {
    "id": "X7015x0XFDve"
   },
   "source": [
    "#### Metrics"
   ]
  },
  {
   "cell_type": "code",
   "execution_count": null,
   "metadata": {
    "colab": {
     "base_uri": "https://localhost:8080/"
    },
    "id": "S72oFL3xFIFG",
    "outputId": "8fd4b67b-00bc-479b-f261-8b9397ca8828"
   },
   "outputs": [
    {
     "name": "stdout",
     "output_type": "stream",
     "text": [
      "Model Precision: 0.8428571428571429\n",
      "Model Recall: 0.7763157894736842\n",
      "Model F1-score: 0.8082191780821917\n"
     ]
    }
   ],
   "source": [
    "print(f\"Model Precision: {precision_score(y_test, clf_grid_dt.predict(X_test))}\")\n",
    "print(f\"Model Recall: {recall_score(y_test, clf_grid_dt.predict(X_test))}\")\n",
    "print(f\"Model F1-score: {f1_score(y_test, clf_grid_dt.predict(X_test))}\")"
   ]
  },
  {
   "cell_type": "markdown",
   "metadata": {
    "id": "a9jHSE7AplcD"
   },
   "source": [
    "### Random Forest"
   ]
  },
  {
   "cell_type": "markdown",
   "metadata": {
    "id": "mrbIKdBntoqF"
   },
   "source": [
    "#### Random Search"
   ]
  },
  {
   "cell_type": "code",
   "execution_count": null,
   "metadata": {
    "id": "O5KNqDg2YcZy"
   },
   "outputs": [],
   "source": [
    "parameters_rf = {\n",
    "    'criterion': ['entropy', 'gini'],\n",
    "    'max_depth': list(range(5, 21, 3)) + [None],\n",
    "    'max_features': ['auto', 'sqrt', 'log2', None],\n",
    "    'min_samples_leaf': list(range(2, 11, 2)),\n",
    "    'min_samples_split': list(range(2, 11, 2)),\n",
    "    'n_estimators': list(range(10, 25))\n",
    "}"
   ]
  },
  {
   "cell_type": "code",
   "execution_count": null,
   "metadata": {
    "colab": {
     "base_uri": "https://localhost:8080/"
    },
    "id": "0ndqSg12-_wi",
    "outputId": "113b9064-fe98-43f6-88e4-78c9ae2cf0aa"
   },
   "outputs": [
    {
     "name": "stdout",
     "output_type": "stream",
     "text": [
      "seconds:  16.112813234329224\n"
     ]
    },
    {
     "data": {
      "text/plain": [
       "RandomForestClassifier(bootstrap=True, ccp_alpha=0.0, class_weight=None,\n",
       "                       criterion='gini', max_depth=20, max_features='auto',\n",
       "                       max_leaf_nodes=None, max_samples=None,\n",
       "                       min_impurity_decrease=0.0, min_impurity_split=None,\n",
       "                       min_samples_leaf=2, min_samples_split=4,\n",
       "                       min_weight_fraction_leaf=0.0, n_estimators=20,\n",
       "                       n_jobs=None, oob_score=False, random_state=None,\n",
       "                       verbose=0, warm_start=False)"
      ]
     },
     "execution_count": 35,
     "metadata": {},
     "output_type": "execute_result"
    }
   ],
   "source": [
    "start_time = time.time()\n",
    "clf_rf = RandomizedSearchCV(estimator=RandomForestClassifier(), param_distributions=parameters_rf, n_iter=100, random_state=0, n_jobs=-1, scoring=['accuracy'], refit='accuracy')\n",
    "clf_rf.fit(X_train, y_train)\n",
    "print(\"seconds: \", (time.time() - start_time))\n",
    "clf_rf.best_estimator_"
   ]
  },
  {
   "cell_type": "code",
   "execution_count": null,
   "metadata": {
    "colab": {
     "base_uri": "https://localhost:8080/"
    },
    "id": "W_nd5KSb_uXH",
    "outputId": "bdaafcb0-4a47-405b-84b7-7baf16f83f2a"
   },
   "outputs": [
    {
     "data": {
      "text/plain": [
       "0.9136"
      ]
     },
     "execution_count": 36,
     "metadata": {},
     "output_type": "execute_result"
    }
   ],
   "source": [
    "clf_rf.best_score_"
   ]
  },
  {
   "cell_type": "markdown",
   "metadata": {
    "id": "Xt0lKrtY3OG6"
   },
   "source": [
    "#### Grid Search"
   ]
  },
  {
   "cell_type": "code",
   "execution_count": null,
   "metadata": {
    "id": "CvfwXaX0AYg4"
   },
   "outputs": [],
   "source": [
    "reduce_parameters_rf = {\n",
    "    'criterion': ['entropy'],\n",
    "    'max_depth': list(range(5, 11, 2)) + [None],\n",
    "    'max_features': ['sqrt'],\n",
    "    'min_samples_leaf': list(range(7, 13)),\n",
    "    'min_samples_split': list(range(6, 11)),\n",
    "    'n_estimators': list(range(10, 20))\n",
    "}"
   ]
  },
  {
   "cell_type": "code",
   "execution_count": null,
   "metadata": {
    "colab": {
     "base_uri": "https://localhost:8080/"
    },
    "id": "vTt5pgCFYhLs",
    "outputId": "cfea1e9e-ee45-4bff-b7d7-fc171cb2c74f"
   },
   "outputs": [
    {
     "name": "stdout",
     "output_type": "stream",
     "text": [
      "seconds: 154.24246454238892\n"
     ]
    },
    {
     "data": {
      "text/plain": [
       "RandomForestClassifier(bootstrap=True, ccp_alpha=0.0, class_weight=None,\n",
       "                       criterion='entropy', max_depth=5, max_features='sqrt',\n",
       "                       max_leaf_nodes=None, max_samples=None,\n",
       "                       min_impurity_decrease=0.0, min_impurity_split=None,\n",
       "                       min_samples_leaf=8, min_samples_split=6,\n",
       "                       min_weight_fraction_leaf=0.0, n_estimators=10,\n",
       "                       n_jobs=None, oob_score=False, random_state=None,\n",
       "                       verbose=0, warm_start=False)"
      ]
     },
     "execution_count": 38,
     "metadata": {},
     "output_type": "execute_result"
    }
   ],
   "source": [
    "start_time = time.time()\n",
    "clf_grid_rf = GridSearchCV(estimator=RandomForestClassifier(), param_grid=reduce_parameters_rf, n_jobs=-1, scoring=['accuracy'], refit='accuracy')\n",
    "clf_grid_rf.fit(X_train, y_train)\n",
    "print(\"seconds:\", (time.time() - start_time))\n",
    "clf_grid_rf.best_estimator_"
   ]
  },
  {
   "cell_type": "code",
   "execution_count": null,
   "metadata": {
    "colab": {
     "base_uri": "https://localhost:8080/"
    },
    "id": "RzkgmHwObplq",
    "outputId": "3490eb6f-5b2f-4a83-ae3b-f017577f7098"
   },
   "outputs": [
    {
     "data": {
      "text/plain": [
       "0.9104000000000001"
      ]
     },
     "execution_count": 39,
     "metadata": {},
     "output_type": "execute_result"
    }
   ],
   "source": [
    "clf_grid_rf.best_score_"
   ]
  },
  {
   "cell_type": "markdown",
   "metadata": {
    "id": "kieMJKL9Fkq_"
   },
   "source": [
    "#### Metrics"
   ]
  },
  {
   "cell_type": "code",
   "execution_count": null,
   "metadata": {
    "colab": {
     "base_uri": "https://localhost:8080/"
    },
    "id": "dYRNVUv8FkxU",
    "outputId": "cddd0d03-f7af-4483-bdf7-7a2ae3856a08"
   },
   "outputs": [
    {
     "name": "stdout",
     "output_type": "stream",
     "text": [
      "Model Precision: 0.8846153846153846\n",
      "Model Recall: 0.9078947368421053\n",
      "Model F1-score: 0.8961038961038961\n"
     ]
    }
   ],
   "source": [
    "print(f\"Model Precision: {precision_score(y_test, clf_grid_rf.predict(X_test))}\")\n",
    "print(f\"Model Recall: {recall_score(y_test, clf_grid_rf.predict(X_test))}\")\n",
    "print(f\"Model F1-score: {f1_score(y_test, clf_grid_rf.predict(X_test))}\")"
   ]
  },
  {
   "cell_type": "markdown",
   "metadata": {
    "id": "4EmuruMGt2aN"
   },
   "source": [
    "### Logistic Regression"
   ]
  },
  {
   "cell_type": "markdown",
   "metadata": {
    "id": "MBDw-LOpt6iM"
   },
   "source": [
    "#### Random Search"
   ]
  },
  {
   "cell_type": "code",
   "execution_count": null,
   "metadata": {
    "id": "PUBpqG_pkYtT"
   },
   "outputs": [],
   "source": [
    "parameters_lr = {\n",
    "    'penalty': ['l1', 'l2', 'elasticnet'],\n",
    "    'dual': [False, True],\n",
    "    'solver': ['newton-cg', 'lbfgs', 'liblinear', 'sag', 'saga'],\n",
    "    'tol': list(np.arange(0.00001, 0.001, 0.00001)),\n",
    "    'C': list(np.arange(0.1, 2.0, 0.1))\n",
    "}"
   ]
  },
  {
   "cell_type": "code",
   "execution_count": null,
   "metadata": {
    "colab": {
     "base_uri": "https://localhost:8080/"
    },
    "id": "VoAjRZtSuXcY",
    "outputId": "1514ece5-111a-4ff6-e7ff-cebcc912e006"
   },
   "outputs": [
    {
     "name": "stdout",
     "output_type": "stream",
     "text": [
      "seconds:  1.27315354347229\n"
     ]
    },
    {
     "data": {
      "text/plain": [
       "LogisticRegression(C=0.2, class_weight=None, dual=False, fit_intercept=True,\n",
       "                   intercept_scaling=1, l1_ratio=None, max_iter=100,\n",
       "                   multi_class='auto', n_jobs=None, penalty='l1',\n",
       "                   random_state=None, solver='liblinear',\n",
       "                   tol=0.0005200000000000001, verbose=0, warm_start=False)"
      ]
     },
     "execution_count": 41,
     "metadata": {},
     "output_type": "execute_result"
    }
   ],
   "source": [
    "start_time = time.time()\n",
    "clf_lr = RandomizedSearchCV(estimator=LogisticRegression(), param_distributions=parameters_lr, n_iter=100, random_state=0, n_jobs=-1, scoring=['accuracy'], refit='accuracy')\n",
    "clf_lr.fit(X_train, y_train)\n",
    "print(\"seconds: \", (time.time() - start_time))\n",
    "clf_lr.best_estimator_"
   ]
  },
  {
   "cell_type": "code",
   "execution_count": null,
   "metadata": {
    "colab": {
     "base_uri": "https://localhost:8080/"
    },
    "id": "NkFPHXnquaKm",
    "outputId": "0f99e1f8-47e0-4275-d7e2-74243dd0a210"
   },
   "outputs": [
    {
     "data": {
      "text/plain": [
       "0.8880000000000001"
      ]
     },
     "execution_count": 42,
     "metadata": {},
     "output_type": "execute_result"
    }
   ],
   "source": [
    "clf_lr.best_score_"
   ]
  },
  {
   "cell_type": "markdown",
   "metadata": {
    "id": "0mOhsC3ct-F1"
   },
   "source": [
    "#### Grid Search"
   ]
  },
  {
   "cell_type": "code",
   "execution_count": null,
   "metadata": {
    "id": "pDn782d2t-MM"
   },
   "outputs": [],
   "source": [
    "reduce_parameters_lr = {\n",
    "    'penalty': ['l1', 'l2', 'elasticnet'],\n",
    "    'dual': [False, True],\n",
    "    'solver': ['newton-cg', 'lbfgs', 'liblinear', 'sag', 'saga'],\n",
    "    'tol': list(np.arange(0.0001, 0.001, 0.0001)),\n",
    "    'C': list(np.arange(0.15, 0.25, 0.01))\n",
    "}"
   ]
  },
  {
   "cell_type": "code",
   "execution_count": null,
   "metadata": {
    "colab": {
     "base_uri": "https://localhost:8080/"
    },
    "id": "TnRtSCJDx7vd",
    "outputId": "1dc5fc61-9bc7-4683-f5b9-89482f2da35b"
   },
   "outputs": [
    {
     "name": "stdout",
     "output_type": "stream",
     "text": [
      "seconds: 20.561787605285645\n"
     ]
    },
    {
     "data": {
      "text/plain": [
       "LogisticRegression(C=0.17, class_weight=None, dual=False, fit_intercept=True,\n",
       "                   intercept_scaling=1, l1_ratio=None, max_iter=100,\n",
       "                   multi_class='auto', n_jobs=None, penalty='l1',\n",
       "                   random_state=None, solver='saga', tol=0.0001, verbose=0,\n",
       "                   warm_start=False)"
      ]
     },
     "execution_count": 44,
     "metadata": {},
     "output_type": "execute_result"
    }
   ],
   "source": [
    "start_time = time.time()\n",
    "clf_grid_lr = GridSearchCV(estimator=LogisticRegression(), param_grid=reduce_parameters_lr, n_jobs=-1, scoring=['accuracy'], refit='accuracy')\n",
    "clf_grid_lr.fit(X_train, y_train)\n",
    "print(\"seconds:\", (time.time() - start_time))\n",
    "clf_grid_lr.best_estimator_"
   ]
  },
  {
   "cell_type": "code",
   "execution_count": null,
   "metadata": {
    "colab": {
     "base_uri": "https://localhost:8080/"
    },
    "id": "vMwtPlH-yIIO",
    "outputId": "03d00a14-afd0-44e9-a9c3-b0741586d08a"
   },
   "outputs": [
    {
     "data": {
      "text/plain": [
       "0.8992000000000001"
      ]
     },
     "execution_count": 45,
     "metadata": {},
     "output_type": "execute_result"
    }
   ],
   "source": [
    "clf_grid_lr.best_score_"
   ]
  },
  {
   "cell_type": "markdown",
   "metadata": {
    "id": "Y05WZ2WNFu5O"
   },
   "source": [
    "#### Metrics"
   ]
  },
  {
   "cell_type": "code",
   "execution_count": null,
   "metadata": {
    "colab": {
     "base_uri": "https://localhost:8080/"
    },
    "id": "gxvO6I2rFu-l",
    "outputId": "6ff441cd-bd1a-43ca-873a-c8faef474338"
   },
   "outputs": [
    {
     "name": "stdout",
     "output_type": "stream",
     "text": [
      "Model Precision: 0.9090909090909091\n",
      "Model Recall: 0.9210526315789473\n",
      "Model F1-score: 0.915032679738562\n"
     ]
    }
   ],
   "source": [
    "print(f\"Model Precision: {precision_score(y_test, clf_grid_lr.predict(X_test))}\")\n",
    "print(f\"Model Recall: {recall_score(y_test, clf_grid_lr.predict(X_test))}\")\n",
    "print(f\"Model F1-score: {f1_score(y_test, clf_grid_lr.predict(X_test))}\")"
   ]
  },
  {
   "cell_type": "markdown",
   "metadata": {
    "id": "To-S1CDJziWP"
   },
   "source": [
    "### KNN"
   ]
  },
  {
   "cell_type": "markdown",
   "metadata": {
    "id": "PbYY_W1xzko0"
   },
   "source": [
    "#### Random Search"
   ]
  },
  {
   "cell_type": "code",
   "execution_count": null,
   "metadata": {
    "id": "XhyD8eixzkuh"
   },
   "outputs": [],
   "source": [
    "parameters_knn = {\n",
    "    'n_neighbors': list(np.arange(1, 20, 2)),\n",
    "    'weights': ['uniform', 'distance'],\n",
    "    'algorithm': ['auto', 'ball_tree', 'kd_tree', 'brute'],\n",
    "    'leaf_size': list(np.arange(10, 50, 2)),\n",
    "    'p': list(np.arange(1, 10, 2))\n",
    "}"
   ]
  },
  {
   "cell_type": "code",
   "execution_count": null,
   "metadata": {
    "colab": {
     "base_uri": "https://localhost:8080/"
    },
    "id": "mFuuOdCyz6pF",
    "outputId": "4be7f20b-cbd9-4831-c782-d23b5d615199"
   },
   "outputs": [
    {
     "name": "stdout",
     "output_type": "stream",
     "text": [
      "seconds:  11.589252471923828\n"
     ]
    },
    {
     "data": {
      "text/plain": [
       "KNeighborsClassifier(algorithm='ball_tree', leaf_size=40, metric='minkowski',\n",
       "                     metric_params=None, n_jobs=None, n_neighbors=1, p=1,\n",
       "                     weights='distance')"
      ]
     },
     "execution_count": 47,
     "metadata": {},
     "output_type": "execute_result"
    }
   ],
   "source": [
    "start_time = time.time()\n",
    "clf_knn = RandomizedSearchCV(estimator=KNeighborsClassifier(), param_distributions=parameters_knn, n_iter=100, random_state=0, n_jobs=-1, scoring=['accuracy'], refit='accuracy')\n",
    "clf_knn.fit(X_train, y_train)\n",
    "print(\"seconds: \", (time.time() - start_time))\n",
    "clf_knn.best_estimator_"
   ]
  },
  {
   "cell_type": "code",
   "execution_count": null,
   "metadata": {
    "colab": {
     "base_uri": "https://localhost:8080/"
    },
    "id": "I9XeqQ1Rz6rq",
    "outputId": "0b1ac793-d773-4d16-ba50-51701a8aa0dd"
   },
   "outputs": [
    {
     "data": {
      "text/plain": [
       "0.8880000000000001"
      ]
     },
     "execution_count": 48,
     "metadata": {},
     "output_type": "execute_result"
    }
   ],
   "source": [
    "clf_lr.best_score_"
   ]
  },
  {
   "cell_type": "markdown",
   "metadata": {
    "id": "VXXU4MhozkzE"
   },
   "source": [
    "#### Grid Search"
   ]
  },
  {
   "cell_type": "code",
   "execution_count": null,
   "metadata": {
    "id": "qw-jIUF4zk4P"
   },
   "outputs": [],
   "source": [
    "reduce_parameters_knn = {\n",
    "    'n_neighbors': list(np.arange(1, 5, 1)),\n",
    "    'weights': ['distance'],\n",
    "    'algorithm': ['ball_tree'],\n",
    "    'leaf_size': list(np.arange(35, 45, 1)),\n",
    "    'p': list(np.arange(1, 5, 1))\n",
    "}"
   ]
  },
  {
   "cell_type": "code",
   "execution_count": null,
   "metadata": {
    "colab": {
     "base_uri": "https://localhost:8080/"
    },
    "id": "olazMIFu0FOm",
    "outputId": "1537e56c-8809-480a-8e65-46f63d856de8"
   },
   "outputs": [
    {
     "name": "stdout",
     "output_type": "stream",
     "text": [
      "seconds: 14.760700702667236\n"
     ]
    },
    {
     "data": {
      "text/plain": [
       "KNeighborsClassifier(algorithm='ball_tree', leaf_size=35, metric='minkowski',\n",
       "                     metric_params=None, n_jobs=None, n_neighbors=4, p=1,\n",
       "                     weights='distance')"
      ]
     },
     "execution_count": 50,
     "metadata": {},
     "output_type": "execute_result"
    }
   ],
   "source": [
    "start_time = time.time()\n",
    "clf_grid_knn = GridSearchCV(estimator=KNeighborsClassifier(), param_grid=reduce_parameters_knn, n_jobs=-1, scoring=['accuracy'], refit='accuracy')\n",
    "clf_grid_knn.fit(X_train, y_train)\n",
    "print(\"seconds:\", (time.time() - start_time))\n",
    "clf_grid_knn.best_estimator_"
   ]
  },
  {
   "cell_type": "code",
   "execution_count": null,
   "metadata": {
    "colab": {
     "base_uri": "https://localhost:8080/"
    },
    "id": "wdjn0knt0FQ6",
    "outputId": "5d4880f2-bd8d-43f5-c843-45bf2054e4ae"
   },
   "outputs": [
    {
     "data": {
      "text/plain": [
       "0.9248"
      ]
     },
     "execution_count": 51,
     "metadata": {},
     "output_type": "execute_result"
    }
   ],
   "source": [
    "clf_grid_knn.best_score_"
   ]
  },
  {
   "cell_type": "markdown",
   "metadata": {
    "id": "a2qZEDaXF3Ko"
   },
   "source": [
    "#### Metrics"
   ]
  },
  {
   "cell_type": "code",
   "execution_count": null,
   "metadata": {
    "colab": {
     "base_uri": "https://localhost:8080/"
    },
    "id": "0xPJ8-DXF4kn",
    "outputId": "c38a9fae-7a2c-4429-f05a-3d737c4ce6da"
   },
   "outputs": [
    {
     "name": "stdout",
     "output_type": "stream",
     "text": [
      "Model Precision: 0.925\n",
      "Model Recall: 0.9736842105263158\n",
      "Model F1-score: 0.9487179487179489\n"
     ]
    }
   ],
   "source": [
    "print(f\"Model Precision: {precision_score(y_test, clf_grid_knn.predict(X_test))}\")\n",
    "print(f\"Model Recall: {recall_score(y_test, clf_grid_knn.predict(X_test))}\")\n",
    "print(f\"Model F1-score: {f1_score(y_test, clf_grid_knn.predict(X_test))}\")"
   ]
  },
  {
   "cell_type": "markdown",
   "metadata": {
    "id": "kOXEy7Pm17RN"
   },
   "source": [
    "### SVM"
   ]
  },
  {
   "cell_type": "markdown",
   "metadata": {
    "id": "n2xe4sVA17YH"
   },
   "source": [
    "#### Random Search"
   ]
  },
  {
   "cell_type": "code",
   "execution_count": null,
   "metadata": {
    "id": "5lX_TKdG17eG"
   },
   "outputs": [],
   "source": [
    "parameters_svm = {\n",
    "    'C': list(np.arange(0.1, 2, 0.1)),\n",
    "    'kernel': ['rbf', 'sigmoid'],\n",
    "    'degree': list(np.arange(1, 11, 2)),\n",
    "    'gamma': ['scale', 'auto'],\n",
    "    'tol': list(np.arange(0.00001, 0.001, 0.00001))\n",
    "}"
   ]
  },
  {
   "cell_type": "code",
   "execution_count": null,
   "metadata": {
    "colab": {
     "base_uri": "https://localhost:8080/"
    },
    "id": "40HXVcap18LQ",
    "outputId": "67a1b957-634b-48d7-a15c-56c1e29c7a55"
   },
   "outputs": [
    {
     "name": "stdout",
     "output_type": "stream",
     "text": [
      "seconds:  4.14874005317688\n"
     ]
    },
    {
     "data": {
      "text/plain": [
       "SVC(C=0.9, break_ties=False, cache_size=200, class_weight=None, coef0=0.0,\n",
       "    decision_function_shape='ovr', degree=7, gamma='scale', kernel='rbf',\n",
       "    max_iter=-1, probability=False, random_state=None, shrinking=True,\n",
       "    tol=0.0006200000000000001, verbose=False)"
      ]
     },
     "execution_count": 53,
     "metadata": {},
     "output_type": "execute_result"
    }
   ],
   "source": [
    "start_time = time.time()\n",
    "clf_svm = RandomizedSearchCV(estimator=SVC(), param_distributions=parameters_svm, n_iter=100, random_state=0, n_jobs=-1, scoring=['accuracy'], refit='accuracy')\n",
    "clf_svm.fit(X_train, y_train)\n",
    "print(\"seconds: \", (time.time() - start_time))\n",
    "clf_svm.best_estimator_"
   ]
  },
  {
   "cell_type": "code",
   "execution_count": null,
   "metadata": {
    "colab": {
     "base_uri": "https://localhost:8080/"
    },
    "id": "ACDcODoE18Ne",
    "outputId": "6e411337-d746-4669-8f9d-bd063ad15137"
   },
   "outputs": [
    {
     "data": {
      "text/plain": [
       "0.8800000000000001"
      ]
     },
     "execution_count": 54,
     "metadata": {},
     "output_type": "execute_result"
    }
   ],
   "source": [
    "clf_svm.best_score_"
   ]
  },
  {
   "cell_type": "markdown",
   "metadata": {
    "id": "X0RAK_lx17ky"
   },
   "source": [
    "#### Grid Search"
   ]
  },
  {
   "cell_type": "code",
   "execution_count": null,
   "metadata": {
    "id": "vmYEOQ852Gif"
   },
   "outputs": [],
   "source": [
    "reduce_parameters_svm = {\n",
    "    'C': list(np.arange(0.6, 1.4, 0.1)),\n",
    "    'kernel': ['rbf'],\n",
    "    'degree': list(np.arange(4, 9, 1)),\n",
    "    'gamma': ['scale', 'auto'],\n",
    "    'tol': list(np.arange(0.0003, 0.0009, 0.0001))\n",
    "}"
   ]
  },
  {
   "cell_type": "code",
   "execution_count": null,
   "metadata": {
    "colab": {
     "base_uri": "https://localhost:8080/"
    },
    "id": "vfVxOkgc2Gk9",
    "outputId": "1d7fecf7-d37b-4386-e108-6e7ff1c05afc"
   },
   "outputs": [
    {
     "name": "stdout",
     "output_type": "stream",
     "text": [
      "seconds: 17.00518822669983\n"
     ]
    },
    {
     "data": {
      "text/plain": [
       "SVC(C=0.8999999999999999, break_ties=False, cache_size=200, class_weight=None,\n",
       "    coef0=0.0, decision_function_shape='ovr', degree=4, gamma='scale',\n",
       "    kernel='rbf', max_iter=-1, probability=False, random_state=None,\n",
       "    shrinking=True, tol=0.0003, verbose=False)"
      ]
     },
     "execution_count": 56,
     "metadata": {},
     "output_type": "execute_result"
    }
   ],
   "source": [
    "start_time = time.time()\n",
    "clf_grid_svm = GridSearchCV(estimator=SVC(), param_grid=reduce_parameters_svm, n_jobs=-1, scoring=['accuracy'], refit='accuracy')\n",
    "clf_grid_svm.fit(X_train, y_train)\n",
    "print(\"seconds:\", (time.time() - start_time))\n",
    "clf_grid_svm.best_estimator_"
   ]
  },
  {
   "cell_type": "code",
   "execution_count": null,
   "metadata": {
    "colab": {
     "base_uri": "https://localhost:8080/"
    },
    "id": "1HhAzYz62GnO",
    "outputId": "85d742d9-8076-4987-a467-c9c88750592b"
   },
   "outputs": [
    {
     "data": {
      "text/plain": [
       "0.8800000000000001"
      ]
     },
     "execution_count": 57,
     "metadata": {},
     "output_type": "execute_result"
    }
   ],
   "source": [
    "clf_grid_svm.best_score_"
   ]
  },
  {
   "cell_type": "markdown",
   "metadata": {
    "id": "S_wAeI5QGA9O"
   },
   "source": [
    "#### Metrics"
   ]
  },
  {
   "cell_type": "code",
   "execution_count": null,
   "metadata": {
    "colab": {
     "base_uri": "https://localhost:8080/"
    },
    "id": "ZhZhVFHpGCZP",
    "outputId": "ef570458-72a3-4060-f35d-3ee058eb672f"
   },
   "outputs": [
    {
     "name": "stdout",
     "output_type": "stream",
     "text": [
      "Model Precision: 0.8805970149253731\n",
      "Model Recall: 0.7763157894736842\n",
      "Model F1-score: 0.8251748251748251\n"
     ]
    }
   ],
   "source": [
    "print(f\"Model Precision: {precision_score(y_test, clf_grid_svm.predict(X_test))}\")\n",
    "print(f\"Model Recall: {recall_score(y_test, clf_grid_svm.predict(X_test))}\")\n",
    "print(f\"Model F1-score: {f1_score(y_test, clf_grid_svm.predict(X_test))}\")"
   ]
  },
  {
   "cell_type": "markdown",
   "metadata": {
    "id": "n2AA2Rl87Msh"
   },
   "source": [
    "### Adaboost"
   ]
  },
  {
   "cell_type": "markdown",
   "metadata": {
    "id": "Qe1TX9KI7Mzk"
   },
   "source": [
    "#### Random Search"
   ]
  },
  {
   "cell_type": "code",
   "execution_count": null,
   "metadata": {
    "id": "BiZ4dCYR7NAm"
   },
   "outputs": [],
   "source": [
    "parameters_a = {\n",
    "    'n_estimators': list(np.arange(20, 80, 3)),\n",
    "    'learning_rate': list(np.arange(0.1, 2, 0.2)),\n",
    "    'algorithm': ['SAMME', 'SAMME.R'],\n",
    "}"
   ]
  },
  {
   "cell_type": "code",
   "execution_count": null,
   "metadata": {
    "colab": {
     "base_uri": "https://localhost:8080/"
    },
    "id": "2HbYVoMX7NE0",
    "outputId": "a9f2510c-c668-4ae8-d64e-11e9cf2319fc"
   },
   "outputs": [
    {
     "name": "stdout",
     "output_type": "stream",
     "text": [
      "seconds:  39.58023953437805\n"
     ]
    },
    {
     "data": {
      "text/plain": [
       "AdaBoostClassifier(algorithm='SAMME.R', base_estimator=None,\n",
       "                   learning_rate=0.30000000000000004, n_estimators=59,\n",
       "                   random_state=None)"
      ]
     },
     "execution_count": 59,
     "metadata": {},
     "output_type": "execute_result"
    }
   ],
   "source": [
    "start_time = time.time()\n",
    "clf_a = RandomizedSearchCV(estimator=AdaBoostClassifier(), param_distributions=parameters_a, n_iter=100, random_state=0, n_jobs=-1, scoring=['accuracy'], refit='accuracy')\n",
    "clf_a.fit(X_train, y_train)\n",
    "print(\"seconds: \", (time.time() - start_time))\n",
    "clf_a.best_estimator_"
   ]
  },
  {
   "cell_type": "code",
   "execution_count": null,
   "metadata": {
    "colab": {
     "base_uri": "https://localhost:8080/"
    },
    "id": "XtH7FGn57NIi",
    "outputId": "803fb589-af58-439d-acd3-0f4e36c6bf61"
   },
   "outputs": [
    {
     "data": {
      "text/plain": [
       "0.9024000000000001"
      ]
     },
     "execution_count": 60,
     "metadata": {},
     "output_type": "execute_result"
    }
   ],
   "source": [
    "clf_a.best_score_"
   ]
  },
  {
   "cell_type": "markdown",
   "metadata": {
    "id": "yQ14Jr2H7NXe"
   },
   "source": [
    "#### Grid Search"
   ]
  },
  {
   "cell_type": "code",
   "execution_count": null,
   "metadata": {
    "id": "n89yvoPu7NlW"
   },
   "outputs": [],
   "source": [
    "reduce_parameters_a = {\n",
    "    'n_estimators': list(np.arange(50, 70, 1)),\n",
    "    'learning_rate': list(np.arange(0.1, 1, 0.1)),\n",
    "    'algorithm': ['SAMME.R']\n",
    "}"
   ]
  },
  {
   "cell_type": "code",
   "execution_count": null,
   "metadata": {
    "colab": {
     "base_uri": "https://localhost:8080/"
    },
    "id": "cOqtv3UJ7NoU",
    "outputId": "6c328edf-00fa-4d3e-f0c2-1cac8cd5ec4f"
   },
   "outputs": [
    {
     "name": "stdout",
     "output_type": "stream",
     "text": [
      "seconds: 94.24589776992798\n"
     ]
    },
    {
     "data": {
      "text/plain": [
       "AdaBoostClassifier(algorithm='SAMME.R', base_estimator=None, learning_rate=0.1,\n",
       "                   n_estimators=61, random_state=None)"
      ]
     },
     "execution_count": 62,
     "metadata": {},
     "output_type": "execute_result"
    }
   ],
   "source": [
    "start_time = time.time()\n",
    "clf_grid_a = GridSearchCV(estimator=AdaBoostClassifier(), param_grid=reduce_parameters_a, n_jobs=-1, scoring=['accuracy'], refit='accuracy')\n",
    "clf_grid_a.fit(X_train, y_train)\n",
    "print(\"seconds:\", (time.time() - start_time))\n",
    "clf_grid_a.best_estimator_"
   ]
  },
  {
   "cell_type": "code",
   "execution_count": null,
   "metadata": {
    "colab": {
     "base_uri": "https://localhost:8080/"
    },
    "id": "_15QZXnc7Nsn",
    "outputId": "35a74ed1-d934-4aa1-acaf-6af50f7533b0"
   },
   "outputs": [
    {
     "data": {
      "text/plain": [
       "0.9072000000000001"
      ]
     },
     "execution_count": 63,
     "metadata": {},
     "output_type": "execute_result"
    }
   ],
   "source": [
    "clf_grid_a.best_score_"
   ]
  },
  {
   "cell_type": "markdown",
   "metadata": {
    "id": "FQd65ImkGJTW"
   },
   "source": [
    "#### Metrics"
   ]
  },
  {
   "cell_type": "code",
   "execution_count": null,
   "metadata": {
    "colab": {
     "base_uri": "https://localhost:8080/"
    },
    "id": "H4ZSoYzuGK3m",
    "outputId": "3ea4b2a6-758c-44b2-f5c5-e075b53ea395"
   },
   "outputs": [
    {
     "name": "stdout",
     "output_type": "stream",
     "text": [
      "Model Precision: 0.9\n",
      "Model Recall: 0.9473684210526315\n",
      "Model F1-score: 0.9230769230769231\n"
     ]
    }
   ],
   "source": [
    "print(f\"Model Precision: {precision_score(y_test, clf_grid_a.predict(X_test))}\")\n",
    "print(f\"Model Recall: {recall_score(y_test, clf_grid_a.predict(X_test))}\")\n",
    "print(f\"Model F1-score: {f1_score(y_test, clf_grid_a.predict(X_test))}\")"
   ]
  },
  {
   "cell_type": "markdown",
   "metadata": {
    "id": "RrlHfV2G90bc"
   },
   "source": [
    "### XGBoost"
   ]
  },
  {
   "cell_type": "markdown",
   "metadata": {
    "id": "UVGIJ1WK91GR"
   },
   "source": [
    "#### Random Search"
   ]
  },
  {
   "cell_type": "code",
   "execution_count": null,
   "metadata": {
    "id": "xRQHszPL91gN"
   },
   "outputs": [],
   "source": [
    "parameters_xgb = {\n",
    "    'max_depth': list(np.arange(1, 11, 3)),\n",
    "    'learning_rate': list(np.arange(0.1, 2, 0.2)),\n",
    "    'n_estimators': list(np.arange(80, 120, 3)),\n",
    "    'booster': ['gbtree', 'gblinear', 'dart']\n",
    "}"
   ]
  },
  {
   "cell_type": "code",
   "execution_count": null,
   "metadata": {
    "colab": {
     "base_uri": "https://localhost:8080/"
    },
    "id": "R0mbHtki91kL",
    "outputId": "982fb16b-a63c-4dbf-cdfd-665d30d2c135"
   },
   "outputs": [
    {
     "name": "stdout",
     "output_type": "stream",
     "text": [
      "seconds:  26.482709646224976\n"
     ]
    },
    {
     "data": {
      "text/plain": [
       "XGBClassifier(base_score=0.5, booster='dart', colsample_bylevel=1,\n",
       "              colsample_bynode=1, colsample_bytree=1, gamma=0,\n",
       "              learning_rate=1.3000000000000003, max_delta_step=0, max_depth=7,\n",
       "              min_child_weight=1, missing=None, n_estimators=104, n_jobs=1,\n",
       "              nthread=None, objective='binary:logistic', random_state=0,\n",
       "              reg_alpha=0, reg_lambda=1, scale_pos_weight=1, seed=None,\n",
       "              silent=None, subsample=1, verbosity=1)"
      ]
     },
     "execution_count": 65,
     "metadata": {},
     "output_type": "execute_result"
    }
   ],
   "source": [
    "start_time = time.time()\n",
    "clf_xgb = RandomizedSearchCV(estimator=xgb.XGBClassifier(), param_distributions=parameters_xgb, n_iter=100, random_state=0, n_jobs=-1, scoring=['accuracy'], refit='accuracy')\n",
    "clf_xgb.fit(X_train, y_train)\n",
    "print(\"seconds: \", (time.time() - start_time))\n",
    "clf_xgb.best_estimator_"
   ]
  },
  {
   "cell_type": "code",
   "execution_count": null,
   "metadata": {
    "colab": {
     "base_uri": "https://localhost:8080/"
    },
    "id": "DLou-58F91on",
    "outputId": "46e31d31-8e76-4f84-fbda-9228a0a376a2"
   },
   "outputs": [
    {
     "data": {
      "text/plain": [
       "0.9232000000000001"
      ]
     },
     "execution_count": 66,
     "metadata": {},
     "output_type": "execute_result"
    }
   ],
   "source": [
    "clf_xgb.best_score_"
   ]
  },
  {
   "cell_type": "markdown",
   "metadata": {
    "id": "Vhp3PnVq91xE"
   },
   "source": [
    "#### Grid Search"
   ]
  },
  {
   "cell_type": "code",
   "execution_count": null,
   "metadata": {
    "id": "GMmej_K-9172"
   },
   "outputs": [],
   "source": [
    "reduce_parameters_xgb = {\n",
    "    'max_depth': list(np.arange(5, 10, 1)),\n",
    "    'learning_rate': list(np.arange(1, 2, 0.1)),\n",
    "    'n_estimators': list(np.arange(100, 110, 1)),\n",
    "    'booster': ['dart']\n",
    "}"
   ]
  },
  {
   "cell_type": "code",
   "execution_count": null,
   "metadata": {
    "colab": {
     "base_uri": "https://localhost:8080/"
    },
    "id": "-IAAYaHh92AM",
    "outputId": "1ebcd4ee-c29e-4d27-ef35-4ec27f04d145"
   },
   "outputs": [
    {
     "name": "stdout",
     "output_type": "stream",
     "text": [
      "seconds: 251.063729763031\n"
     ]
    },
    {
     "data": {
      "text/plain": [
       "XGBClassifier(base_score=0.5, booster='dart', colsample_bylevel=1,\n",
       "              colsample_bynode=1, colsample_bytree=1, gamma=0,\n",
       "              learning_rate=1.0, max_delta_step=0, max_depth=5,\n",
       "              min_child_weight=1, missing=None, n_estimators=100, n_jobs=1,\n",
       "              nthread=None, objective='binary:logistic', random_state=0,\n",
       "              reg_alpha=0, reg_lambda=1, scale_pos_weight=1, seed=None,\n",
       "              silent=None, subsample=1, verbosity=1)"
      ]
     },
     "execution_count": 68,
     "metadata": {},
     "output_type": "execute_result"
    }
   ],
   "source": [
    "start_time = time.time()\n",
    "clf_grid_xgb = GridSearchCV(estimator=xgb.XGBClassifier(), param_grid=reduce_parameters_xgb, n_jobs=-1, scoring=['accuracy'], refit='accuracy')\n",
    "clf_grid_xgb.fit(X_train, y_train)\n",
    "print(\"seconds:\", (time.time() - start_time))\n",
    "clf_grid_xgb.best_estimator_"
   ]
  },
  {
   "cell_type": "code",
   "execution_count": null,
   "metadata": {
    "colab": {
     "base_uri": "https://localhost:8080/"
    },
    "id": "9fkZzHBU92EA",
    "outputId": "03ef0e9c-1d2a-4e7d-a477-58345beb212d"
   },
   "outputs": [
    {
     "data": {
      "text/plain": [
       "0.9232000000000001"
      ]
     },
     "execution_count": 69,
     "metadata": {},
     "output_type": "execute_result"
    }
   ],
   "source": [
    "clf_grid_xgb.best_score_"
   ]
  },
  {
   "cell_type": "markdown",
   "metadata": {
    "id": "dS-2zg5_GPUg"
   },
   "source": [
    "#### Metrics"
   ]
  },
  {
   "cell_type": "code",
   "execution_count": null,
   "metadata": {
    "colab": {
     "base_uri": "https://localhost:8080/"
    },
    "id": "E47LaNBZGRB3",
    "outputId": "fd6410cf-ab96-456e-9fac-7f72636cfe65"
   },
   "outputs": [
    {
     "name": "stdout",
     "output_type": "stream",
     "text": [
      "Model Precision: 0.8860759493670886\n",
      "Model Recall: 0.9210526315789473\n",
      "Model F1-score: 0.9032258064516129\n"
     ]
    }
   ],
   "source": [
    "print(f\"Model Precision: {precision_score(y_test, clf_grid_xgb.predict(X_test))}\")\n",
    "print(f\"Model Recall: {recall_score(y_test, clf_grid_xgb.predict(X_test))}\")\n",
    "print(f\"Model F1-score: {f1_score(y_test, clf_grid_xgb.predict(X_test))}\")"
   ]
  },
  {
   "cell_type": "markdown",
   "metadata": {
    "id": "9tg1r75TGVxG"
   },
   "source": [
    "## 7 - Conclusiones"
   ]
  },
  {
   "cell_type": "code",
   "execution_count": null,
   "metadata": {
    "colab": {
     "base_uri": "https://localhost:8080/",
     "height": 110
    },
    "id": "QpRtS695_i14",
    "outputId": "0b07a835-b638-4075-e0c5-c03f0e8af6db"
   },
   "outputs": [
    {
     "data": {
      "text/html": [
       "<div>\n",
       "<style scoped>\n",
       "    .dataframe tbody tr th:only-of-type {\n",
       "        vertical-align: middle;\n",
       "    }\n",
       "\n",
       "    .dataframe tbody tr th {\n",
       "        vertical-align: top;\n",
       "    }\n",
       "\n",
       "    .dataframe thead th {\n",
       "        text-align: right;\n",
       "    }\n",
       "</style>\n",
       "<table border=\"1\" class=\"dataframe\">\n",
       "  <thead>\n",
       "    <tr style=\"text-align: right;\">\n",
       "      <th></th>\n",
       "      <th>Decision Tree</th>\n",
       "      <th>Random Forest</th>\n",
       "      <th>Regresion Logistica</th>\n",
       "      <th>KNN</th>\n",
       "      <th>SVM</th>\n",
       "      <th>Adaboost</th>\n",
       "      <th>XGBoost</th>\n",
       "    </tr>\n",
       "  </thead>\n",
       "  <tbody>\n",
       "    <tr>\n",
       "      <th>Random Search</th>\n",
       "      <td>0.8832</td>\n",
       "      <td>0.9136</td>\n",
       "      <td>0.8880</td>\n",
       "      <td>0.9216</td>\n",
       "      <td>0.88</td>\n",
       "      <td>0.9024</td>\n",
       "      <td>0.9232</td>\n",
       "    </tr>\n",
       "    <tr>\n",
       "      <th>Grid Search</th>\n",
       "      <td>0.8848</td>\n",
       "      <td>0.9104</td>\n",
       "      <td>0.8992</td>\n",
       "      <td>0.9248</td>\n",
       "      <td>0.88</td>\n",
       "      <td>0.9072</td>\n",
       "      <td>0.9232</td>\n",
       "    </tr>\n",
       "  </tbody>\n",
       "</table>\n",
       "</div>"
      ],
      "text/plain": [
       "               Decision Tree  Random Forest  ...  Adaboost  XGBoost\n",
       "Random Search         0.8832         0.9136  ...    0.9024   0.9232\n",
       "Grid Search           0.8848         0.9104  ...    0.9072   0.9232\n",
       "\n",
       "[2 rows x 7 columns]"
      ]
     },
     "execution_count": 72,
     "metadata": {},
     "output_type": "execute_result"
    }
   ],
   "source": [
    "pd.DataFrame(data=[[clf_dt.best_score_,clf_rf.best_score_,clf_lr.best_score_,clf_knn.best_score_,clf_svm.best_score_,clf_a.best_score_,clf_xgb.best_score_],\\\n",
    "                           [clf_grid_dt.best_score_, clf_grid_rf.best_score_, clf_grid_lr.best_score_, clf_grid_knn.best_score_, clf_grid_svm.best_score_, clf_grid_a.best_score_, clf_grid_xgb.best_score_]],\\\n",
    "                      index=['Random Search', 'Grid Search'], columns=['Decision Tree', 'Random Forest', 'Regresion Logistica', 'KNN', 'SVM', 'Adaboost', 'XGBoost'])"
   ]
  },
  {
   "cell_type": "code",
   "execution_count": null,
   "metadata": {
    "colab": {
     "base_uri": "https://localhost:8080/",
     "height": 141
    },
    "id": "MZMlrHI0Ev0P",
    "outputId": "de900e45-1064-4e31-c503-89d3c0373e7a"
   },
   "outputs": [
    {
     "data": {
      "text/html": [
       "<div>\n",
       "<style scoped>\n",
       "    .dataframe tbody tr th:only-of-type {\n",
       "        vertical-align: middle;\n",
       "    }\n",
       "\n",
       "    .dataframe tbody tr th {\n",
       "        vertical-align: top;\n",
       "    }\n",
       "\n",
       "    .dataframe thead th {\n",
       "        text-align: right;\n",
       "    }\n",
       "</style>\n",
       "<table border=\"1\" class=\"dataframe\">\n",
       "  <thead>\n",
       "    <tr style=\"text-align: right;\">\n",
       "      <th></th>\n",
       "      <th>Decision Tree</th>\n",
       "      <th>Random Forest</th>\n",
       "      <th>Regresion Logistica</th>\n",
       "      <th>KNN</th>\n",
       "      <th>SVM</th>\n",
       "      <th>Adaboost</th>\n",
       "      <th>XGBoost</th>\n",
       "    </tr>\n",
       "  </thead>\n",
       "  <tbody>\n",
       "    <tr>\n",
       "      <th>Precision</th>\n",
       "      <td>0.842857</td>\n",
       "      <td>0.884615</td>\n",
       "      <td>0.909091</td>\n",
       "      <td>0.925000</td>\n",
       "      <td>0.880597</td>\n",
       "      <td>0.900000</td>\n",
       "      <td>0.886076</td>\n",
       "    </tr>\n",
       "    <tr>\n",
       "      <th>Recall</th>\n",
       "      <td>0.776316</td>\n",
       "      <td>0.907895</td>\n",
       "      <td>0.921053</td>\n",
       "      <td>0.973684</td>\n",
       "      <td>0.776316</td>\n",
       "      <td>0.947368</td>\n",
       "      <td>0.921053</td>\n",
       "    </tr>\n",
       "    <tr>\n",
       "      <th>F1-Score</th>\n",
       "      <td>0.808219</td>\n",
       "      <td>0.896104</td>\n",
       "      <td>0.915033</td>\n",
       "      <td>0.948718</td>\n",
       "      <td>0.825175</td>\n",
       "      <td>0.923077</td>\n",
       "      <td>0.903226</td>\n",
       "    </tr>\n",
       "  </tbody>\n",
       "</table>\n",
       "</div>"
      ],
      "text/plain": [
       "           Decision Tree  Random Forest  ...  Adaboost   XGBoost\n",
       "Precision       0.842857       0.884615  ...  0.900000  0.886076\n",
       "Recall          0.776316       0.907895  ...  0.947368  0.921053\n",
       "F1-Score        0.808219       0.896104  ...  0.923077  0.903226\n",
       "\n",
       "[3 rows x 7 columns]"
      ]
     },
     "execution_count": 82,
     "metadata": {},
     "output_type": "execute_result"
    }
   ],
   "source": [
    "pd.DataFrame(data=[[precision_score(y_test, clf_grid_dt.predict(X_test)), precision_score(y_test, clf_grid_rf.predict(X_test)), precision_score(y_test, clf_grid_lr.predict(X_test)), precision_score(y_test, clf_grid_knn.predict(X_test)), precision_score(y_test, clf_grid_svm.predict(X_test)), precision_score(y_test, clf_grid_a.predict(X_test)), precision_score(y_test, clf_grid_xgb.predict(X_test))],\\\n",
    "                   [recall_score(y_test, clf_grid_dt.predict(X_test)), recall_score(y_test, clf_grid_rf.predict(X_test)), recall_score(y_test, clf_grid_lr.predict(X_test)), recall_score(y_test, clf_grid_knn.predict(X_test)), recall_score(y_test, clf_grid_svm.predict(X_test)), recall_score(y_test, clf_grid_a.predict(X_test)), recall_score(y_test, clf_grid_xgb.predict(X_test))],\\\n",
    "                   [f1_score(y_test, clf_grid_dt.predict(X_test)), f1_score(y_test, clf_grid_rf.predict(X_test)), f1_score(y_test, clf_grid_lr.predict(X_test)), f1_score(y_test, clf_grid_knn.predict(X_test)), f1_score(y_test, clf_grid_svm.predict(X_test)), f1_score(y_test, clf_grid_a.predict(X_test)), f1_score(y_test, clf_grid_xgb.predict(X_test))]],\\\n",
    "             index=['Precision', 'Recall', 'F1-Score'], columns=['Decision Tree', 'Random Forest', 'Regresion Logistica', 'KNN', 'SVM', 'Adaboost', 'XGBoost'])"
   ]
  },
  {
   "cell_type": "markdown",
   "metadata": {
    "id": "S9oantBgIpKo"
   },
   "source": [
    "En el presente trabajo me he familiarizado con las herramientas de optimizacion de hiperparametros de los distintos clasificadores vistos en clase. Se pueden observar los buenos resultados que se obtienen al implementar estas tecnicas  y su facil implentacion."
   ]
  },
  {
   "cell_type": "code",
   "execution_count": null,
   "metadata": {
    "id": "AdU2kda1JcJ9"
   },
   "outputs": [],
   "source": []
  }
 ],
 "metadata": {
  "accelerator": "GPU",
  "colab": {
   "collapsed_sections": [],
   "name": "Optimización de Hiperparámetros",
   "provenance": [],
   "toc_visible": true
  },
  "kernelspec": {
   "display_name": "Python 3 (ipykernel)",
   "language": "python",
   "name": "python3"
  },
  "language_info": {
   "codemirror_mode": {
    "name": "ipython",
    "version": 3
   },
   "file_extension": ".py",
   "mimetype": "text/x-python",
   "name": "python",
   "nbconvert_exporter": "python",
   "pygments_lexer": "ipython3",
   "version": "3.8.13"
  }
 },
 "nbformat": 4,
 "nbformat_minor": 1
}
