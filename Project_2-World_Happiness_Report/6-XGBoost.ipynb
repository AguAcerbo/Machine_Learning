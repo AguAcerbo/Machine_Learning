{
 "cells": [
  {
   "cell_type": "code",
   "execution_count": 1,
   "metadata": {
    "executionInfo": {
     "elapsed": 805,
     "status": "ok",
     "timestamp": 1635728415320,
     "user": {
      "displayName": "Agustin Acerbo",
      "photoUrl": "https://lh3.googleusercontent.com/a-/AOh14GiFUHlal2m-HqrdHQGftXlBFKZBOGaIXX61S4e_MQ=s64",
      "userId": "11845685418075358694"
     },
     "user_tz": 180
    },
    "id": "G8eZPTxy7aDk"
   },
   "outputs": [],
   "source": [
    "import pandas as pd\n",
    "import numpy as np\n",
    "from scipy import stats\n",
    "import matplotlib.pyplot as plt\n",
    "import os\n",
    "import seaborn as sns"
   ]
  },
  {
   "cell_type": "code",
   "execution_count": 5,
   "metadata": {
    "executionInfo": {
     "elapsed": 826,
     "status": "ok",
     "timestamp": 1635728449682,
     "user": {
      "displayName": "Agustin Acerbo",
      "photoUrl": "https://lh3.googleusercontent.com/a-/AOh14GiFUHlal2m-HqrdHQGftXlBFKZBOGaIXX61S4e_MQ=s64",
      "userId": "11845685418075358694"
     },
     "user_tz": 180
    },
    "id": "8cSgYfb47eRO"
   },
   "outputs": [],
   "source": [
    "ds = pd.read_csv('/content/drive/MyDrive/Colab Notebooks/MachineLearningII/ds_final.csv')"
   ]
  },
  {
   "cell_type": "code",
   "execution_count": 6,
   "metadata": {
    "colab": {
     "base_uri": "https://localhost:8080/"
    },
    "executionInfo": {
     "elapsed": 13,
     "status": "ok",
     "timestamp": 1635728450715,
     "user": {
      "displayName": "Agustin Acerbo",
      "photoUrl": "https://lh3.googleusercontent.com/a-/AOh14GiFUHlal2m-HqrdHQGftXlBFKZBOGaIXX61S4e_MQ=s64",
      "userId": "11845685418075358694"
     },
     "user_tz": 180
    },
    "id": "gbAZpT6R7eWM",
    "outputId": "d1f172a7-3dc9-47b8-be8a-ca18a1cbe568"
   },
   "outputs": [
    {
     "name": "stdout",
     "output_type": "stream",
     "text": [
      "<class 'pandas.core.frame.DataFrame'>\n",
      "RangeIndex: 782 entries, 0 to 781\n",
      "Data columns (total 9 columns):\n",
      " #   Column                     Non-Null Count  Dtype  \n",
      "---  ------                     --------------  -----  \n",
      " 0   Year                       782 non-null    float64\n",
      " 1   Country                    782 non-null    object \n",
      " 2   Happiness Score            782 non-null    float64\n",
      " 3   GDP per Capita             782 non-null    float64\n",
      " 4   Life Expectancy            782 non-null    float64\n",
      " 5   Freedom                    782 non-null    float64\n",
      " 6   Perceptions of corruption  782 non-null    float64\n",
      " 7   Generosity                 782 non-null    float64\n",
      " 8   Region                     782 non-null    object \n",
      "dtypes: float64(7), object(2)\n",
      "memory usage: 55.1+ KB\n"
     ]
    }
   ],
   "source": [
    "ds.info()"
   ]
  },
  {
   "cell_type": "code",
   "execution_count": 7,
   "metadata": {
    "colab": {
     "base_uri": "https://localhost:8080/",
     "height": 318
    },
    "executionInfo": {
     "elapsed": 317,
     "status": "ok",
     "timestamp": 1635728453580,
     "user": {
      "displayName": "Agustin Acerbo",
      "photoUrl": "https://lh3.googleusercontent.com/a-/AOh14GiFUHlal2m-HqrdHQGftXlBFKZBOGaIXX61S4e_MQ=s64",
      "userId": "11845685418075358694"
     },
     "user_tz": 180
    },
    "id": "z1TRqDEQAvYk",
    "outputId": "94e76bd3-8b8b-4c35-fc37-3cc00f481e19"
   },
   "outputs": [
    {
     "data": {
      "text/html": [
       "<div>\n",
       "<style scoped>\n",
       "    .dataframe tbody tr th:only-of-type {\n",
       "        vertical-align: middle;\n",
       "    }\n",
       "\n",
       "    .dataframe tbody tr th {\n",
       "        vertical-align: top;\n",
       "    }\n",
       "\n",
       "    .dataframe thead th {\n",
       "        text-align: right;\n",
       "    }\n",
       "</style>\n",
       "<table border=\"1\" class=\"dataframe\">\n",
       "  <thead>\n",
       "    <tr style=\"text-align: right;\">\n",
       "      <th></th>\n",
       "      <th>Year</th>\n",
       "      <th>Country</th>\n",
       "      <th>Happiness Score</th>\n",
       "      <th>GDP per Capita</th>\n",
       "      <th>Life Expectancy</th>\n",
       "      <th>Freedom</th>\n",
       "      <th>Perceptions of corruption</th>\n",
       "      <th>Generosity</th>\n",
       "      <th>Region</th>\n",
       "    </tr>\n",
       "  </thead>\n",
       "  <tbody>\n",
       "    <tr>\n",
       "      <th>0</th>\n",
       "      <td>2015.0</td>\n",
       "      <td>Switzerland</td>\n",
       "      <td>7.587</td>\n",
       "      <td>1.39651</td>\n",
       "      <td>0.94143</td>\n",
       "      <td>0.66557</td>\n",
       "      <td>0.41978</td>\n",
       "      <td>0.29678</td>\n",
       "      <td>Western Europe</td>\n",
       "    </tr>\n",
       "    <tr>\n",
       "      <th>1</th>\n",
       "      <td>2015.0</td>\n",
       "      <td>Iceland</td>\n",
       "      <td>7.561</td>\n",
       "      <td>1.30232</td>\n",
       "      <td>0.94784</td>\n",
       "      <td>0.62877</td>\n",
       "      <td>0.14145</td>\n",
       "      <td>0.43630</td>\n",
       "      <td>Western Europe</td>\n",
       "    </tr>\n",
       "    <tr>\n",
       "      <th>2</th>\n",
       "      <td>2015.0</td>\n",
       "      <td>Denmark</td>\n",
       "      <td>7.527</td>\n",
       "      <td>1.32548</td>\n",
       "      <td>0.87464</td>\n",
       "      <td>0.64938</td>\n",
       "      <td>0.48357</td>\n",
       "      <td>0.34139</td>\n",
       "      <td>Western Europe</td>\n",
       "    </tr>\n",
       "    <tr>\n",
       "      <th>3</th>\n",
       "      <td>2015.0</td>\n",
       "      <td>Norway</td>\n",
       "      <td>7.522</td>\n",
       "      <td>1.45900</td>\n",
       "      <td>0.88521</td>\n",
       "      <td>0.66973</td>\n",
       "      <td>0.36503</td>\n",
       "      <td>0.34699</td>\n",
       "      <td>Western Europe</td>\n",
       "    </tr>\n",
       "    <tr>\n",
       "      <th>4</th>\n",
       "      <td>2015.0</td>\n",
       "      <td>Canada</td>\n",
       "      <td>7.427</td>\n",
       "      <td>1.32629</td>\n",
       "      <td>0.90563</td>\n",
       "      <td>0.63297</td>\n",
       "      <td>0.32957</td>\n",
       "      <td>0.45811</td>\n",
       "      <td>North America</td>\n",
       "    </tr>\n",
       "  </tbody>\n",
       "</table>\n",
       "</div>"
      ],
      "text/plain": [
       "     Year      Country  ...  Generosity          Region\n",
       "0  2015.0  Switzerland  ...     0.29678  Western Europe\n",
       "1  2015.0      Iceland  ...     0.43630  Western Europe\n",
       "2  2015.0      Denmark  ...     0.34139  Western Europe\n",
       "3  2015.0       Norway  ...     0.34699  Western Europe\n",
       "4  2015.0       Canada  ...     0.45811   North America\n",
       "\n",
       "[5 rows x 9 columns]"
      ]
     },
     "execution_count": 7,
     "metadata": {},
     "output_type": "execute_result"
    }
   ],
   "source": [
    "ds.head()"
   ]
  },
  {
   "cell_type": "code",
   "execution_count": 8,
   "metadata": {
    "executionInfo": {
     "elapsed": 306,
     "status": "ok",
     "timestamp": 1635728467908,
     "user": {
      "displayName": "Agustin Acerbo",
      "photoUrl": "https://lh3.googleusercontent.com/a-/AOh14GiFUHlal2m-HqrdHQGftXlBFKZBOGaIXX61S4e_MQ=s64",
      "userId": "11845685418075358694"
     },
     "user_tz": 180
    },
    "id": "VD2HO0-GAxZg"
   },
   "outputs": [],
   "source": [
    "ds.drop(['Country', 'Year'], axis=1, inplace=True)"
   ]
  },
  {
   "cell_type": "code",
   "execution_count": 20,
   "metadata": {
    "colab": {
     "base_uri": "https://localhost:8080/"
    },
    "executionInfo": {
     "elapsed": 312,
     "status": "ok",
     "timestamp": 1635729195568,
     "user": {
      "displayName": "Agustin Acerbo",
      "photoUrl": "https://lh3.googleusercontent.com/a-/AOh14GiFUHlal2m-HqrdHQGftXlBFKZBOGaIXX61S4e_MQ=s64",
      "userId": "11845685418075358694"
     },
     "user_tz": 180
    },
    "id": "zfvgSQVa8G-_",
    "outputId": "f1a84ca6-ff4e-4075-adea-f1ae9245ba46"
   },
   "outputs": [
    {
     "name": "stdout",
     "output_type": "stream",
     "text": [
      "<class 'pandas.core.frame.DataFrame'>\n",
      "RangeIndex: 782 entries, 0 to 781\n",
      "Data columns (total 17 columns):\n",
      " #   Column                                  Non-Null Count  Dtype  \n",
      "---  ------                                  --------------  -----  \n",
      " 0   Happiness Score                         782 non-null    float64\n",
      " 1   GDP per Capita                          782 non-null    float64\n",
      " 2   Life Expectancy                         782 non-null    float64\n",
      " 3   Freedom                                 782 non-null    float64\n",
      " 4   Perceptions of corruption               782 non-null    float64\n",
      " 5   Generosity                              782 non-null    float64\n",
      " 6   Region                                  782 non-null    object \n",
      " 7   Region_Australia and New Zealand        782 non-null    uint8  \n",
      " 8   Region_Central and Eastern Europe       782 non-null    uint8  \n",
      " 9   Region_Eastern Asia                     782 non-null    uint8  \n",
      " 10  Region_Latin America and Caribbean      782 non-null    uint8  \n",
      " 11  Region_Middle East and Northern Africa  782 non-null    uint8  \n",
      " 12  Region_North America                    782 non-null    uint8  \n",
      " 13  Region_Southeastern Asia                782 non-null    uint8  \n",
      " 14  Region_Southern Asia                    782 non-null    uint8  \n",
      " 15  Region_Sub-Saharan Africa               782 non-null    uint8  \n",
      " 16  Region_Western Europe                   782 non-null    uint8  \n",
      "dtypes: float64(6), object(1), uint8(10)\n",
      "memory usage: 50.5+ KB\n",
      "None\n"
     ]
    }
   ],
   "source": [
    "# Como solo tenemos 2 clases en el tipo, vamos a transformarlo usando one hot encoding\n",
    "\n",
    "type_dummies= pd.get_dummies(ds.Region, prefix='Region')\n",
    "dataset_encoded = pd.concat([ds, type_dummies], axis=1)\n",
    "print(dataset_encoded.info())\n"
   ]
  },
  {
   "cell_type": "code",
   "execution_count": 21,
   "metadata": {
    "executionInfo": {
     "elapsed": 304,
     "status": "ok",
     "timestamp": 1635729224130,
     "user": {
      "displayName": "Agustin Acerbo",
      "photoUrl": "https://lh3.googleusercontent.com/a-/AOh14GiFUHlal2m-HqrdHQGftXlBFKZBOGaIXX61S4e_MQ=s64",
      "userId": "11845685418075358694"
     },
     "user_tz": 180
    },
    "id": "jyUFzSABDX7F"
   },
   "outputs": [],
   "source": [
    "dataset_encoded.drop(['Region'], axis=1, inplace=True)"
   ]
  },
  {
   "cell_type": "code",
   "execution_count": 22,
   "metadata": {
    "colab": {
     "base_uri": "https://localhost:8080/"
    },
    "executionInfo": {
     "elapsed": 11,
     "status": "ok",
     "timestamp": 1635729230005,
     "user": {
      "displayName": "Agustin Acerbo",
      "photoUrl": "https://lh3.googleusercontent.com/a-/AOh14GiFUHlal2m-HqrdHQGftXlBFKZBOGaIXX61S4e_MQ=s64",
      "userId": "11845685418075358694"
     },
     "user_tz": 180
    },
    "id": "492AK7C8DX9l",
    "outputId": "0fc8065e-e481-4b4d-a905-1ce146243006"
   },
   "outputs": [
    {
     "name": "stdout",
     "output_type": "stream",
     "text": [
      "<class 'pandas.core.frame.DataFrame'>\n",
      "RangeIndex: 782 entries, 0 to 781\n",
      "Data columns (total 16 columns):\n",
      " #   Column                                  Non-Null Count  Dtype  \n",
      "---  ------                                  --------------  -----  \n",
      " 0   Happiness Score                         782 non-null    float64\n",
      " 1   GDP per Capita                          782 non-null    float64\n",
      " 2   Life Expectancy                         782 non-null    float64\n",
      " 3   Freedom                                 782 non-null    float64\n",
      " 4   Perceptions of corruption               782 non-null    float64\n",
      " 5   Generosity                              782 non-null    float64\n",
      " 6   Region_Australia and New Zealand        782 non-null    uint8  \n",
      " 7   Region_Central and Eastern Europe       782 non-null    uint8  \n",
      " 8   Region_Eastern Asia                     782 non-null    uint8  \n",
      " 9   Region_Latin America and Caribbean      782 non-null    uint8  \n",
      " 10  Region_Middle East and Northern Africa  782 non-null    uint8  \n",
      " 11  Region_North America                    782 non-null    uint8  \n",
      " 12  Region_Southeastern Asia                782 non-null    uint8  \n",
      " 13  Region_Southern Asia                    782 non-null    uint8  \n",
      " 14  Region_Sub-Saharan Africa               782 non-null    uint8  \n",
      " 15  Region_Western Europe                   782 non-null    uint8  \n",
      "dtypes: float64(6), uint8(10)\n",
      "memory usage: 44.4 KB\n"
     ]
    }
   ],
   "source": [
    "dataset_encoded.info()"
   ]
  },
  {
   "cell_type": "code",
   "execution_count": 12,
   "metadata": {
    "executionInfo": {
     "elapsed": 313,
     "status": "ok",
     "timestamp": 1635728663493,
     "user": {
      "displayName": "Agustin Acerbo",
      "photoUrl": "https://lh3.googleusercontent.com/a-/AOh14GiFUHlal2m-HqrdHQGftXlBFKZBOGaIXX61S4e_MQ=s64",
      "userId": "11845685418075358694"
     },
     "user_tz": 180
    },
    "id": "JGQXV1S9A6S0"
   },
   "outputs": [],
   "source": [
    "categoricas = ['Region']\n",
    "numericas = ['GDP per Capita', 'Life Expectancy','Freedom', 'Perceptions of corruption', 'Generosity']\n",
    "output =  ['Happiness Score']"
   ]
  },
  {
   "cell_type": "code",
   "execution_count": 23,
   "metadata": {
    "executionInfo": {
     "elapsed": 317,
     "status": "ok",
     "timestamp": 1635729405096,
     "user": {
      "displayName": "Agustin Acerbo",
      "photoUrl": "https://lh3.googleusercontent.com/a-/AOh14GiFUHlal2m-HqrdHQGftXlBFKZBOGaIXX61S4e_MQ=s64",
      "userId": "11845685418075358694"
     },
     "user_tz": 180
    },
    "id": "pYKl3wKrEB1Y"
   },
   "outputs": [],
   "source": [
    "features = ['Region_Australia and New Zealand', \n",
    "            'Region_Central and Eastern Europe', \n",
    "            'Region_Eastern Asia', \n",
    "            'Region_Latin America and Caribbean', \n",
    "            'Region_Middle East and Northern Africa', \n",
    "            'Region_North America', \n",
    "            'Region_Southeastern Asia', \n",
    "            'Region_Southern Asia', \n",
    "            'Region_Sub-Saharan Africa', \n",
    "            'Region_Western Europe',\n",
    "            'GDP per Capita', \n",
    "            'Life Expectancy',\n",
    "            'Freedom', \n",
    "            'Perceptions of corruption', \n",
    "            'Generosity']"
   ]
  },
  {
   "cell_type": "code",
   "execution_count": 24,
   "metadata": {
    "colab": {
     "base_uri": "https://localhost:8080/",
     "height": 272
    },
    "executionInfo": {
     "elapsed": 315,
     "status": "ok",
     "timestamp": 1635729411533,
     "user": {
      "displayName": "Agustin Acerbo",
      "photoUrl": "https://lh3.googleusercontent.com/a-/AOh14GiFUHlal2m-HqrdHQGftXlBFKZBOGaIXX61S4e_MQ=s64",
      "userId": "11845685418075358694"
     },
     "user_tz": 180
    },
    "id": "8Tw8h7kzA9z6",
    "outputId": "7be2c998-0acc-4afc-9452-f1da18c41306"
   },
   "outputs": [
    {
     "data": {
      "text/html": [
       "<div>\n",
       "<style scoped>\n",
       "    .dataframe tbody tr th:only-of-type {\n",
       "        vertical-align: middle;\n",
       "    }\n",
       "\n",
       "    .dataframe tbody tr th {\n",
       "        vertical-align: top;\n",
       "    }\n",
       "\n",
       "    .dataframe thead th {\n",
       "        text-align: right;\n",
       "    }\n",
       "</style>\n",
       "<table border=\"1\" class=\"dataframe\">\n",
       "  <thead>\n",
       "    <tr style=\"text-align: right;\">\n",
       "      <th></th>\n",
       "      <th>Happiness Score</th>\n",
       "      <th>GDP per Capita</th>\n",
       "      <th>Life Expectancy</th>\n",
       "      <th>Freedom</th>\n",
       "      <th>Perceptions of corruption</th>\n",
       "      <th>Generosity</th>\n",
       "      <th>Region_Australia and New Zealand</th>\n",
       "      <th>Region_Central and Eastern Europe</th>\n",
       "      <th>Region_Eastern Asia</th>\n",
       "      <th>Region_Latin America and Caribbean</th>\n",
       "      <th>Region_Middle East and Northern Africa</th>\n",
       "      <th>Region_North America</th>\n",
       "      <th>Region_Southeastern Asia</th>\n",
       "      <th>Region_Southern Asia</th>\n",
       "      <th>Region_Sub-Saharan Africa</th>\n",
       "      <th>Region_Western Europe</th>\n",
       "    </tr>\n",
       "  </thead>\n",
       "  <tbody>\n",
       "    <tr>\n",
       "      <th>0</th>\n",
       "      <td>7.587</td>\n",
       "      <td>1.39651</td>\n",
       "      <td>0.94143</td>\n",
       "      <td>0.66557</td>\n",
       "      <td>0.41978</td>\n",
       "      <td>0.29678</td>\n",
       "      <td>0</td>\n",
       "      <td>0</td>\n",
       "      <td>0</td>\n",
       "      <td>0</td>\n",
       "      <td>0</td>\n",
       "      <td>0</td>\n",
       "      <td>0</td>\n",
       "      <td>0</td>\n",
       "      <td>0</td>\n",
       "      <td>1</td>\n",
       "    </tr>\n",
       "    <tr>\n",
       "      <th>1</th>\n",
       "      <td>7.561</td>\n",
       "      <td>1.30232</td>\n",
       "      <td>0.94784</td>\n",
       "      <td>0.62877</td>\n",
       "      <td>0.14145</td>\n",
       "      <td>0.43630</td>\n",
       "      <td>0</td>\n",
       "      <td>0</td>\n",
       "      <td>0</td>\n",
       "      <td>0</td>\n",
       "      <td>0</td>\n",
       "      <td>0</td>\n",
       "      <td>0</td>\n",
       "      <td>0</td>\n",
       "      <td>0</td>\n",
       "      <td>1</td>\n",
       "    </tr>\n",
       "    <tr>\n",
       "      <th>2</th>\n",
       "      <td>7.527</td>\n",
       "      <td>1.32548</td>\n",
       "      <td>0.87464</td>\n",
       "      <td>0.64938</td>\n",
       "      <td>0.48357</td>\n",
       "      <td>0.34139</td>\n",
       "      <td>0</td>\n",
       "      <td>0</td>\n",
       "      <td>0</td>\n",
       "      <td>0</td>\n",
       "      <td>0</td>\n",
       "      <td>0</td>\n",
       "      <td>0</td>\n",
       "      <td>0</td>\n",
       "      <td>0</td>\n",
       "      <td>1</td>\n",
       "    </tr>\n",
       "    <tr>\n",
       "      <th>3</th>\n",
       "      <td>7.522</td>\n",
       "      <td>1.45900</td>\n",
       "      <td>0.88521</td>\n",
       "      <td>0.66973</td>\n",
       "      <td>0.36503</td>\n",
       "      <td>0.34699</td>\n",
       "      <td>0</td>\n",
       "      <td>0</td>\n",
       "      <td>0</td>\n",
       "      <td>0</td>\n",
       "      <td>0</td>\n",
       "      <td>0</td>\n",
       "      <td>0</td>\n",
       "      <td>0</td>\n",
       "      <td>0</td>\n",
       "      <td>1</td>\n",
       "    </tr>\n",
       "    <tr>\n",
       "      <th>4</th>\n",
       "      <td>7.427</td>\n",
       "      <td>1.32629</td>\n",
       "      <td>0.90563</td>\n",
       "      <td>0.63297</td>\n",
       "      <td>0.32957</td>\n",
       "      <td>0.45811</td>\n",
       "      <td>0</td>\n",
       "      <td>0</td>\n",
       "      <td>0</td>\n",
       "      <td>0</td>\n",
       "      <td>0</td>\n",
       "      <td>1</td>\n",
       "      <td>0</td>\n",
       "      <td>0</td>\n",
       "      <td>0</td>\n",
       "      <td>0</td>\n",
       "    </tr>\n",
       "  </tbody>\n",
       "</table>\n",
       "</div>"
      ],
      "text/plain": [
       "   Happiness Score  ...  Region_Western Europe\n",
       "0            7.587  ...                      1\n",
       "1            7.561  ...                      1\n",
       "2            7.527  ...                      1\n",
       "3            7.522  ...                      1\n",
       "4            7.427  ...                      0\n",
       "\n",
       "[5 rows x 16 columns]"
      ]
     },
     "execution_count": 24,
     "metadata": {},
     "output_type": "execute_result"
    }
   ],
   "source": [
    "dataset_encoded.head()"
   ]
  },
  {
   "cell_type": "code",
   "execution_count": 11,
   "metadata": {
    "executionInfo": {
     "elapsed": 413,
     "status": "ok",
     "timestamp": 1635728620282,
     "user": {
      "displayName": "Agustin Acerbo",
      "photoUrl": "https://lh3.googleusercontent.com/a-/AOh14GiFUHlal2m-HqrdHQGftXlBFKZBOGaIXX61S4e_MQ=s64",
      "userId": "11845685418075358694"
     },
     "user_tz": 180
    },
    "id": "j1uC6vB0BDdh"
   },
   "outputs": [],
   "source": [
    "from sklearn.model_selection import train_test_split\n",
    "from sklearn.preprocessing import MinMaxScaler"
   ]
  },
  {
   "cell_type": "code",
   "execution_count": 25,
   "metadata": {
    "executionInfo": {
     "elapsed": 311,
     "status": "ok",
     "timestamp": 1635729419413,
     "user": {
      "displayName": "Agustin Acerbo",
      "photoUrl": "https://lh3.googleusercontent.com/a-/AOh14GiFUHlal2m-HqrdHQGftXlBFKZBOGaIXX61S4e_MQ=s64",
      "userId": "11845685418075358694"
     },
     "user_tz": 180
    },
    "id": "5Ibx2971BfWe"
   },
   "outputs": [],
   "source": [
    "x_train, x_test, y_train, y_test = train_test_split(\n",
    "    dataset_encoded[features], \n",
    "    dataset_encoded[output],  \n",
    "    test_size=0.3,\n",
    "    random_state=42)"
   ]
  },
  {
   "cell_type": "code",
   "execution_count": 26,
   "metadata": {
    "colab": {
     "base_uri": "https://localhost:8080/"
    },
    "executionInfo": {
     "elapsed": 309,
     "status": "ok",
     "timestamp": 1635729421158,
     "user": {
      "displayName": "Agustin Acerbo",
      "photoUrl": "https://lh3.googleusercontent.com/a-/AOh14GiFUHlal2m-HqrdHQGftXlBFKZBOGaIXX61S4e_MQ=s64",
      "userId": "11845685418075358694"
     },
     "user_tz": 180
    },
    "id": "1EOrIdV7BvEY",
    "outputId": "d9db1bcf-86dc-40a7-9de7-508e9eec55bf"
   },
   "outputs": [
    {
     "name": "stdout",
     "output_type": "stream",
     "text": [
      "(547, 15)\n",
      "(547, 1)\n",
      "(235, 15)\n",
      "(235, 1)\n"
     ]
    }
   ],
   "source": [
    "print(x_train.shape)\n",
    "print(y_train.shape)\n",
    "print(x_test.shape)\n",
    "print(y_test.shape)"
   ]
  },
  {
   "cell_type": "code",
   "execution_count": 46,
   "metadata": {
    "executionInfo": {
     "elapsed": 310,
     "status": "ok",
     "timestamp": 1635730477817,
     "user": {
      "displayName": "Agustin Acerbo",
      "photoUrl": "https://lh3.googleusercontent.com/a-/AOh14GiFUHlal2m-HqrdHQGftXlBFKZBOGaIXX61S4e_MQ=s64",
      "userId": "11845685418075358694"
     },
     "user_tz": 180
    },
    "id": "W1keTs_SBvG0"
   },
   "outputs": [],
   "source": [
    "import xgboost as xgb\n",
    "from sklearn.metrics import mean_squared_error"
   ]
  },
  {
   "cell_type": "code",
   "execution_count": 47,
   "metadata": {
    "executionInfo": {
     "elapsed": 8,
     "status": "ok",
     "timestamp": 1635730479173,
     "user": {
      "displayName": "Agustin Acerbo",
      "photoUrl": "https://lh3.googleusercontent.com/a-/AOh14GiFUHlal2m-HqrdHQGftXlBFKZBOGaIXX61S4e_MQ=s64",
      "userId": "11845685418075358694"
     },
     "user_tz": 180
    },
    "id": "U4PGBvFuBvJM"
   },
   "outputs": [],
   "source": [
    "xgb_model = xgb.XGBRegressor(objective=\"reg:squarederror\", random_state=42, eval_metric=mean_squared_error, )"
   ]
  },
  {
   "cell_type": "code",
   "execution_count": null,
   "metadata": {
    "id": "Ey6zc-3oImeg"
   },
   "outputs": [],
   "source": [
    "xgb_model"
   ]
  },
  {
   "cell_type": "code",
   "execution_count": 27,
   "metadata": {
    "colab": {
     "base_uri": "https://localhost:8080/"
    },
    "executionInfo": {
     "elapsed": 412,
     "status": "ok",
     "timestamp": 1635729427403,
     "user": {
      "displayName": "Agustin Acerbo",
      "photoUrl": "https://lh3.googleusercontent.com/a-/AOh14GiFUHlal2m-HqrdHQGftXlBFKZBOGaIXX61S4e_MQ=s64",
      "userId": "11845685418075358694"
     },
     "user_tz": 180
    },
    "id": "ydH4AvbQCpqH",
    "outputId": "3081d4a1-dfef-4f52-a22b-568ea1e7d6ba"
   },
   "outputs": [
    {
     "name": "stdout",
     "output_type": "stream",
     "text": [
      "[01:17:01] WARNING: /workspace/src/objective/regression_obj.cu:152: reg:linear is now deprecated in favor of reg:squarederror.\n"
     ]
    },
    {
     "data": {
      "text/plain": [
       "XGBRegressor(base_score=0.5, booster='gbtree', colsample_bylevel=1,\n",
       "             colsample_bynode=1, colsample_bytree=1, gamma=0,\n",
       "             importance_type='gain', learning_rate=0.1, max_delta_step=0,\n",
       "             max_depth=3, min_child_weight=1, missing=None, n_estimators=100,\n",
       "             n_jobs=1, nthread=None, objective='reg:linear', random_state=42,\n",
       "             reg_alpha=0, reg_lambda=1, scale_pos_weight=1, seed=None,\n",
       "             silent=None, subsample=1, verbosity=1)"
      ]
     },
     "execution_count": 27,
     "metadata": {},
     "output_type": "execute_result"
    }
   ],
   "source": [
    "xgb_model.fit(x_train, y_train)"
   ]
  },
  {
   "cell_type": "code",
   "execution_count": 28,
   "metadata": {
    "executionInfo": {
     "elapsed": 311,
     "status": "ok",
     "timestamp": 1635729464467,
     "user": {
      "displayName": "Agustin Acerbo",
      "photoUrl": "https://lh3.googleusercontent.com/a-/AOh14GiFUHlal2m-HqrdHQGftXlBFKZBOGaIXX61S4e_MQ=s64",
      "userId": "11845685418075358694"
     },
     "user_tz": 180
    },
    "id": "Ih7Vl8OCCvgL"
   },
   "outputs": [],
   "source": [
    "y_pred = xgb_model.predict(x_test)"
   ]
  },
  {
   "cell_type": "code",
   "execution_count": 35,
   "metadata": {
    "colab": {
     "base_uri": "https://localhost:8080/",
     "height": 414
    },
    "executionInfo": {
     "elapsed": 383,
     "status": "ok",
     "timestamp": 1635729560943,
     "user": {
      "displayName": "Agustin Acerbo",
      "photoUrl": "https://lh3.googleusercontent.com/a-/AOh14GiFUHlal2m-HqrdHQGftXlBFKZBOGaIXX61S4e_MQ=s64",
      "userId": "11845685418075358694"
     },
     "user_tz": 180
    },
    "id": "3sVd8N_dEtls",
    "outputId": "cc447a64-54c8-4378-9575-ac85bdc09809"
   },
   "outputs": [
    {
     "data": {
      "text/html": [
       "<div>\n",
       "<style scoped>\n",
       "    .dataframe tbody tr th:only-of-type {\n",
       "        vertical-align: middle;\n",
       "    }\n",
       "\n",
       "    .dataframe tbody tr th {\n",
       "        vertical-align: top;\n",
       "    }\n",
       "\n",
       "    .dataframe thead th {\n",
       "        text-align: right;\n",
       "    }\n",
       "</style>\n",
       "<table border=\"1\" class=\"dataframe\">\n",
       "  <thead>\n",
       "    <tr style=\"text-align: right;\">\n",
       "      <th></th>\n",
       "      <th>Happiness Score</th>\n",
       "    </tr>\n",
       "  </thead>\n",
       "  <tbody>\n",
       "    <tr>\n",
       "      <th>596</th>\n",
       "      <td>-0.052210</td>\n",
       "    </tr>\n",
       "    <tr>\n",
       "      <th>588</th>\n",
       "      <td>0.193700</td>\n",
       "    </tr>\n",
       "    <tr>\n",
       "      <th>208</th>\n",
       "      <td>0.003934</td>\n",
       "    </tr>\n",
       "    <tr>\n",
       "      <th>291</th>\n",
       "      <td>0.967235</td>\n",
       "    </tr>\n",
       "    <tr>\n",
       "      <th>174</th>\n",
       "      <td>-0.723379</td>\n",
       "    </tr>\n",
       "    <tr>\n",
       "      <th>...</th>\n",
       "      <td>...</td>\n",
       "    </tr>\n",
       "    <tr>\n",
       "      <th>393</th>\n",
       "      <td>0.084522</td>\n",
       "    </tr>\n",
       "    <tr>\n",
       "      <th>227</th>\n",
       "      <td>0.276148</td>\n",
       "    </tr>\n",
       "    <tr>\n",
       "      <th>212</th>\n",
       "      <td>-0.914898</td>\n",
       "    </tr>\n",
       "    <tr>\n",
       "      <th>581</th>\n",
       "      <td>0.594070</td>\n",
       "    </tr>\n",
       "    <tr>\n",
       "      <th>538</th>\n",
       "      <td>-0.158479</td>\n",
       "    </tr>\n",
       "  </tbody>\n",
       "</table>\n",
       "<p>235 rows × 1 columns</p>\n",
       "</div>"
      ],
      "text/plain": [
       "     Happiness Score\n",
       "596        -0.052210\n",
       "588         0.193700\n",
       "208         0.003934\n",
       "291         0.967235\n",
       "174        -0.723379\n",
       "..               ...\n",
       "393         0.084522\n",
       "227         0.276148\n",
       "212        -0.914898\n",
       "581         0.594070\n",
       "538        -0.158479\n",
       "\n",
       "[235 rows x 1 columns]"
      ]
     },
     "execution_count": 35,
     "metadata": {},
     "output_type": "execute_result"
    }
   ],
   "source": [
    "np.sqrt(y_pred.reshape(-1,1)-y_test)"
   ]
  },
  {
   "cell_type": "code",
   "execution_count": 38,
   "metadata": {
    "colab": {
     "base_uri": "https://localhost:8080/",
     "height": 312
    },
    "executionInfo": {
     "elapsed": 376,
     "status": "ok",
     "timestamp": 1635729918888,
     "user": {
      "displayName": "Agustin Acerbo",
      "photoUrl": "https://lh3.googleusercontent.com/a-/AOh14GiFUHlal2m-HqrdHQGftXlBFKZBOGaIXX61S4e_MQ=s64",
      "userId": "11845685418075358694"
     },
     "user_tz": 180
    },
    "id": "yQQDqZVOFAq1",
    "outputId": "bcfeb6fe-5484-4755-88c0-cc7f706378a7"
   },
   "outputs": [
    {
     "data": {
      "text/plain": [
       "<matplotlib.axes._subplots.AxesSubplot at 0x7fcd0319f550>"
      ]
     },
     "execution_count": 38,
     "metadata": {},
     "output_type": "execute_result"
    },
    {
     "data": {
      "image/png": "[encoded data removed]",
      "text/plain": [
       "<Figure size 432x288 with 1 Axes>"
      ]
     },
     "metadata": {
      "needs_background": "light"
     },
     "output_type": "display_data"
    }
   ],
   "source": [
    "xgb.plot_importance(xgb_model)"
   ]
  },
  {
   "cell_type": "code",
   "execution_count": null,
   "metadata": {
    "id": "OY61IfEvHC1a"
   },
   "outputs": [],
   "source": []
  },
  {
   "cell_type": "code",
   "execution_count": null,
   "metadata": {
    "id": "vkRKicjaJOZG"
   },
   "outputs": [],
   "source": []
  },
  {
   "cell_type": "code",
   "execution_count": 60,
   "metadata": {
    "executionInfo": {
     "elapsed": 308,
     "status": "ok",
     "timestamp": 1635731115978,
     "user": {
      "displayName": "Agustin Acerbo",
      "photoUrl": "https://lh3.googleusercontent.com/a-/AOh14GiFUHlal2m-HqrdHQGftXlBFKZBOGaIXX61S4e_MQ=s64",
      "userId": "11845685418075358694"
     },
     "user_tz": 180
    },
    "id": "cSyaq6SMJOb8"
   },
   "outputs": [],
   "source": [
    "# Entrenamiento de modelos de prueba\n",
    "from sklearn.pipeline import Pipeline\n",
    "from sklearn.linear_model import LinearRegression\n",
    "from sklearn.linear_model import Ridge\n",
    "from sklearn.ensemble import AdaBoostRegressor\n",
    "from sklearn.ensemble import RandomForestRegressor\n",
    "from sklearn.metrics import balanced_accuracy_score\n",
    "\n",
    "def pipeline_ml_models(preprocessing_pipeline):\n",
    "  # Modelos a ensayar.\n",
    "  models = [\n",
    "      (\"RandomForest\", \n",
    "          Pipeline([\n",
    "              ('preprocessor', preprocessing_pipeline),\n",
    "              ('model', RandomForestRegressor(n_estimators=200, random_state=42)) \n",
    "          ])\n",
    "      ),\n",
    "      \n",
    "      (\"Adaboost\", \n",
    "          Pipeline([\n",
    "              ('preprocessor', preprocessing_pipeline),\n",
    "              ('model', AdaBoostRegressor(n_estimators=200, random_state=42)) \n",
    "          ])\n",
    "      ),\n",
    "      \n",
    "      (\"LinearRegression\", \n",
    "          Pipeline([\n",
    "              ('preprocessor', preprocessing_pipeline),\n",
    "              ('model', LinearRegression())\n",
    "          ])\n",
    "      ),\n",
    "      \n",
    "      (\"LinearRegression_Ridge\", \n",
    "          Pipeline([\n",
    "              ('preprocessor', preprocessing_pipeline),\n",
    "              ('model', Ridge(alpha = 0.001))\n",
    "          ])\n",
    "      ),\n",
    "\n",
    "      (\"XGBRegressor\", \n",
    "          Pipeline([\n",
    "              ('preprocessor', preprocessing_pipeline),\n",
    "              ('model', xgb.XGBRegressor(objective=\"reg:linear\", random_state=42))\n",
    "          ])\n",
    "      ),\n",
    "      \n",
    "  ]\n",
    "  \n",
    "  return models"
   ]
  },
  {
   "cell_type": "code",
   "execution_count": 52,
   "metadata": {
    "executionInfo": {
     "elapsed": 4,
     "status": "ok",
     "timestamp": 1635730871867,
     "user": {
      "displayName": "Agustin Acerbo",
      "photoUrl": "https://lh3.googleusercontent.com/a-/AOh14GiFUHlal2m-HqrdHQGftXlBFKZBOGaIXX61S4e_MQ=s64",
      "userId": "11845685418075358694"
     },
     "user_tz": 180
    },
    "id": "Qrpb40ShJn4e"
   },
   "outputs": [],
   "source": [
    "from sklearn.preprocessing import OneHotEncoder\n",
    "from sklearn.preprocessing import StandardScaler\n",
    "from sklearn.compose import ColumnTransformer"
   ]
  },
  {
   "cell_type": "code",
   "execution_count": 61,
   "metadata": {
    "executionInfo": {
     "elapsed": 312,
     "status": "ok",
     "timestamp": 1635731119455,
     "user": {
      "displayName": "Agustin Acerbo",
      "photoUrl": "https://lh3.googleusercontent.com/a-/AOh14GiFUHlal2m-HqrdHQGftXlBFKZBOGaIXX61S4e_MQ=s64",
      "userId": "11845685418075358694"
     },
     "user_tz": 180
    },
    "id": "4WnNMGsYJvu6"
   },
   "outputs": [],
   "source": [
    "preprocessing_pipeline = ColumnTransformer(\n",
    "             transformers=[\n",
    "                           #('categoric', OneHotEncoder(handle_unknown='ignore'),categoricas),\n",
    "                           (\"numerical\", MinMaxScaler(), numericas)\n",
    "              ],\n",
    "              remainder='passthrough'\n",
    ")\n",
    "\n",
    "model = pipeline_ml_models(preprocessing_pipeline)"
   ]
  },
  {
   "cell_type": "code",
   "execution_count": 54,
   "metadata": {
    "executionInfo": {
     "elapsed": 367,
     "status": "ok",
     "timestamp": 1635730876564,
     "user": {
      "displayName": "Agustin Acerbo",
      "photoUrl": "https://lh3.googleusercontent.com/a-/AOh14GiFUHlal2m-HqrdHQGftXlBFKZBOGaIXX61S4e_MQ=s64",
      "userId": "11845685418075358694"
     },
     "user_tz": 180
    },
    "id": "cI4DkDa0J78A"
   },
   "outputs": [],
   "source": [
    "from sklearn.model_selection import StratifiedKFold\n",
    "from sklearn.model_selection import KFold\n",
    "from sklearn.base import clone\n",
    "from sklearn.metrics import mean_squared_error\n",
    "\n",
    "def kfold_pipeline(models_pipeline, samples , target, x_test, y_test, k = 15):\n",
    "    \n",
    "    \"\"\"\n",
    "    Esta funcion recibe:\n",
    "        models_pipeline: el pipeline de los modelos a evaluar\n",
    "        samples: set de entrenamiento\n",
    "        target: salidas del set de entrenamiento\n",
    "        x_test: set de testeo\n",
    "        y_test: set de testeo\n",
    "        k: el numero de segmentos que utilizara el algoritmo de K-Fold\n",
    "    \"\"\"\n",
    "    results = {}\n",
    "    for model in models_pipeline:\n",
    "        model_name = model[0]\n",
    "        results[model_name] = {}\n",
    "        \n",
    "        train_mse = 0\n",
    "        valid_mse = 0\n",
    "        \n",
    "        kf = KFold(n_splits=k)\n",
    "        kf.get_n_splits(samples)\n",
    "        \n",
    "        for train_index, valid_index in kf.split(samples, target):\n",
    "            x_valid = samples.iloc[valid_index]\n",
    "            y_valid = target.iloc[valid_index]\n",
    "            x_train = samples.iloc[train_index]\n",
    "            y_train = target.iloc[train_index]\n",
    "            \n",
    "            model[1].fit(x_train, np.ravel(y_train))\n",
    "            pred_train = model[1].predict(x_train)\n",
    "            pred_valid = model[1].predict(x_valid)        \n",
    "           \n",
    "            if len(pred_train.shape)>1 and (pred_train.shape[1]>1):\n",
    "                train_mse = train_mse + mean_squared_error(y_train, pred_train.reshape(-1,1)) / k\n",
    "                valid_mse = valid_mse + mean_squared_error(y_valid, pred_valid.reshape(-1,1)) / k\n",
    "            else:\n",
    "                train_mse = train_mse + mean_squared_error(y_train, pred_train.reshape(-1,1)) / k\n",
    "                valid_mse = valid_mse + mean_squared_error(y_valid, pred_valid.reshape(-1,1)) / k\n",
    "        \n",
    "        pred_test = model[1].predict(x_test)\n",
    "\n",
    "        results[model_name][\"Train\"] = train_mse\n",
    "        results[model_name][\"Valid\"] = valid_mse\n",
    "        results[model_name][\"Test\"] = mean_squared_error(y_test, pred_test.reshape(-1,1))\n",
    "\n",
    "    models_results = pd.DataFrame(results).T\n",
    "    return models_results"
   ]
  },
  {
   "cell_type": "code",
   "execution_count": 62,
   "metadata": {
    "executionInfo": {
     "elapsed": 295,
     "status": "ok",
     "timestamp": 1635731125072,
     "user": {
      "displayName": "Agustin Acerbo",
      "photoUrl": "https://lh3.googleusercontent.com/a-/AOh14GiFUHlal2m-HqrdHQGftXlBFKZBOGaIXX61S4e_MQ=s64",
      "userId": "11845685418075358694"
     },
     "user_tz": 180
    },
    "id": "R5M7A6uyKc2x"
   },
   "outputs": [],
   "source": [
    "features_1 = ['Region', 'GDP per Capita', 'Life Expectancy',\n",
    "            'Freedom', 'Perceptions of corruption', 'Generosity']\n",
    "\n",
    "x_train_1, x_test_1, y_train_1, y_test_1 = train_test_split(\n",
    "    ds[features_1], \n",
    "    ds[output],  \n",
    "    test_size=0.3,\n",
    "    random_state=42)"
   ]
  },
  {
   "cell_type": "code",
   "execution_count": 63,
   "metadata": {
    "colab": {
     "base_uri": "https://localhost:8080/"
    },
    "executionInfo": {
     "elapsed": 5800,
     "status": "ok",
     "timestamp": 1635731134053,
     "user": {
      "displayName": "Agustin Acerbo",
      "photoUrl": "https://lh3.googleusercontent.com/a-/AOh14GiFUHlal2m-HqrdHQGftXlBFKZBOGaIXX61S4e_MQ=s64",
      "userId": "11845685418075358694"
     },
     "user_tz": 180
    },
    "id": "8hSa1ZVNJ8BN",
    "outputId": "24da035b-b0fb-47b3-edbd-e0c69fb7547e"
   },
   "outputs": [
    {
     "name": "stdout",
     "output_type": "stream",
     "text": [
      "[01:45:27] WARNING: /workspace/src/objective/regression_obj.cu:152: reg:linear is now deprecated in favor of reg:squarederror.\n",
      "[01:45:27] WARNING: /workspace/src/objective/regression_obj.cu:152: reg:linear is now deprecated in favor of reg:squarederror.\n",
      "[01:45:27] WARNING: /workspace/src/objective/regression_obj.cu:152: reg:linear is now deprecated in favor of reg:squarederror.\n",
      "[01:45:27] WARNING: /workspace/src/objective/regression_obj.cu:152: reg:linear is now deprecated in favor of reg:squarederror.\n",
      "[01:45:27] WARNING: /workspace/src/objective/regression_obj.cu:152: reg:linear is now deprecated in favor of reg:squarederror.\n"
     ]
    }
   ],
   "source": [
    "res = kfold_pipeline(model, x_train, y_train, x_test, y_test, k = 5)"
   ]
  },
  {
   "cell_type": "code",
   "execution_count": 64,
   "metadata": {
    "colab": {
     "base_uri": "https://localhost:8080/",
     "height": 317
    },
    "executionInfo": {
     "elapsed": 562,
     "status": "ok",
     "timestamp": 1635731205575,
     "user": {
      "displayName": "Agustin Acerbo",
      "photoUrl": "https://lh3.googleusercontent.com/a-/AOh14GiFUHlal2m-HqrdHQGftXlBFKZBOGaIXX61S4e_MQ=s64",
      "userId": "11845685418075358694"
     },
     "user_tz": 180
    },
    "id": "hA0sRZgaKjEC",
    "outputId": "b058e1ab-6b13-4b35-a796-d4bad33b96bb"
   },
   "outputs": [
    {
     "data": {
      "text/plain": [
       "<matplotlib.axes._subplots.AxesSubplot at 0x7fccf267b510>"
      ]
     },
     "execution_count": 64,
     "metadata": {},
     "output_type": "execute_result"
    },
    {
     "data": {
      "image/png": "[encoded data removed]",
      "text/plain": [
       "<Figure size 1584x432 with 1 Axes>"
      ]
     },
     "metadata": {
      "needs_background": "light"
     },
     "output_type": "display_data"
    }
   ],
   "source": [
    "res['Train'].plot.bar(title=\"Desempeño de modelos\",figsize=(22,6))"
   ]
  },
  {
   "cell_type": "code",
   "execution_count": 65,
   "metadata": {
    "colab": {
     "base_uri": "https://localhost:8080/",
     "height": 317
    },
    "executionInfo": {
     "elapsed": 316,
     "status": "ok",
     "timestamp": 1635731223494,
     "user": {
      "displayName": "Agustin Acerbo",
      "photoUrl": "https://lh3.googleusercontent.com/a-/AOh14GiFUHlal2m-HqrdHQGftXlBFKZBOGaIXX61S4e_MQ=s64",
      "userId": "11845685418075358694"
     },
     "user_tz": 180
    },
    "id": "azKRc0j-LWhG",
    "outputId": "98e73222-d416-4ad0-faac-cae7ea762877"
   },
   "outputs": [
    {
     "data": {
      "text/plain": [
       "<matplotlib.axes._subplots.AxesSubplot at 0x7fccf26d7e90>"
      ]
     },
     "execution_count": 65,
     "metadata": {},
     "output_type": "execute_result"
    },
    {
     "data": {
      "image/png": "[encoded data removed]",
      "text/plain": [
       "<Figure size 1584x432 with 1 Axes>"
      ]
     },
     "metadata": {
      "needs_background": "light"
     },
     "output_type": "display_data"
    }
   ],
   "source": [
    "res['Test'].plot.bar(title=\"Desempeño de modelos\",figsize=(22,6))"
   ]
  },
  {
   "cell_type": "code",
   "execution_count": null,
   "metadata": {
    "id": "PPzevC8QLbDQ"
   },
   "outputs": [],
   "source": []
  }
 ],
 "metadata": {
  "colab": {
   "authorship_tag": "ABX9TyNtrQ1hvZN2IW2/OT99y1aR",
   "mount_file_id": "1QJEjp1jma8GTZSvgnGvYLUPYhqzlmQ2e",
   "name": "XGBoost.ipynb",
   "provenance": []
  },
  "kernelspec": {
   "display_name": "Python 3 (ipykernel)",
   "language": "python",
   "name": "python3"
  },
  "language_info": {
   "codemirror_mode": {
    "name": "ipython",
    "version": 3
   },
   "file_extension": ".py",
   "mimetype": "text/x-python",
   "name": "python",
   "nbconvert_exporter": "python",
   "pygments_lexer": "ipython3",
   "version": "3.8.13"
  }
 },
 "nbformat": 4,
 "nbformat_minor": 1
}
