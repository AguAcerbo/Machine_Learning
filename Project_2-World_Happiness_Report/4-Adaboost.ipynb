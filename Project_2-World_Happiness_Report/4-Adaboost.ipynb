{
 "cells": [
  {
   "cell_type": "markdown",
   "metadata": {
    "id": "U6gZ0L_jsiMJ",
    "toc": true
   },
   "source": [
    "#Adaboost en World Happiness\n",
    "\n",
    "En el siguiente codigo se utiliza el dataset de World Happiness para la implementacion del modelo de Adaboost en una regresion logistica. Se considera que un pais es feliz si posee un puntaje de felicidad mayor a 5.5. "
   ]
  },
  {
   "cell_type": "code",
   "execution_count": 1,
   "metadata": {
    "colab": {
     "base_uri": "https://localhost:8080/"
    },
    "executionInfo": {
     "elapsed": 327,
     "status": "ok",
     "timestamp": 1635739797025,
     "user": {
      "displayName": "Agustin Acerbo",
      "photoUrl": "https://lh3.googleusercontent.com/a-/AOh14GiFUHlal2m-HqrdHQGftXlBFKZBOGaIXX61S4e_MQ=s64",
      "userId": "11845685418075358694"
     },
     "user_tz": 180
    },
    "id": "4kq6Dx-_ylFt",
    "outputId": "1fd4a2c5-780b-47b5-f335-39eb24029523"
   },
   "outputs": [
    {
     "name": "stdout",
     "output_type": "stream",
     "text": [
      "Drive already mounted at /content/drive; to attempt to forcibly remount, call drive.mount(\"/content/drive\", force_remount=True).\n"
     ]
    }
   ],
   "source": [
    "from google.colab import drive\n",
    "drive.mount('/content/drive')"
   ]
  },
  {
   "cell_type": "code",
   "execution_count": 2,
   "metadata": {
    "ExecuteTime": {
     "end_time": "2020-04-20T21:49:22.480683Z",
     "start_time": "2020-04-20T21:49:20.853714Z"
    },
    "executionInfo": {
     "elapsed": 645,
     "status": "ok",
     "timestamp": 1635739797968,
     "user": {
      "displayName": "Agustin Acerbo",
      "photoUrl": "https://lh3.googleusercontent.com/a-/AOh14GiFUHlal2m-HqrdHQGftXlBFKZBOGaIXX61S4e_MQ=s64",
      "userId": "11845685418075358694"
     },
     "user_tz": 180
    },
    "id": "knyg3G6CsiMQ"
   },
   "outputs": [],
   "source": [
    "from sklearn.datasets import make_classification\n",
    "\n",
    "from sklearn.metrics import accuracy_score\n",
    "from sklearn.model_selection import train_test_split\n",
    "import numpy as np\n",
    "import pandas as pd\n",
    "import matplotlib.pyplot as plt\n",
    "from sklearn.base import clone\n",
    "from sklearn.base import BaseEstimator\n",
    "from sklearn.metrics import accuracy_score\n",
    "from sklearn.datasets import load_breast_cancer\n",
    "from sklearn.decomposition import PCA\n",
    "# from logistic import Logistic_Regression"
   ]
  },
  {
   "cell_type": "code",
   "execution_count": 3,
   "metadata": {
    "ExecuteTime": {
     "end_time": "2020-04-20T21:49:22.494253Z",
     "start_time": "2020-04-20T21:49:22.480683Z"
    },
    "executionInfo": {
     "elapsed": 20,
     "status": "ok",
     "timestamp": 1635739797971,
     "user": {
      "displayName": "Agustin Acerbo",
      "photoUrl": "https://lh3.googleusercontent.com/a-/AOh14GiFUHlal2m-HqrdHQGftXlBFKZBOGaIXX61S4e_MQ=s64",
      "userId": "11845685418075358694"
     },
     "user_tz": 180
    },
    "id": "YzG7fZyMsiMQ"
   },
   "outputs": [],
   "source": [
    "def accuracy(y_true, y_pred):\n",
    "    accuracy = np.sum(y_true == y_pred) / len(y_true)\n",
    "    return accuracy"
   ]
  },
  {
   "cell_type": "markdown",
   "metadata": {
    "id": "C-JZO_wgsiMS"
   },
   "source": [
    "## Modelo"
   ]
  },
  {
   "cell_type": "code",
   "execution_count": 4,
   "metadata": {
    "ExecuteTime": {
     "end_time": "2020-04-20T21:49:22.756649Z",
     "start_time": "2020-04-20T21:49:22.628321Z"
    },
    "executionInfo": {
     "elapsed": 17,
     "status": "ok",
     "timestamp": 1635739797971,
     "user": {
      "displayName": "Agustin Acerbo",
      "photoUrl": "https://lh3.googleusercontent.com/a-/AOh14GiFUHlal2m-HqrdHQGftXlBFKZBOGaIXX61S4e_MQ=s64",
      "userId": "11845685418075358694"
     },
     "user_tz": 180
    },
    "id": "TXr4wzWxsiMS"
   },
   "outputs": [],
   "source": [
    "from sklearn.base import BaseEstimator\n",
    "\n",
    "\n",
    "class Logistic_Regression(BaseEstimator):\n",
    "    \n",
    "    def __init__(self, learning_rate=0.01, epochs=1000):\n",
    "        self.learning_rate = learning_rate\n",
    "        self.epochs = epochs\n",
    "        self.weights = None\n",
    "        self.bias = None\n",
    "        self.cost_per_iteration = []\n",
    "        \n",
    "    \n",
    "    def _sigmoid(self, x):\n",
    "        EPS = 1e-7\n",
    "        return 1 / (1 + np.exp(-x + EPS))\n",
    "    \n",
    "    \n",
    "    def fit(self, X, y):\n",
    "        m, n = X.shape\n",
    "        self.weights = np.zeros(n)\n",
    "        self.bias = 0\n",
    "        \n",
    "        # gradient descent\n",
    "\n",
    "        for _ in range(self.epochs):\n",
    "            # forward propagation\n",
    "            Z = np.dot(X, self.weights) + self.bias\n",
    "            A = self._sigmoid(Z)\n",
    "            \n",
    "            # backward propagation\n",
    "            dw = (1 / m) * np.dot(X.T, A - y)\n",
    "            db = (1 / m) * np.sum(A - y)\n",
    "            \n",
    "            self.weights -= self.learning_rate * dw\n",
    "            self.bias -= self.learning_rate * db\n",
    "            \n",
    "    def predict(self, X):\n",
    "        Z = np.dot(X, self.weights) + self.bias\n",
    "        A = self._sigmoid(Z)\n",
    "    \n",
    "        if not isinstance(A, float):\n",
    "            y_predicted_cls = [1 if i >= 0.5 else 0 for i in A]\n",
    "        else:\n",
    "            y_predicted_cls = 1 if A >= 0.5 else 0\n",
    "        return y_predicted_cls\n",
    "    \n",
    "    \n",
    "    def __str__(self):\n",
    "        return f\"Logistic_Regression(learning_rate={self.learning_rate}, epochs={self.epochs})\""
   ]
  },
  {
   "cell_type": "code",
   "execution_count": 5,
   "metadata": {
    "ExecuteTime": {
     "end_time": "2020-04-20T21:49:22.888720Z",
     "start_time": "2020-04-20T21:49:22.759680Z"
    },
    "executionInfo": {
     "elapsed": 16,
     "status": "ok",
     "timestamp": 1635739797972,
     "user": {
      "displayName": "Agustin Acerbo",
      "photoUrl": "https://lh3.googleusercontent.com/a-/AOh14GiFUHlal2m-HqrdHQGftXlBFKZBOGaIXX61S4e_MQ=s64",
      "userId": "11845685418075358694"
     },
     "user_tz": 180
    },
    "id": "Xc2g-wFPsiMT"
   },
   "outputs": [],
   "source": [
    "class AdaBoost(object):\n",
    "    \n",
    "    def __init__(self, base_estimator, n_estimators, learning_rate):\n",
    "        self.base_estimator = base_estimator\n",
    "        self.n_estimators = n_estimators\n",
    "        self.learning_rate = learning_rate\n",
    "        self.predictor_weightages = []\n",
    "        \n",
    "        \n",
    "    def fit(self, X, y):\n",
    "        n_samples, n_features = X.shape\n",
    "        \n",
    "        for i in range(self.n_estimators):\n",
    "\n",
    "            # initially all instances have the same weight\n",
    "            instance_weights = self._initial_instance_weights(n_samples)\n",
    "            \n",
    "            # Use predictor to make classification error\n",
    "            clone_clf = clone(self.base_estimator)\n",
    "            clone_clf.fit(X, y)\n",
    "            predicted = clone_clf.predict(X)\n",
    "            \n",
    "            # getting misclassified instances\n",
    "            mis_classified_instances, acc = self._getAccuracy(y, predicted)\n",
    "            \n",
    "            # total error made by the predictor\n",
    "            total_err = self._total_error(mis_classified_instances, instance_weights)\n",
    "            \n",
    "            # weightage of predictor based on its error\n",
    "            predictor_weightage = self._get_predictor_weightage(total_err)\n",
    "            self.predictor_weightages.append((i, clone_clf, predictor_weightage))\n",
    "            \n",
    "            # updating instance weights\n",
    "            instance_weights = self._update_instance_weights(mis_classified_instances, \n",
    "                                                             instance_weights, predictor_weightage)\n",
    "\n",
    "            \n",
    "            # sampling data with replacement focusing on instances that were misclassified\n",
    "            X, y = self._new_sample_set(X, y, instance_weights)\n",
    "\n",
    "    \n",
    "\n",
    "    def _initial_instance_weights(self, shape):\n",
    "        instance_weights = np.full(shape=shape, fill_value=1/shape)\n",
    "        return instance_weights\n",
    "    \n",
    "    \n",
    "    def _getAccuracy(self, true, predicted):\n",
    "        assert len(true) == len(predicted)\n",
    "        error_instance = np.equal(true, predicted).astype(int)\n",
    "        miss_classified = []\n",
    "\n",
    "        for i, j in enumerate(error_instance):\n",
    "            if j == 0:\n",
    "                miss_classified.append(i)\n",
    "                \n",
    "        accuracy = np.sum(true == predicted)\n",
    "        return miss_classified, (accuracy/len(true)) * 100.0\n",
    "    \n",
    "    \n",
    "    def _total_error(self, mis_classified, instance_weights):\n",
    "        error = 0\n",
    "        for i in mis_classified:\n",
    "            error += instance_weights[i]\n",
    "\n",
    "        return error\n",
    "    \n",
    "    def _get_predictor_weightage(self, error):\n",
    "        EPS = 1e-5\n",
    "        weightage = 0.5 * np.log((1.0 - error + EPS) / (error + EPS))\n",
    "        return weightage\n",
    "\n",
    "    \n",
    "    def _update_instance_weights(self, mis_classified_instances, instance_weights, predictor_weightage):\n",
    "        weights = instance_weights[:]\n",
    "        EPS = 1e-10\n",
    "        for idx in range(len(instance_weights)):\n",
    "            if idx in mis_classified_instances:\n",
    "                weights[idx] = weights[idx] * np.exp(predictor_weightage + EPS)\n",
    "            else:\n",
    "                weights[idx] = weights[idx] * np.exp(-predictor_weightage + EPS)\n",
    "\n",
    "\n",
    "        # Normalizing weights\n",
    "        summed_weights = np.sum(weights)\n",
    "        weights /= summed_weights\n",
    "        return np.array(weights)\n",
    "    \n",
    "    def _new_sample_set(self, X, y, instance_weights):\n",
    "        intervals = []\n",
    "        intervals.append(instance_weights[0])\n",
    "\n",
    "        for i, j in enumerate(instance_weights[1:], 1):\n",
    "            intervals.append(j + intervals[i-1])\n",
    "\n",
    "        idxs = []\n",
    "\n",
    "        for i in range(X.shape[0]):\n",
    "            samp = np.random.sample()\n",
    "            try:\n",
    "                idx = np.searchsorted(intervals, samp, side='right')\n",
    "                _ = X[idx] # check if exists\n",
    "            except:\n",
    "                idx = idx - 1\n",
    "\n",
    "            finally:\n",
    "                idxs.append(idx)\n",
    "\n",
    "        X = X[idxs]\n",
    "        y = y[idxs]\n",
    "        return X, y\n",
    "    \n",
    "    def predict(self, X):\n",
    "        clf_predictions = np.array([clf.predict(X) for idx, clf, weightage in self.predictor_weightages])\n",
    "        predictions = []\n",
    "        \n",
    "        for sample_predictions in clf_predictions.T:\n",
    "            class_0 = 0\n",
    "            class_1 = 0\n",
    "            \n",
    "            for predictor, predictor_op in enumerate(sample_predictions):\n",
    "                if predictor_op == 0:\n",
    "                    class_0 += self.predictor_weightages[predictor][2]\n",
    "                else:\n",
    "                    class_1 += self.predictor_weightages[predictor][2]\n",
    "            \n",
    "            if class_0 > class_1:\n",
    "                predictions.append(0)\n",
    "            else:\n",
    "                predictions.append(1)\n",
    "        \n",
    "        return np.array(predictions)"
   ]
  },
  {
   "cell_type": "markdown",
   "metadata": {
    "id": "fRjzKAkVsiMU"
   },
   "source": [
    "## Training and Testing"
   ]
  },
  {
   "cell_type": "code",
   "execution_count": 6,
   "metadata": {
    "ExecuteTime": {
     "end_time": "2020-04-20T21:49:23.035131Z",
     "start_time": "2020-04-20T21:49:22.893705Z"
    },
    "colab": {
     "base_uri": "https://localhost:8080/",
     "height": 202
    },
    "executionInfo": {
     "elapsed": 19,
     "status": "ok",
     "timestamp": 1635739797976,
     "user": {
      "displayName": "Agustin Acerbo",
      "photoUrl": "https://lh3.googleusercontent.com/a-/AOh14GiFUHlal2m-HqrdHQGftXlBFKZBOGaIXX61S4e_MQ=s64",
      "userId": "11845685418075358694"
     },
     "user_tz": 180
    },
    "id": "3KYel9pSsiMU",
    "outputId": "56660bf2-4d4c-40ec-968c-26281353e369"
   },
   "outputs": [
    {
     "data": {
      "text/html": [
       "<div>\n",
       "<style scoped>\n",
       "    .dataframe tbody tr th:only-of-type {\n",
       "        vertical-align: middle;\n",
       "    }\n",
       "\n",
       "    .dataframe tbody tr th {\n",
       "        vertical-align: top;\n",
       "    }\n",
       "\n",
       "    .dataframe thead th {\n",
       "        text-align: right;\n",
       "    }\n",
       "</style>\n",
       "<table border=\"1\" class=\"dataframe\">\n",
       "  <thead>\n",
       "    <tr style=\"text-align: right;\">\n",
       "      <th></th>\n",
       "      <th>Year</th>\n",
       "      <th>Country</th>\n",
       "      <th>Happiness Score</th>\n",
       "      <th>GDP per Capita</th>\n",
       "      <th>Life Expectancy</th>\n",
       "      <th>Freedom</th>\n",
       "      <th>Perceptions of corruption</th>\n",
       "      <th>Generosity</th>\n",
       "      <th>Region</th>\n",
       "    </tr>\n",
       "  </thead>\n",
       "  <tbody>\n",
       "    <tr>\n",
       "      <th>0</th>\n",
       "      <td>2015.0</td>\n",
       "      <td>Switzerland</td>\n",
       "      <td>7.587</td>\n",
       "      <td>1.39651</td>\n",
       "      <td>0.94143</td>\n",
       "      <td>0.66557</td>\n",
       "      <td>0.41978</td>\n",
       "      <td>0.29678</td>\n",
       "      <td>Western Europe</td>\n",
       "    </tr>\n",
       "    <tr>\n",
       "      <th>1</th>\n",
       "      <td>2015.0</td>\n",
       "      <td>Iceland</td>\n",
       "      <td>7.561</td>\n",
       "      <td>1.30232</td>\n",
       "      <td>0.94784</td>\n",
       "      <td>0.62877</td>\n",
       "      <td>0.14145</td>\n",
       "      <td>0.43630</td>\n",
       "      <td>Western Europe</td>\n",
       "    </tr>\n",
       "    <tr>\n",
       "      <th>2</th>\n",
       "      <td>2015.0</td>\n",
       "      <td>Denmark</td>\n",
       "      <td>7.527</td>\n",
       "      <td>1.32548</td>\n",
       "      <td>0.87464</td>\n",
       "      <td>0.64938</td>\n",
       "      <td>0.48357</td>\n",
       "      <td>0.34139</td>\n",
       "      <td>Western Europe</td>\n",
       "    </tr>\n",
       "    <tr>\n",
       "      <th>3</th>\n",
       "      <td>2015.0</td>\n",
       "      <td>Norway</td>\n",
       "      <td>7.522</td>\n",
       "      <td>1.45900</td>\n",
       "      <td>0.88521</td>\n",
       "      <td>0.66973</td>\n",
       "      <td>0.36503</td>\n",
       "      <td>0.34699</td>\n",
       "      <td>Western Europe</td>\n",
       "    </tr>\n",
       "    <tr>\n",
       "      <th>4</th>\n",
       "      <td>2015.0</td>\n",
       "      <td>Canada</td>\n",
       "      <td>7.427</td>\n",
       "      <td>1.32629</td>\n",
       "      <td>0.90563</td>\n",
       "      <td>0.63297</td>\n",
       "      <td>0.32957</td>\n",
       "      <td>0.45811</td>\n",
       "      <td>North America</td>\n",
       "    </tr>\n",
       "  </tbody>\n",
       "</table>\n",
       "</div>"
      ],
      "text/plain": [
       "     Year      Country  ...  Generosity          Region\n",
       "0  2015.0  Switzerland  ...     0.29678  Western Europe\n",
       "1  2015.0      Iceland  ...     0.43630  Western Europe\n",
       "2  2015.0      Denmark  ...     0.34139  Western Europe\n",
       "3  2015.0       Norway  ...     0.34699  Western Europe\n",
       "4  2015.0       Canada  ...     0.45811   North America\n",
       "\n",
       "[5 rows x 9 columns]"
      ]
     },
     "execution_count": 6,
     "metadata": {},
     "output_type": "execute_result"
    }
   ],
   "source": [
    "ds = pd.read_csv('/content/drive/MyDrive/Colab Notebooks/MachineLearningII/ds_final.csv')\n",
    "ds.head()"
   ]
  },
  {
   "cell_type": "code",
   "execution_count": 7,
   "metadata": {
    "colab": {
     "base_uri": "https://localhost:8080/"
    },
    "executionInfo": {
     "elapsed": 429,
     "status": "ok",
     "timestamp": 1635739798389,
     "user": {
      "displayName": "Agustin Acerbo",
      "photoUrl": "https://lh3.googleusercontent.com/a-/AOh14GiFUHlal2m-HqrdHQGftXlBFKZBOGaIXX61S4e_MQ=s64",
      "userId": "11845685418075358694"
     },
     "user_tz": 180
    },
    "id": "uva99LS2llTm",
    "outputId": "d34c4517-b171-4410-da49-d9fca7120561"
   },
   "outputs": [
    {
     "name": "stdout",
     "output_type": "stream",
     "text": [
      "426\n",
      "356\n"
     ]
    }
   ],
   "source": [
    "ds['Happiness Score'] = ds['Happiness Score'].apply(lambda label: 0 if label <= 5.5 else 1)\n",
    "print(len(ds[ds['Happiness Score'] == 0]))\n",
    "print(len(ds[ds['Happiness Score'] == 1]))"
   ]
  },
  {
   "cell_type": "code",
   "execution_count": 8,
   "metadata": {
    "colab": {
     "base_uri": "https://localhost:8080/",
     "height": 202
    },
    "executionInfo": {
     "elapsed": 427,
     "status": "ok",
     "timestamp": 1635739798391,
     "user": {
      "displayName": "Agustin Acerbo",
      "photoUrl": "https://lh3.googleusercontent.com/a-/AOh14GiFUHlal2m-HqrdHQGftXlBFKZBOGaIXX61S4e_MQ=s64",
      "userId": "11845685418075358694"
     },
     "user_tz": 180
    },
    "id": "gJC3PHgejbb8",
    "outputId": "d83152ae-6741-4168-e484-e1f371205fe0"
   },
   "outputs": [
    {
     "data": {
      "text/html": [
       "<div>\n",
       "<style scoped>\n",
       "    .dataframe tbody tr th:only-of-type {\n",
       "        vertical-align: middle;\n",
       "    }\n",
       "\n",
       "    .dataframe tbody tr th {\n",
       "        vertical-align: top;\n",
       "    }\n",
       "\n",
       "    .dataframe thead th {\n",
       "        text-align: right;\n",
       "    }\n",
       "</style>\n",
       "<table border=\"1\" class=\"dataframe\">\n",
       "  <thead>\n",
       "    <tr style=\"text-align: right;\">\n",
       "      <th></th>\n",
       "      <th>Year</th>\n",
       "      <th>Country</th>\n",
       "      <th>Happiness Score</th>\n",
       "      <th>GDP per Capita</th>\n",
       "      <th>Life Expectancy</th>\n",
       "      <th>Freedom</th>\n",
       "      <th>Perceptions of corruption</th>\n",
       "      <th>Generosity</th>\n",
       "      <th>Region</th>\n",
       "    </tr>\n",
       "  </thead>\n",
       "  <tbody>\n",
       "    <tr>\n",
       "      <th>0</th>\n",
       "      <td>2015.0</td>\n",
       "      <td>Switzerland</td>\n",
       "      <td>1</td>\n",
       "      <td>1.39651</td>\n",
       "      <td>0.94143</td>\n",
       "      <td>0.66557</td>\n",
       "      <td>0.41978</td>\n",
       "      <td>0.29678</td>\n",
       "      <td>Western Europe</td>\n",
       "    </tr>\n",
       "    <tr>\n",
       "      <th>1</th>\n",
       "      <td>2015.0</td>\n",
       "      <td>Iceland</td>\n",
       "      <td>1</td>\n",
       "      <td>1.30232</td>\n",
       "      <td>0.94784</td>\n",
       "      <td>0.62877</td>\n",
       "      <td>0.14145</td>\n",
       "      <td>0.43630</td>\n",
       "      <td>Western Europe</td>\n",
       "    </tr>\n",
       "    <tr>\n",
       "      <th>2</th>\n",
       "      <td>2015.0</td>\n",
       "      <td>Denmark</td>\n",
       "      <td>1</td>\n",
       "      <td>1.32548</td>\n",
       "      <td>0.87464</td>\n",
       "      <td>0.64938</td>\n",
       "      <td>0.48357</td>\n",
       "      <td>0.34139</td>\n",
       "      <td>Western Europe</td>\n",
       "    </tr>\n",
       "    <tr>\n",
       "      <th>3</th>\n",
       "      <td>2015.0</td>\n",
       "      <td>Norway</td>\n",
       "      <td>1</td>\n",
       "      <td>1.45900</td>\n",
       "      <td>0.88521</td>\n",
       "      <td>0.66973</td>\n",
       "      <td>0.36503</td>\n",
       "      <td>0.34699</td>\n",
       "      <td>Western Europe</td>\n",
       "    </tr>\n",
       "    <tr>\n",
       "      <th>4</th>\n",
       "      <td>2015.0</td>\n",
       "      <td>Canada</td>\n",
       "      <td>1</td>\n",
       "      <td>1.32629</td>\n",
       "      <td>0.90563</td>\n",
       "      <td>0.63297</td>\n",
       "      <td>0.32957</td>\n",
       "      <td>0.45811</td>\n",
       "      <td>North America</td>\n",
       "    </tr>\n",
       "  </tbody>\n",
       "</table>\n",
       "</div>"
      ],
      "text/plain": [
       "     Year      Country  ...  Generosity          Region\n",
       "0  2015.0  Switzerland  ...     0.29678  Western Europe\n",
       "1  2015.0      Iceland  ...     0.43630  Western Europe\n",
       "2  2015.0      Denmark  ...     0.34139  Western Europe\n",
       "3  2015.0       Norway  ...     0.34699  Western Europe\n",
       "4  2015.0       Canada  ...     0.45811   North America\n",
       "\n",
       "[5 rows x 9 columns]"
      ]
     },
     "execution_count": 8,
     "metadata": {},
     "output_type": "execute_result"
    }
   ],
   "source": [
    "ds.head()"
   ]
  },
  {
   "cell_type": "code",
   "execution_count": 9,
   "metadata": {
    "colab": {
     "base_uri": "https://localhost:8080/"
    },
    "executionInfo": {
     "elapsed": 10,
     "status": "ok",
     "timestamp": 1635739798391,
     "user": {
      "displayName": "Agustin Acerbo",
      "photoUrl": "https://lh3.googleusercontent.com/a-/AOh14GiFUHlal2m-HqrdHQGftXlBFKZBOGaIXX61S4e_MQ=s64",
      "userId": "11845685418075358694"
     },
     "user_tz": 180
    },
    "id": "nFO4_u58oQlm",
    "outputId": "fdfce9a8-50ef-4059-9036-7f8aa37bceff"
   },
   "outputs": [
    {
     "name": "stdout",
     "output_type": "stream",
     "text": [
      "<class 'pandas.core.frame.DataFrame'>\n",
      "RangeIndex: 782 entries, 0 to 781\n",
      "Data columns (total 10 columns):\n",
      " #   Column                                  Non-Null Count  Dtype\n",
      "---  ------                                  --------------  -----\n",
      " 0   Region_Australia and New Zealand        782 non-null    uint8\n",
      " 1   Region_Central and Eastern Europe       782 non-null    uint8\n",
      " 2   Region_Eastern Asia                     782 non-null    uint8\n",
      " 3   Region_Latin America and Caribbean      782 non-null    uint8\n",
      " 4   Region_Middle East and Northern Africa  782 non-null    uint8\n",
      " 5   Region_North America                    782 non-null    uint8\n",
      " 6   Region_Southeastern Asia                782 non-null    uint8\n",
      " 7   Region_Southern Asia                    782 non-null    uint8\n",
      " 8   Region_Sub-Saharan Africa               782 non-null    uint8\n",
      " 9   Region_Western Europe                   782 non-null    uint8\n",
      "dtypes: uint8(10)\n",
      "memory usage: 7.8 KB\n"
     ]
    }
   ],
   "source": [
    "reg = pd.get_dummies(ds.Region, prefix=\"Region\")\n",
    "reg.info()"
   ]
  },
  {
   "cell_type": "code",
   "execution_count": 10,
   "metadata": {
    "colab": {
     "base_uri": "https://localhost:8080/"
    },
    "executionInfo": {
     "elapsed": 8,
     "status": "ok",
     "timestamp": 1635739798391,
     "user": {
      "displayName": "Agustin Acerbo",
      "photoUrl": "https://lh3.googleusercontent.com/a-/AOh14GiFUHlal2m-HqrdHQGftXlBFKZBOGaIXX61S4e_MQ=s64",
      "userId": "11845685418075358694"
     },
     "user_tz": 180
    },
    "id": "I38G57XWoUAK",
    "outputId": "8db42cdf-c558-4d75-9b0a-1d06f676245f"
   },
   "outputs": [
    {
     "name": "stdout",
     "output_type": "stream",
     "text": [
      "<class 'pandas.core.frame.DataFrame'>\n",
      "RangeIndex: 782 entries, 0 to 781\n",
      "Data columns (total 19 columns):\n",
      " #   Column                                  Non-Null Count  Dtype  \n",
      "---  ------                                  --------------  -----  \n",
      " 0   Year                                    782 non-null    float64\n",
      " 1   Country                                 782 non-null    object \n",
      " 2   Happiness Score                         782 non-null    int64  \n",
      " 3   GDP per Capita                          782 non-null    float64\n",
      " 4   Life Expectancy                         782 non-null    float64\n",
      " 5   Freedom                                 782 non-null    float64\n",
      " 6   Perceptions of corruption               782 non-null    float64\n",
      " 7   Generosity                              782 non-null    float64\n",
      " 8   Region                                  782 non-null    object \n",
      " 9   Region_Australia and New Zealand        782 non-null    uint8  \n",
      " 10  Region_Central and Eastern Europe       782 non-null    uint8  \n",
      " 11  Region_Eastern Asia                     782 non-null    uint8  \n",
      " 12  Region_Latin America and Caribbean      782 non-null    uint8  \n",
      " 13  Region_Middle East and Northern Africa  782 non-null    uint8  \n",
      " 14  Region_North America                    782 non-null    uint8  \n",
      " 15  Region_Southeastern Asia                782 non-null    uint8  \n",
      " 16  Region_Southern Asia                    782 non-null    uint8  \n",
      " 17  Region_Sub-Saharan Africa               782 non-null    uint8  \n",
      " 18  Region_Western Europe                   782 non-null    uint8  \n",
      "dtypes: float64(6), int64(1), object(2), uint8(10)\n",
      "memory usage: 62.7+ KB\n"
     ]
    }
   ],
   "source": [
    "ds = pd.concat([ds, reg], axis=1)\n",
    "ds.info()"
   ]
  },
  {
   "cell_type": "code",
   "execution_count": 11,
   "metadata": {
    "ExecuteTime": {
     "end_time": "2020-04-20T21:49:23.164183Z",
     "start_time": "2020-04-20T21:49:23.037126Z"
    },
    "executionInfo": {
     "elapsed": 7,
     "status": "ok",
     "timestamp": 1635739798392,
     "user": {
      "displayName": "Agustin Acerbo",
      "photoUrl": "https://lh3.googleusercontent.com/a-/AOh14GiFUHlal2m-HqrdHQGftXlBFKZBOGaIXX61S4e_MQ=s64",
      "userId": "11845685418075358694"
     },
     "user_tz": 180
    },
    "id": "NVHGCIb2siMV"
   },
   "outputs": [],
   "source": [
    "# No se utilizan las features YEAR, COUNTRY y REGION\n",
    "features=['GDP per Capita',\n",
    "          'Life Expectancy',\n",
    "          'Freedom',\n",
    "          'Perceptions of corruption',\n",
    "          'Generosity',\n",
    "          'Region_Australia and New Zealand', \n",
    "          'Region_Central and Eastern Europe',\n",
    "          'Region_Eastern Asia',\n",
    "          'Region_Latin America and Caribbean',\n",
    "          'Region_Middle East and Northern Africa',\n",
    "          'Region_North America',\n",
    "          'Region_Southeastern Asia',\n",
    "          'Region_Southern Asia',\n",
    "          'Region_Sub-Saharan Africa',\n",
    "          'Region_Western Europe']\n",
    "\n",
    "X = ds[features].values\n",
    "y = ds['Happiness Score'].values\n",
    "\n",
    "\n",
    "X_train, X_test, y_train, y_test = train_test_split(X, y, test_size=0.2, stratify=y, random_state=42)"
   ]
  },
  {
   "cell_type": "code",
   "execution_count": 12,
   "metadata": {
    "ExecuteTime": {
     "end_time": "2020-04-20T21:49:23.280115Z",
     "start_time": "2020-04-20T21:49:23.165971Z"
    },
    "executionInfo": {
     "elapsed": 7,
     "status": "ok",
     "timestamp": 1635739798392,
     "user": {
      "displayName": "Agustin Acerbo",
      "photoUrl": "https://lh3.googleusercontent.com/a-/AOh14GiFUHlal2m-HqrdHQGftXlBFKZBOGaIXX61S4e_MQ=s64",
      "userId": "11845685418075358694"
     },
     "user_tz": 180
    },
    "id": "L1EY39qAsiMW"
   },
   "outputs": [],
   "source": [
    "ada_clf = AdaBoost(base_estimator=Logistic_Regression(learning_rate=0.001, epochs=500),\n",
    "                  n_estimators=10, learning_rate=0.01)"
   ]
  },
  {
   "cell_type": "code",
   "execution_count": 13,
   "metadata": {
    "ExecuteTime": {
     "end_time": "2020-04-20T21:49:24.024679Z",
     "start_time": "2020-04-20T21:49:23.283107Z"
    },
    "colab": {
     "base_uri": "https://localhost:8080/"
    },
    "executionInfo": {
     "elapsed": 1569,
     "status": "ok",
     "timestamp": 1635739799954,
     "user": {
      "displayName": "Agustin Acerbo",
      "photoUrl": "https://lh3.googleusercontent.com/a-/AOh14GiFUHlal2m-HqrdHQGftXlBFKZBOGaIXX61S4e_MQ=s64",
      "userId": "11845685418075358694"
     },
     "user_tz": 180
    },
    "id": "iRcFtvnJsiMW",
    "outputId": "2758624f-3288-4903-89f8-7fbeea549a4d"
   },
   "outputs": [
    {
     "name": "stdout",
     "output_type": "stream",
     "text": [
      "Training Accuracy: 0.83\n",
      "Validation Accuracy: 0.76\n"
     ]
    }
   ],
   "source": [
    "ada_clf.fit(X_train, y_train)\n",
    "y_pred = ada_clf.predict(X_train)\n",
    "print(f\"Training Accuracy: {round(accuracy(y_train, y_pred), 2)}\")\n",
    "\n",
    "y_pred = ada_clf.predict(X_test)\n",
    "print(f\"Validation Accuracy: {round(accuracy(y_test, y_pred), 2)}\")"
   ]
  },
  {
   "cell_type": "markdown",
   "metadata": {
    "ExecuteTime": {
     "end_time": "2020-04-17T16:09:02.009602Z",
     "start_time": "2020-04-17T16:09:00.761505Z"
    },
    "id": "7V1AVjZ_siMX"
   },
   "source": [
    "## Metrics"
   ]
  },
  {
   "cell_type": "code",
   "execution_count": 14,
   "metadata": {
    "ExecuteTime": {
     "end_time": "2020-04-20T21:49:24.030660Z",
     "start_time": "2020-04-20T21:49:24.026672Z"
    },
    "executionInfo": {
     "elapsed": 9,
     "status": "ok",
     "timestamp": 1635739799954,
     "user": {
      "displayName": "Agustin Acerbo",
      "photoUrl": "https://lh3.googleusercontent.com/a-/AOh14GiFUHlal2m-HqrdHQGftXlBFKZBOGaIXX61S4e_MQ=s64",
      "userId": "11845685418075358694"
     },
     "user_tz": 180
    },
    "id": "Qp5OU9qXsiMX"
   },
   "outputs": [],
   "source": [
    "from sklearn.metrics import precision_score, recall_score, f1_score"
   ]
  },
  {
   "cell_type": "code",
   "execution_count": 15,
   "metadata": {
    "ExecuteTime": {
     "end_time": "2020-04-20T21:49:24.139410Z",
     "start_time": "2020-04-20T21:49:24.031658Z"
    },
    "colab": {
     "base_uri": "https://localhost:8080/"
    },
    "executionInfo": {
     "elapsed": 9,
     "status": "ok",
     "timestamp": 1635739799955,
     "user": {
      "displayName": "Agustin Acerbo",
      "photoUrl": "https://lh3.googleusercontent.com/a-/AOh14GiFUHlal2m-HqrdHQGftXlBFKZBOGaIXX61S4e_MQ=s64",
      "userId": "11845685418075358694"
     },
     "user_tz": 180
    },
    "id": "dgPybGkQsiMY",
    "outputId": "402b649d-cc6e-48f0-8c06-9107428f04ce"
   },
   "outputs": [
    {
     "name": "stdout",
     "output_type": "stream",
     "text": [
      "Model Precision: 0.6888888888888889\n",
      "Model Recall: 0.8732394366197183\n",
      "Model F1-score: 0.7701863354037267\n"
     ]
    }
   ],
   "source": [
    "print(f\"Model Precision: {precision_score(y_test, y_pred)}\")\n",
    "print(f\"Model Recall: {recall_score(y_test, y_pred)}\")\n",
    "print(f\"Model F1-score: {f1_score(y_test, y_pred)}\")"
   ]
  },
  {
   "cell_type": "code",
   "execution_count": 16,
   "metadata": {
    "ExecuteTime": {
     "end_time": "2020-04-20T21:49:24.268518Z",
     "start_time": "2020-04-20T21:49:24.140367Z"
    },
    "executionInfo": {
     "elapsed": 8,
     "status": "ok",
     "timestamp": 1635739799955,
     "user": {
      "displayName": "Agustin Acerbo",
      "photoUrl": "https://lh3.googleusercontent.com/a-/AOh14GiFUHlal2m-HqrdHQGftXlBFKZBOGaIXX61S4e_MQ=s64",
      "userId": "11845685418075358694"
     },
     "user_tz": 180
    },
    "id": "HnQzXb8SsiMZ"
   },
   "outputs": [],
   "source": [
    "# roc curve \n",
    "from sklearn.metrics import roc_curve\n",
    "\n",
    "fpr, tpr, thresholdsh = roc_curve(y_test, y_pred)"
   ]
  },
  {
   "cell_type": "code",
   "execution_count": 17,
   "metadata": {
    "ExecuteTime": {
     "end_time": "2020-04-20T21:49:24.550950Z",
     "start_time": "2020-04-20T21:49:24.275501Z"
    },
    "colab": {
     "base_uri": "https://localhost:8080/",
     "height": 396
    },
    "executionInfo": {
     "elapsed": 8,
     "status": "ok",
     "timestamp": 1635739799956,
     "user": {
      "displayName": "Agustin Acerbo",
      "photoUrl": "https://lh3.googleusercontent.com/a-/AOh14GiFUHlal2m-HqrdHQGftXlBFKZBOGaIXX61S4e_MQ=s64",
      "userId": "11845685418075358694"
     },
     "user_tz": 180
    },
    "id": "_BB3ZkslsiMa",
    "outputId": "a4d508f7-016e-4c81-f20a-13c6765a102c"
   },
   "outputs": [
    {
     "data": {
      "image/png": "[encoded data removed]",
      "text/plain": [
       "<Figure size 576x432 with 1 Axes>"
      ]
     },
     "metadata": {
      "needs_background": "light"
     },
     "output_type": "display_data"
    }
   ],
   "source": [
    "def plot_roc_curve(fpr, tpr, label=None):\n",
    "    plt.plot(fpr, tpr, linewidth=2, label=label)\n",
    "    plt.plot([0, 1], [0, 1], 'k--')\n",
    "    plt.axis([0, 1, 0, 1])\n",
    "    plt.xlabel('False Positive Rate (Fall-Out)', fontsize=16)\n",
    "    plt.ylabel('True Positive Rate (Recall)', fontsize=16)\n",
    "    plt.grid(True)\n",
    "\n",
    "plt.figure(figsize=(8, 6))\n",
    "plot_roc_curve(fpr, tpr)"
   ]
  },
  {
   "cell_type": "code",
   "execution_count": 18,
   "metadata": {
    "ExecuteTime": {
     "end_time": "2020-04-20T21:49:24.557936Z",
     "start_time": "2020-04-20T21:49:24.552948Z"
    },
    "colab": {
     "base_uri": "https://localhost:8080/"
    },
    "executionInfo": {
     "elapsed": 8,
     "status": "ok",
     "timestamp": 1635739799956,
     "user": {
      "displayName": "Agustin Acerbo",
      "photoUrl": "https://lh3.googleusercontent.com/a-/AOh14GiFUHlal2m-HqrdHQGftXlBFKZBOGaIXX61S4e_MQ=s64",
      "userId": "11845685418075358694"
     },
     "user_tz": 180
    },
    "id": "cqzCIcmbsiMa",
    "outputId": "acdaa8e4-ef84-46e0-b097-59a77549d734"
   },
   "outputs": [
    {
     "data": {
      "text/plain": [
       "0.7738290206354406"
      ]
     },
     "execution_count": 18,
     "metadata": {},
     "output_type": "execute_result"
    }
   ],
   "source": [
    "from sklearn.metrics import roc_auc_score\n",
    "\n",
    "roc_auc_score(y_test, y_pred)"
   ]
  },
  {
   "cell_type": "code",
   "execution_count": 18,
   "metadata": {
    "executionInfo": {
     "elapsed": 6,
     "status": "ok",
     "timestamp": 1635739799956,
     "user": {
      "displayName": "Agustin Acerbo",
      "photoUrl": "https://lh3.googleusercontent.com/a-/AOh14GiFUHlal2m-HqrdHQGftXlBFKZBOGaIXX61S4e_MQ=s64",
      "userId": "11845685418075358694"
     },
     "user_tz": 180
    },
    "id": "0IYbvwRRpIfB"
   },
   "outputs": [],
   "source": []
  }
 ],
 "metadata": {
  "colab": {
   "collapsed_sections": [],
   "name": "Adaboost_World_Happiness_Classification.ipynb",
   "provenance": [
    {
     "file_id": "1F9-PBRAin566eBvwYGdYD9Rc1NJbTEo-",
     "timestamp": 1635737288742
    },
    {
     "file_id": "https://github.com/veb-101/Machine-Learning-Algorithms/blob/master/Boosting%20-%20AdaBoost/adaboost.ipynb",
     "timestamp": 1630757119990
    }
   ]
  },
  "kernelspec": {
   "display_name": "Python 3 (ipykernel)",
   "language": "python",
   "name": "python3"
  },
  "language_info": {
   "codemirror_mode": {
    "name": "ipython",
    "version": 3
   },
   "file_extension": ".py",
   "mimetype": "text/x-python",
   "name": "python",
   "nbconvert_exporter": "python",
   "pygments_lexer": "ipython3",
   "version": "3.8.13"
  },
  "toc": {
   "base_numbering": 1,
   "nav_menu": {},
   "number_sections": true,
   "sideBar": true,
   "skip_h1_title": false,
   "title_cell": "Table of Contents",
   "title_sidebar": "Contents",
   "toc_cell": true,
   "toc_position": {},
   "toc_section_display": true,
   "toc_window_display": false
  },
  "varInspector": {
   "cols": {
    "lenName": 16,
    "lenType": 16,
    "lenVar": 40
   },
   "kernels_config": {
    "python": {
     "delete_cmd_postfix": "",
     "delete_cmd_prefix": "del ",
     "library": "var_list.py",
     "varRefreshCmd": "print(var_dic_list())"
    },
    "r": {
     "delete_cmd_postfix": ") ",
     "delete_cmd_prefix": "rm(",
     "library": "var_list.r",
     "varRefreshCmd": "cat(var_dic_list()) "
    }
   },
   "position": {
    "height": "463.534px",
    "left": "1077.82px",
    "right": "20px",
    "top": "138px",
    "width": "305.523px"
   },
   "types_to_exclude": [
    "module",
    "function",
    "builtin_function_or_method",
    "instance",
    "_Feature"
   ],
   "window_display": false
  }
 },
 "nbformat": 4,
 "nbformat_minor": 1
}
