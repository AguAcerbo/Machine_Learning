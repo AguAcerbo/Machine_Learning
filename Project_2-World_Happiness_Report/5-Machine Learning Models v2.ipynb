{
 "cells": [
  {
   "cell_type": "code",
   "execution_count": 26,
   "id": "59d61970",
   "metadata": {
    "executionInfo": {
     "elapsed": 285,
     "status": "ok",
     "timestamp": 1635731778023,
     "user": {
      "displayName": "Agustin Acerbo",
      "photoUrl": "https://lh3.googleusercontent.com/a-/AOh14GiFUHlal2m-HqrdHQGftXlBFKZBOGaIXX61S4e_MQ=s64",
      "userId": "11845685418075358694"
     },
     "user_tz": 180
    },
    "id": "59d61970"
   },
   "outputs": [],
   "source": [
    "import pandas as pd\n",
    "import numpy as np\n",
    "from scipy import stats\n",
    "import matplotlib.pyplot as plt\n",
    "import os\n",
    "import seaborn as sns\n",
    "import xgboost as xgb"
   ]
  },
  {
   "cell_type": "markdown",
   "id": "573e40c4",
   "metadata": {
    "id": "573e40c4"
   },
   "source": [
    "## Lectura del Dataset"
   ]
  },
  {
   "cell_type": "code",
   "execution_count": 5,
   "id": "EM08hDRBM8Eu",
   "metadata": {
    "colab": {
     "base_uri": "https://localhost:8080/"
    },
    "executionInfo": {
     "elapsed": 22526,
     "status": "ok",
     "timestamp": 1635731654211,
     "user": {
      "displayName": "Agustin Acerbo",
      "photoUrl": "https://lh3.googleusercontent.com/a-/AOh14GiFUHlal2m-HqrdHQGftXlBFKZBOGaIXX61S4e_MQ=s64",
      "userId": "11845685418075358694"
     },
     "user_tz": 180
    },
    "id": "EM08hDRBM8Eu",
    "outputId": "7f2d049c-2a77-4eea-c58e-7045ae35b7c4"
   },
   "outputs": [
    {
     "name": "stdout",
     "output_type": "stream",
     "text": [
      "Mounted at /content/drive\n"
     ]
    }
   ],
   "source": [
    "from google.colab import drive\n",
    "drive.mount('/content/drive')"
   ]
  },
  {
   "cell_type": "code",
   "execution_count": 6,
   "id": "7aefc1d0",
   "metadata": {
    "executionInfo": {
     "elapsed": 300,
     "status": "ok",
     "timestamp": 1635731708286,
     "user": {
      "displayName": "Agustin Acerbo",
      "photoUrl": "https://lh3.googleusercontent.com/a-/AOh14GiFUHlal2m-HqrdHQGftXlBFKZBOGaIXX61S4e_MQ=s64",
      "userId": "11845685418075358694"
     },
     "user_tz": 180
    },
    "id": "7aefc1d0"
   },
   "outputs": [],
   "source": [
    "path = '/content/drive/MyDrive/Colab Notebooks/MachineLearningII'"
   ]
  },
  {
   "cell_type": "code",
   "execution_count": 7,
   "id": "f0d4122b",
   "metadata": {
    "colab": {
     "base_uri": "https://localhost:8080/"
    },
    "executionInfo": {
     "elapsed": 5,
     "status": "ok",
     "timestamp": 1635731708569,
     "user": {
      "displayName": "Agustin Acerbo",
      "photoUrl": "https://lh3.googleusercontent.com/a-/AOh14GiFUHlal2m-HqrdHQGftXlBFKZBOGaIXX61S4e_MQ=s64",
      "userId": "11845685418075358694"
     },
     "user_tz": 180
    },
    "id": "f0d4122b",
    "outputId": "cd597b50-201d-4d3d-f2c2-82198ae14db8"
   },
   "outputs": [
    {
     "name": "stdout",
     "output_type": "stream",
     "text": [
      "['full_data.csv', 'ds_final.csv', 'Machine Learning Models v2.ipynb']\n"
     ]
    }
   ],
   "source": [
    "data_csv = os.listdir(path)\n",
    "print(data_csv)"
   ]
  },
  {
   "cell_type": "code",
   "execution_count": 8,
   "id": "d0f1d344",
   "metadata": {
    "executionInfo": {
     "elapsed": 739,
     "status": "ok",
     "timestamp": 1635731739577,
     "user": {
      "displayName": "Agustin Acerbo",
      "photoUrl": "https://lh3.googleusercontent.com/a-/AOh14GiFUHlal2m-HqrdHQGftXlBFKZBOGaIXX61S4e_MQ=s64",
      "userId": "11845685418075358694"
     },
     "user_tz": 180
    },
    "id": "d0f1d344"
   },
   "outputs": [],
   "source": [
    "ds = pd.read_csv(path+'/ds_final.csv')"
   ]
  },
  {
   "cell_type": "code",
   "execution_count": 9,
   "id": "b433837e",
   "metadata": {
    "colab": {
     "base_uri": "https://localhost:8080/"
    },
    "executionInfo": {
     "elapsed": 392,
     "status": "ok",
     "timestamp": 1635731741856,
     "user": {
      "displayName": "Agustin Acerbo",
      "photoUrl": "https://lh3.googleusercontent.com/a-/AOh14GiFUHlal2m-HqrdHQGftXlBFKZBOGaIXX61S4e_MQ=s64",
      "userId": "11845685418075358694"
     },
     "user_tz": 180
    },
    "id": "b433837e",
    "outputId": "29c174c1-327e-47a3-a2d5-eef8c396eb5a"
   },
   "outputs": [
    {
     "name": "stdout",
     "output_type": "stream",
     "text": [
      "<class 'pandas.core.frame.DataFrame'>\n",
      "RangeIndex: 782 entries, 0 to 781\n",
      "Data columns (total 9 columns):\n",
      " #   Column                     Non-Null Count  Dtype  \n",
      "---  ------                     --------------  -----  \n",
      " 0   Year                       782 non-null    float64\n",
      " 1   Country                    782 non-null    object \n",
      " 2   Happiness Score            782 non-null    float64\n",
      " 3   GDP per Capita             782 non-null    float64\n",
      " 4   Life Expectancy            782 non-null    float64\n",
      " 5   Freedom                    782 non-null    float64\n",
      " 6   Perceptions of corruption  782 non-null    float64\n",
      " 7   Generosity                 782 non-null    float64\n",
      " 8   Region                     782 non-null    object \n",
      "dtypes: float64(7), object(2)\n",
      "memory usage: 55.1+ KB\n"
     ]
    }
   ],
   "source": [
    "ds.info()"
   ]
  },
  {
   "cell_type": "code",
   "execution_count": 10,
   "id": "a5c864e2",
   "metadata": {
    "colab": {
     "base_uri": "https://localhost:8080/",
     "height": 202
    },
    "executionInfo": {
     "elapsed": 11,
     "status": "ok",
     "timestamp": 1635731742144,
     "user": {
      "displayName": "Agustin Acerbo",
      "photoUrl": "https://lh3.googleusercontent.com/a-/AOh14GiFUHlal2m-HqrdHQGftXlBFKZBOGaIXX61S4e_MQ=s64",
      "userId": "11845685418075358694"
     },
     "user_tz": 180
    },
    "id": "a5c864e2",
    "outputId": "09baf773-f43b-4dab-9f22-7a80ff86a6c5"
   },
   "outputs": [
    {
     "data": {
      "text/html": [
       "<div>\n",
       "<style scoped>\n",
       "    .dataframe tbody tr th:only-of-type {\n",
       "        vertical-align: middle;\n",
       "    }\n",
       "\n",
       "    .dataframe tbody tr th {\n",
       "        vertical-align: top;\n",
       "    }\n",
       "\n",
       "    .dataframe thead th {\n",
       "        text-align: right;\n",
       "    }\n",
       "</style>\n",
       "<table border=\"1\" class=\"dataframe\">\n",
       "  <thead>\n",
       "    <tr style=\"text-align: right;\">\n",
       "      <th></th>\n",
       "      <th>Year</th>\n",
       "      <th>Country</th>\n",
       "      <th>Happiness Score</th>\n",
       "      <th>GDP per Capita</th>\n",
       "      <th>Life Expectancy</th>\n",
       "      <th>Freedom</th>\n",
       "      <th>Perceptions of corruption</th>\n",
       "      <th>Generosity</th>\n",
       "      <th>Region</th>\n",
       "    </tr>\n",
       "  </thead>\n",
       "  <tbody>\n",
       "    <tr>\n",
       "      <th>0</th>\n",
       "      <td>2015.0</td>\n",
       "      <td>Switzerland</td>\n",
       "      <td>7.587</td>\n",
       "      <td>1.39651</td>\n",
       "      <td>0.94143</td>\n",
       "      <td>0.66557</td>\n",
       "      <td>0.41978</td>\n",
       "      <td>0.29678</td>\n",
       "      <td>Western Europe</td>\n",
       "    </tr>\n",
       "    <tr>\n",
       "      <th>1</th>\n",
       "      <td>2015.0</td>\n",
       "      <td>Iceland</td>\n",
       "      <td>7.561</td>\n",
       "      <td>1.30232</td>\n",
       "      <td>0.94784</td>\n",
       "      <td>0.62877</td>\n",
       "      <td>0.14145</td>\n",
       "      <td>0.43630</td>\n",
       "      <td>Western Europe</td>\n",
       "    </tr>\n",
       "    <tr>\n",
       "      <th>2</th>\n",
       "      <td>2015.0</td>\n",
       "      <td>Denmark</td>\n",
       "      <td>7.527</td>\n",
       "      <td>1.32548</td>\n",
       "      <td>0.87464</td>\n",
       "      <td>0.64938</td>\n",
       "      <td>0.48357</td>\n",
       "      <td>0.34139</td>\n",
       "      <td>Western Europe</td>\n",
       "    </tr>\n",
       "    <tr>\n",
       "      <th>3</th>\n",
       "      <td>2015.0</td>\n",
       "      <td>Norway</td>\n",
       "      <td>7.522</td>\n",
       "      <td>1.45900</td>\n",
       "      <td>0.88521</td>\n",
       "      <td>0.66973</td>\n",
       "      <td>0.36503</td>\n",
       "      <td>0.34699</td>\n",
       "      <td>Western Europe</td>\n",
       "    </tr>\n",
       "    <tr>\n",
       "      <th>4</th>\n",
       "      <td>2015.0</td>\n",
       "      <td>Canada</td>\n",
       "      <td>7.427</td>\n",
       "      <td>1.32629</td>\n",
       "      <td>0.90563</td>\n",
       "      <td>0.63297</td>\n",
       "      <td>0.32957</td>\n",
       "      <td>0.45811</td>\n",
       "      <td>North America</td>\n",
       "    </tr>\n",
       "  </tbody>\n",
       "</table>\n",
       "</div>"
      ],
      "text/plain": [
       "     Year      Country  ...  Generosity          Region\n",
       "0  2015.0  Switzerland  ...     0.29678  Western Europe\n",
       "1  2015.0      Iceland  ...     0.43630  Western Europe\n",
       "2  2015.0      Denmark  ...     0.34139  Western Europe\n",
       "3  2015.0       Norway  ...     0.34699  Western Europe\n",
       "4  2015.0       Canada  ...     0.45811   North America\n",
       "\n",
       "[5 rows x 9 columns]"
      ]
     },
     "execution_count": 10,
     "metadata": {},
     "output_type": "execute_result"
    }
   ],
   "source": [
    "ds.head()"
   ]
  },
  {
   "cell_type": "markdown",
   "id": "c99aabc0",
   "metadata": {
    "id": "c99aabc0"
   },
   "source": [
    "Para el entrenamiento dejaremos fuera la feature 'Country' y 'Year'. Por otro lado crearemos 4 modelos:\n",
    "\n",
    "- Modelo 1:\n",
    "    - 'Region' con OHE\n",
    "    - Variables numericas sin modificar\n",
    "- Modelo 2:\n",
    "    - 'Region' con OHE\n",
    "    - Variables numericas normalizadas\n",
    "- Modelo 3:\n",
    "    - Se quita feature 'Region\n",
    "    - Variables numercias sin modificar\n",
    "- Modelo 4:\n",
    "    - Se quita feature 'Region\n",
    "    - Variables numericas normalizadas"
   ]
  },
  {
   "cell_type": "code",
   "execution_count": 11,
   "id": "55e80fc1",
   "metadata": {
    "executionInfo": {
     "elapsed": 315,
     "status": "ok",
     "timestamp": 1635731744159,
     "user": {
      "displayName": "Agustin Acerbo",
      "photoUrl": "https://lh3.googleusercontent.com/a-/AOh14GiFUHlal2m-HqrdHQGftXlBFKZBOGaIXX61S4e_MQ=s64",
      "userId": "11845685418075358694"
     },
     "user_tz": 180
    },
    "id": "55e80fc1"
   },
   "outputs": [],
   "source": [
    "ds.drop(['Country', 'Year'], axis=1, inplace=True)"
   ]
  },
  {
   "cell_type": "code",
   "execution_count": 12,
   "id": "5dee989b",
   "metadata": {
    "executionInfo": {
     "elapsed": 2,
     "status": "ok",
     "timestamp": 1635731744460,
     "user": {
      "displayName": "Agustin Acerbo",
      "photoUrl": "https://lh3.googleusercontent.com/a-/AOh14GiFUHlal2m-HqrdHQGftXlBFKZBOGaIXX61S4e_MQ=s64",
      "userId": "11845685418075358694"
     },
     "user_tz": 180
    },
    "id": "5dee989b"
   },
   "outputs": [],
   "source": [
    "categoricas = ['Region']\n",
    "numericas = ['GDP per Capita', 'Life Expectancy','Freedom', 'Perceptions of corruption', 'Generosity']\n",
    "output =  ['Happiness Score']"
   ]
  },
  {
   "cell_type": "code",
   "execution_count": 13,
   "id": "991a3e57",
   "metadata": {
    "executionInfo": {
     "elapsed": 6,
     "status": "ok",
     "timestamp": 1635731745124,
     "user": {
      "displayName": "Agustin Acerbo",
      "photoUrl": "https://lh3.googleusercontent.com/a-/AOh14GiFUHlal2m-HqrdHQGftXlBFKZBOGaIXX61S4e_MQ=s64",
      "userId": "11845685418075358694"
     },
     "user_tz": 180
    },
    "id": "991a3e57"
   },
   "outputs": [],
   "source": [
    "ds_2 = ds.drop(['Region'], axis=1, inplace=False)"
   ]
  },
  {
   "cell_type": "markdown",
   "id": "460661d1",
   "metadata": {
    "id": "460661d1"
   },
   "source": [
    "## Separación en train/test"
   ]
  },
  {
   "cell_type": "code",
   "execution_count": 14,
   "id": "47b0e8a6",
   "metadata": {
    "executionInfo": {
     "elapsed": 374,
     "status": "ok",
     "timestamp": 1635731746937,
     "user": {
      "displayName": "Agustin Acerbo",
      "photoUrl": "https://lh3.googleusercontent.com/a-/AOh14GiFUHlal2m-HqrdHQGftXlBFKZBOGaIXX61S4e_MQ=s64",
      "userId": "11845685418075358694"
     },
     "user_tz": 180
    },
    "id": "47b0e8a6"
   },
   "outputs": [],
   "source": [
    "from sklearn.model_selection import train_test_split\n",
    "from sklearn.preprocessing import MinMaxScaler"
   ]
  },
  {
   "cell_type": "markdown",
   "id": "4272fee2",
   "metadata": {
    "id": "4272fee2"
   },
   "source": [
    "**Dataset 1 con:**\n",
    "- Features:\n",
    "    - 'Region'\n",
    "    - 'GDP per Capita'\n",
    "    - 'Life Expectancy'\n",
    "    - 'Freedom'\n",
    "    - 'Perceptions of corruption'\n",
    "    - 'Generosity'\n",
    "- Salida:\n",
    "    - 'Happiness Score'"
   ]
  },
  {
   "cell_type": "code",
   "execution_count": 15,
   "id": "df405188",
   "metadata": {
    "colab": {
     "base_uri": "https://localhost:8080/",
     "height": 202
    },
    "executionInfo": {
     "elapsed": 306,
     "status": "ok",
     "timestamp": 1635731748310,
     "user": {
      "displayName": "Agustin Acerbo",
      "photoUrl": "https://lh3.googleusercontent.com/a-/AOh14GiFUHlal2m-HqrdHQGftXlBFKZBOGaIXX61S4e_MQ=s64",
      "userId": "11845685418075358694"
     },
     "user_tz": 180
    },
    "id": "df405188",
    "outputId": "188abcb3-b623-423f-eae9-1f3e6e78ed0e"
   },
   "outputs": [
    {
     "data": {
      "text/html": [
       "<div>\n",
       "<style scoped>\n",
       "    .dataframe tbody tr th:only-of-type {\n",
       "        vertical-align: middle;\n",
       "    }\n",
       "\n",
       "    .dataframe tbody tr th {\n",
       "        vertical-align: top;\n",
       "    }\n",
       "\n",
       "    .dataframe thead th {\n",
       "        text-align: right;\n",
       "    }\n",
       "</style>\n",
       "<table border=\"1\" class=\"dataframe\">\n",
       "  <thead>\n",
       "    <tr style=\"text-align: right;\">\n",
       "      <th></th>\n",
       "      <th>Happiness Score</th>\n",
       "      <th>GDP per Capita</th>\n",
       "      <th>Life Expectancy</th>\n",
       "      <th>Freedom</th>\n",
       "      <th>Perceptions of corruption</th>\n",
       "      <th>Generosity</th>\n",
       "      <th>Region</th>\n",
       "    </tr>\n",
       "  </thead>\n",
       "  <tbody>\n",
       "    <tr>\n",
       "      <th>0</th>\n",
       "      <td>7.587</td>\n",
       "      <td>1.39651</td>\n",
       "      <td>0.94143</td>\n",
       "      <td>0.66557</td>\n",
       "      <td>0.41978</td>\n",
       "      <td>0.29678</td>\n",
       "      <td>Western Europe</td>\n",
       "    </tr>\n",
       "    <tr>\n",
       "      <th>1</th>\n",
       "      <td>7.561</td>\n",
       "      <td>1.30232</td>\n",
       "      <td>0.94784</td>\n",
       "      <td>0.62877</td>\n",
       "      <td>0.14145</td>\n",
       "      <td>0.43630</td>\n",
       "      <td>Western Europe</td>\n",
       "    </tr>\n",
       "    <tr>\n",
       "      <th>2</th>\n",
       "      <td>7.527</td>\n",
       "      <td>1.32548</td>\n",
       "      <td>0.87464</td>\n",
       "      <td>0.64938</td>\n",
       "      <td>0.48357</td>\n",
       "      <td>0.34139</td>\n",
       "      <td>Western Europe</td>\n",
       "    </tr>\n",
       "    <tr>\n",
       "      <th>3</th>\n",
       "      <td>7.522</td>\n",
       "      <td>1.45900</td>\n",
       "      <td>0.88521</td>\n",
       "      <td>0.66973</td>\n",
       "      <td>0.36503</td>\n",
       "      <td>0.34699</td>\n",
       "      <td>Western Europe</td>\n",
       "    </tr>\n",
       "    <tr>\n",
       "      <th>4</th>\n",
       "      <td>7.427</td>\n",
       "      <td>1.32629</td>\n",
       "      <td>0.90563</td>\n",
       "      <td>0.63297</td>\n",
       "      <td>0.32957</td>\n",
       "      <td>0.45811</td>\n",
       "      <td>North America</td>\n",
       "    </tr>\n",
       "  </tbody>\n",
       "</table>\n",
       "</div>"
      ],
      "text/plain": [
       "   Happiness Score  GDP per Capita  ...  Generosity          Region\n",
       "0            7.587         1.39651  ...     0.29678  Western Europe\n",
       "1            7.561         1.30232  ...     0.43630  Western Europe\n",
       "2            7.527         1.32548  ...     0.34139  Western Europe\n",
       "3            7.522         1.45900  ...     0.34699  Western Europe\n",
       "4            7.427         1.32629  ...     0.45811   North America\n",
       "\n",
       "[5 rows x 7 columns]"
      ]
     },
     "execution_count": 15,
     "metadata": {},
     "output_type": "execute_result"
    }
   ],
   "source": [
    "ds.head()"
   ]
  },
  {
   "cell_type": "code",
   "execution_count": 16,
   "id": "109c7010",
   "metadata": {
    "executionInfo": {
     "elapsed": 24,
     "status": "ok",
     "timestamp": 1635731748627,
     "user": {
      "displayName": "Agustin Acerbo",
      "photoUrl": "https://lh3.googleusercontent.com/a-/AOh14GiFUHlal2m-HqrdHQGftXlBFKZBOGaIXX61S4e_MQ=s64",
      "userId": "11845685418075358694"
     },
     "user_tz": 180
    },
    "id": "109c7010"
   },
   "outputs": [],
   "source": [
    "features_1 = ['Region', 'GDP per Capita', 'Life Expectancy',\n",
    "            'Freedom', 'Perceptions of corruption', 'Generosity']\n",
    "\n",
    "x_train_1, x_test_1, y_train_1, y_test_1 = train_test_split(\n",
    "    ds[features_1], \n",
    "    ds[output],  \n",
    "    test_size=0.3,\n",
    "    random_state=42)"
   ]
  },
  {
   "cell_type": "code",
   "execution_count": 17,
   "id": "1b02e22f",
   "metadata": {
    "colab": {
     "base_uri": "https://localhost:8080/"
    },
    "executionInfo": {
     "elapsed": 2,
     "status": "ok",
     "timestamp": 1635731748900,
     "user": {
      "displayName": "Agustin Acerbo",
      "photoUrl": "https://lh3.googleusercontent.com/a-/AOh14GiFUHlal2m-HqrdHQGftXlBFKZBOGaIXX61S4e_MQ=s64",
      "userId": "11845685418075358694"
     },
     "user_tz": 180
    },
    "id": "1b02e22f",
    "outputId": "9ff64167-7d46-403e-e937-471d2d83e993"
   },
   "outputs": [
    {
     "name": "stdout",
     "output_type": "stream",
     "text": [
      "(547, 6)\n",
      "(547, 1)\n",
      "(235, 6)\n",
      "(235, 1)\n"
     ]
    }
   ],
   "source": [
    "print(x_train_1.shape)\n",
    "print(y_train_1.shape)\n",
    "print(x_test_1.shape)\n",
    "print(y_test_1.shape)"
   ]
  },
  {
   "cell_type": "code",
   "execution_count": 18,
   "id": "1713a776",
   "metadata": {
    "executionInfo": {
     "elapsed": 1,
     "status": "ok",
     "timestamp": 1635731749292,
     "user": {
      "displayName": "Agustin Acerbo",
      "photoUrl": "https://lh3.googleusercontent.com/a-/AOh14GiFUHlal2m-HqrdHQGftXlBFKZBOGaIXX61S4e_MQ=s64",
      "userId": "11845685418075358694"
     },
     "user_tz": 180
    },
    "id": "1713a776"
   },
   "outputs": [],
   "source": [
    "y_train_1_norm = (y_train_1 - y_train_1.min(axis=0)) / (y_train_1.max(axis=0) - y_train_1.min(axis=0))\n",
    "y_test_1_norm = (y_test_1 - y_test_1.min(axis=0)) / (y_test_1.max(axis=0) - y_test_1.min(axis=0))"
   ]
  },
  {
   "cell_type": "markdown",
   "id": "f3b9c6eb",
   "metadata": {
    "id": "f3b9c6eb"
   },
   "source": [
    "**Dataset 2 con:**\n",
    "- Features:\n",
    "    - 'GDP per Capita'\n",
    "    - 'Life Expectancy'\n",
    "    - 'Freedom'\n",
    "    - 'Perceptions of corruption'\n",
    "    - 'Generosity'\n",
    "- Salida:\n",
    "    - 'Happiness Score'"
   ]
  },
  {
   "cell_type": "code",
   "execution_count": 19,
   "id": "31a5af23",
   "metadata": {
    "colab": {
     "base_uri": "https://localhost:8080/",
     "height": 202
    },
    "executionInfo": {
     "elapsed": 5,
     "status": "ok",
     "timestamp": 1635731750499,
     "user": {
      "displayName": "Agustin Acerbo",
      "photoUrl": "https://lh3.googleusercontent.com/a-/AOh14GiFUHlal2m-HqrdHQGftXlBFKZBOGaIXX61S4e_MQ=s64",
      "userId": "11845685418075358694"
     },
     "user_tz": 180
    },
    "id": "31a5af23",
    "outputId": "743ef71e-069d-49ab-ce91-8d29f1de2c35"
   },
   "outputs": [
    {
     "data": {
      "text/html": [
       "<div>\n",
       "<style scoped>\n",
       "    .dataframe tbody tr th:only-of-type {\n",
       "        vertical-align: middle;\n",
       "    }\n",
       "\n",
       "    .dataframe tbody tr th {\n",
       "        vertical-align: top;\n",
       "    }\n",
       "\n",
       "    .dataframe thead th {\n",
       "        text-align: right;\n",
       "    }\n",
       "</style>\n",
       "<table border=\"1\" class=\"dataframe\">\n",
       "  <thead>\n",
       "    <tr style=\"text-align: right;\">\n",
       "      <th></th>\n",
       "      <th>Happiness Score</th>\n",
       "      <th>GDP per Capita</th>\n",
       "      <th>Life Expectancy</th>\n",
       "      <th>Freedom</th>\n",
       "      <th>Perceptions of corruption</th>\n",
       "      <th>Generosity</th>\n",
       "    </tr>\n",
       "  </thead>\n",
       "  <tbody>\n",
       "    <tr>\n",
       "      <th>0</th>\n",
       "      <td>7.587</td>\n",
       "      <td>1.39651</td>\n",
       "      <td>0.94143</td>\n",
       "      <td>0.66557</td>\n",
       "      <td>0.41978</td>\n",
       "      <td>0.29678</td>\n",
       "    </tr>\n",
       "    <tr>\n",
       "      <th>1</th>\n",
       "      <td>7.561</td>\n",
       "      <td>1.30232</td>\n",
       "      <td>0.94784</td>\n",
       "      <td>0.62877</td>\n",
       "      <td>0.14145</td>\n",
       "      <td>0.43630</td>\n",
       "    </tr>\n",
       "    <tr>\n",
       "      <th>2</th>\n",
       "      <td>7.527</td>\n",
       "      <td>1.32548</td>\n",
       "      <td>0.87464</td>\n",
       "      <td>0.64938</td>\n",
       "      <td>0.48357</td>\n",
       "      <td>0.34139</td>\n",
       "    </tr>\n",
       "    <tr>\n",
       "      <th>3</th>\n",
       "      <td>7.522</td>\n",
       "      <td>1.45900</td>\n",
       "      <td>0.88521</td>\n",
       "      <td>0.66973</td>\n",
       "      <td>0.36503</td>\n",
       "      <td>0.34699</td>\n",
       "    </tr>\n",
       "    <tr>\n",
       "      <th>4</th>\n",
       "      <td>7.427</td>\n",
       "      <td>1.32629</td>\n",
       "      <td>0.90563</td>\n",
       "      <td>0.63297</td>\n",
       "      <td>0.32957</td>\n",
       "      <td>0.45811</td>\n",
       "    </tr>\n",
       "  </tbody>\n",
       "</table>\n",
       "</div>"
      ],
      "text/plain": [
       "   Happiness Score  GDP per Capita  ...  Perceptions of corruption  Generosity\n",
       "0            7.587         1.39651  ...                    0.41978     0.29678\n",
       "1            7.561         1.30232  ...                    0.14145     0.43630\n",
       "2            7.527         1.32548  ...                    0.48357     0.34139\n",
       "3            7.522         1.45900  ...                    0.36503     0.34699\n",
       "4            7.427         1.32629  ...                    0.32957     0.45811\n",
       "\n",
       "[5 rows x 6 columns]"
      ]
     },
     "execution_count": 19,
     "metadata": {},
     "output_type": "execute_result"
    }
   ],
   "source": [
    "ds_2.head()"
   ]
  },
  {
   "cell_type": "code",
   "execution_count": 20,
   "id": "a4ca37e7",
   "metadata": {
    "colab": {
     "base_uri": "https://localhost:8080/"
    },
    "executionInfo": {
     "elapsed": 2,
     "status": "ok",
     "timestamp": 1635731750833,
     "user": {
      "displayName": "Agustin Acerbo",
      "photoUrl": "https://lh3.googleusercontent.com/a-/AOh14GiFUHlal2m-HqrdHQGftXlBFKZBOGaIXX61S4e_MQ=s64",
      "userId": "11845685418075358694"
     },
     "user_tz": 180
    },
    "id": "a4ca37e7",
    "outputId": "f48d40c8-2ab6-4dc6-bbdd-3ffcab28e2cb"
   },
   "outputs": [
    {
     "name": "stdout",
     "output_type": "stream",
     "text": [
      "(547, 5)\n",
      "(547, 1)\n",
      "(235, 5)\n",
      "(235, 1)\n"
     ]
    }
   ],
   "source": [
    "features_2 = ['GDP per Capita', 'Life Expectancy', 'Freedom',\n",
    "              'Perceptions of corruption', 'Generosity']\n",
    "\n",
    "x_train_2, x_test_2, y_train_2, y_test_2 = train_test_split(\n",
    "    ds[features_2], \n",
    "    ds[output],  \n",
    "    test_size=0.3,\n",
    "    random_state=42)\n",
    "\n",
    "print(x_train_2.shape)\n",
    "print(y_train_2.shape)\n",
    "print(x_test_2.shape)\n",
    "print(y_test_2.shape)"
   ]
  },
  {
   "cell_type": "code",
   "execution_count": 21,
   "id": "15dfc24b",
   "metadata": {
    "executionInfo": {
     "elapsed": 2,
     "status": "ok",
     "timestamp": 1635731751259,
     "user": {
      "displayName": "Agustin Acerbo",
      "photoUrl": "https://lh3.googleusercontent.com/a-/AOh14GiFUHlal2m-HqrdHQGftXlBFKZBOGaIXX61S4e_MQ=s64",
      "userId": "11845685418075358694"
     },
     "user_tz": 180
    },
    "id": "15dfc24b"
   },
   "outputs": [],
   "source": [
    "y_train_2_norm = (y_train_2 - y_train_2.min(axis=0)) / (y_train_2.max(axis=0) - y_train_2.min(axis=0))\n",
    "y_test_2_norm = (y_test_2 - y_test_2.min(axis=0)) / (y_test_2.max(axis=0) - y_test_2.min(axis=0))"
   ]
  },
  {
   "cell_type": "markdown",
   "id": "1014906c",
   "metadata": {
    "id": "1014906c"
   },
   "source": [
    "## Entrenamiento de modelos"
   ]
  },
  {
   "cell_type": "code",
   "execution_count": 110,
   "id": "da09459a",
   "metadata": {
    "executionInfo": {
     "elapsed": 313,
     "status": "ok",
     "timestamp": 1635734098848,
     "user": {
      "displayName": "Agustin Acerbo",
      "photoUrl": "https://lh3.googleusercontent.com/a-/AOh14GiFUHlal2m-HqrdHQGftXlBFKZBOGaIXX61S4e_MQ=s64",
      "userId": "11845685418075358694"
     },
     "user_tz": 180
    },
    "id": "da09459a"
   },
   "outputs": [],
   "source": [
    "# Entrenamiento de modelos de prueba\n",
    "from sklearn.pipeline import Pipeline\n",
    "from sklearn.linear_model import LinearRegression\n",
    "from sklearn.linear_model import Ridge\n",
    "from sklearn.ensemble import AdaBoostRegressor\n",
    "from sklearn.ensemble import RandomForestRegressor\n",
    "from sklearn.metrics import balanced_accuracy_score\n",
    "\n",
    "def pipeline_ml_models(preprocessing_pipeline):\n",
    "  # Modelos a ensayar.\n",
    "  models = [\n",
    "      (\"RandomForest\", \n",
    "          Pipeline([\n",
    "              ('preprocessor', preprocessing_pipeline),\n",
    "              ('model', RandomForestRegressor(n_estimators=200, random_state=42)) \n",
    "          ])\n",
    "      ),\n",
    "      \n",
    "      (\"Adaboost\", \n",
    "          Pipeline([\n",
    "              ('preprocessor', preprocessing_pipeline),\n",
    "              ('model', AdaBoostRegressor(n_estimators=200, random_state=42)) \n",
    "          ])\n",
    "      ),\n",
    "      \n",
    "      (\"LinearRegression\", \n",
    "          Pipeline([\n",
    "              ('preprocessor', preprocessing_pipeline),\n",
    "              ('model', LinearRegression())\n",
    "          ])\n",
    "      ),\n",
    "      \n",
    "      (\"LinearRegression_Ridge\", \n",
    "          Pipeline([\n",
    "              ('preprocessor', preprocessing_pipeline),\n",
    "              ('model', Ridge(alpha = 0.001))\n",
    "          ])\n",
    "      ),\n",
    "\n",
    "      (\"XGBRegressor\", \n",
    "          Pipeline([\n",
    "              ('preprocessor', preprocessing_pipeline),\n",
    "              ('model', xgb.XGBRegressor(max_depth=3,\n",
    "                                         learning_rate=0.1,\n",
    "                                         n_estimators=200,\n",
    "                                         objective=\"reg:squarederror\",\n",
    "                                         random_state=42,\n",
    "                                         reg_lambda = 0.8))\n",
    "          ])\n",
    "      ),\n",
    "      \n",
    "  ]\n",
    "  \n",
    "  return models"
   ]
  },
  {
   "cell_type": "markdown",
   "id": "62fa74ec",
   "metadata": {
    "id": "62fa74ec"
   },
   "source": [
    "### Cadenas de preprocesamiento"
   ]
  },
  {
   "cell_type": "code",
   "execution_count": 111,
   "id": "dd29f6ed",
   "metadata": {
    "executionInfo": {
     "elapsed": 294,
     "status": "ok",
     "timestamp": 1635734103096,
     "user": {
      "displayName": "Agustin Acerbo",
      "photoUrl": "https://lh3.googleusercontent.com/a-/AOh14GiFUHlal2m-HqrdHQGftXlBFKZBOGaIXX61S4e_MQ=s64",
      "userId": "11845685418075358694"
     },
     "user_tz": 180
    },
    "id": "dd29f6ed"
   },
   "outputs": [],
   "source": [
    "from sklearn.preprocessing import OneHotEncoder\n",
    "from sklearn.preprocessing import StandardScaler\n",
    "from sklearn.compose import ColumnTransformer"
   ]
  },
  {
   "cell_type": "markdown",
   "id": "9c69a872",
   "metadata": {
    "id": "9c69a872"
   },
   "source": [
    "#### Modelo 1: \n",
    "- 'Region' con OHE\n",
    "- Variables numericas sin modificar"
   ]
  },
  {
   "cell_type": "code",
   "execution_count": 112,
   "id": "707d54bc",
   "metadata": {
    "executionInfo": {
     "elapsed": 5,
     "status": "ok",
     "timestamp": 1635734103381,
     "user": {
      "displayName": "Agustin Acerbo",
      "photoUrl": "https://lh3.googleusercontent.com/a-/AOh14GiFUHlal2m-HqrdHQGftXlBFKZBOGaIXX61S4e_MQ=s64",
      "userId": "11845685418075358694"
     },
     "user_tz": 180
    },
    "id": "707d54bc"
   },
   "outputs": [],
   "source": [
    "preprocessing_pipeline1 = ColumnTransformer(\n",
    "             transformers=[\n",
    "                           ('categoric', OneHotEncoder(handle_unknown='ignore'),categoricas)\n",
    "              ],\n",
    "              remainder='passthrough'\n",
    ")\n",
    "\n",
    "model1 = pipeline_ml_models(preprocessing_pipeline1)"
   ]
  },
  {
   "cell_type": "markdown",
   "id": "58a37681",
   "metadata": {
    "id": "58a37681"
   },
   "source": [
    "#### Modelo 2:\n",
    "- 'Region' con OHE\n",
    "- Variables numericas normalizadas"
   ]
  },
  {
   "cell_type": "code",
   "execution_count": 113,
   "id": "3f455fb0",
   "metadata": {
    "executionInfo": {
     "elapsed": 6,
     "status": "ok",
     "timestamp": 1635734103383,
     "user": {
      "displayName": "Agustin Acerbo",
      "photoUrl": "https://lh3.googleusercontent.com/a-/AOh14GiFUHlal2m-HqrdHQGftXlBFKZBOGaIXX61S4e_MQ=s64",
      "userId": "11845685418075358694"
     },
     "user_tz": 180
    },
    "id": "3f455fb0"
   },
   "outputs": [],
   "source": [
    "preprocessing_pipeline2 = ColumnTransformer(\n",
    "             transformers=[\n",
    "                           ('categoric', OneHotEncoder(handle_unknown='ignore'),categoricas),\n",
    "                           (\"numerical\", MinMaxScaler(), numericas)\n",
    "              ],\n",
    "              remainder='passthrough'\n",
    ")\n",
    "\n",
    "model2 = pipeline_ml_models(preprocessing_pipeline2)"
   ]
  },
  {
   "cell_type": "markdown",
   "id": "17117278",
   "metadata": {
    "id": "17117278"
   },
   "source": [
    "#### Modelo 3:\n",
    "- Se quita feature 'Region\n",
    "- Variables numercias sin modificar"
   ]
  },
  {
   "cell_type": "code",
   "execution_count": 114,
   "id": "dcd5a1cd",
   "metadata": {
    "executionInfo": {
     "elapsed": 6,
     "status": "ok",
     "timestamp": 1635734103383,
     "user": {
      "displayName": "Agustin Acerbo",
      "photoUrl": "https://lh3.googleusercontent.com/a-/AOh14GiFUHlal2m-HqrdHQGftXlBFKZBOGaIXX61S4e_MQ=s64",
      "userId": "11845685418075358694"
     },
     "user_tz": 180
    },
    "id": "dcd5a1cd"
   },
   "outputs": [],
   "source": [
    "preprocessing_pipeline3 = ColumnTransformer(\n",
    "    # Transformaciones a aplicar a cada columna\n",
    "             transformers=[\n",
    "              ],\n",
    "              remainder='passthrough'\n",
    ")\n",
    "\n",
    "model3 = pipeline_ml_models(preprocessing_pipeline3)"
   ]
  },
  {
   "cell_type": "markdown",
   "id": "d5ec2e4d",
   "metadata": {
    "id": "d5ec2e4d"
   },
   "source": [
    "#### Modelo 4:\n",
    "- Se quita feature 'Region\n",
    "- Variables numericas normalizadas"
   ]
  },
  {
   "cell_type": "code",
   "execution_count": 115,
   "id": "ca31398a",
   "metadata": {
    "executionInfo": {
     "elapsed": 6,
     "status": "ok",
     "timestamp": 1635734103384,
     "user": {
      "displayName": "Agustin Acerbo",
      "photoUrl": "https://lh3.googleusercontent.com/a-/AOh14GiFUHlal2m-HqrdHQGftXlBFKZBOGaIXX61S4e_MQ=s64",
      "userId": "11845685418075358694"
     },
     "user_tz": 180
    },
    "id": "ca31398a"
   },
   "outputs": [],
   "source": [
    "preprocessing_pipeline4 = ColumnTransformer(\n",
    "    # Transformaciones a aplicar a cada columna\n",
    "             transformers=[\n",
    "                           (\"numerical\", MinMaxScaler(), numericas)\n",
    "              ],\n",
    "              remainder='passthrough'\n",
    ")\n",
    "\n",
    "model4 = pipeline_ml_models(preprocessing_pipeline4)"
   ]
  },
  {
   "cell_type": "markdown",
   "id": "hA6_JzwkMiov",
   "metadata": {
    "id": "hA6_JzwkMiov"
   },
   "source": [
    "#### Entrenamiento y Resultados"
   ]
  },
  {
   "cell_type": "code",
   "execution_count": 116,
   "id": "86308a1b",
   "metadata": {
    "executionInfo": {
     "elapsed": 6,
     "status": "ok",
     "timestamp": 1635734103384,
     "user": {
      "displayName": "Agustin Acerbo",
      "photoUrl": "https://lh3.googleusercontent.com/a-/AOh14GiFUHlal2m-HqrdHQGftXlBFKZBOGaIXX61S4e_MQ=s64",
      "userId": "11845685418075358694"
     },
     "user_tz": 180
    },
    "id": "86308a1b"
   },
   "outputs": [],
   "source": [
    "from sklearn.model_selection import StratifiedKFold\n",
    "from sklearn.model_selection import KFold\n",
    "from sklearn.base import clone\n",
    "from sklearn.metrics import mean_squared_error\n",
    "\n",
    "def kfold_pipeline(models_pipeline, samples , target, x_test, y_test, k = 15):\n",
    "    \n",
    "    \"\"\"\n",
    "    Esta funcion recibe:\n",
    "        models_pipeline: el pipeline de los modelos a evaluar\n",
    "        samples: set de entrenamiento\n",
    "        target: salidas del set de entrenamiento\n",
    "        x_test: set de testeo\n",
    "        y_test: set de testeo\n",
    "        k: el numero de segmentos que utilizara el algoritmo de K-Fold\n",
    "    \"\"\"\n",
    "    results = {}\n",
    "    for model in models_pipeline:\n",
    "        model_name = model[0]\n",
    "        results[model_name] = {}\n",
    "        \n",
    "        train_mse = 0\n",
    "        valid_mse = 0\n",
    "        \n",
    "        kf = KFold(n_splits=k)\n",
    "        kf.get_n_splits(samples)\n",
    "        \n",
    "        for train_index, valid_index in kf.split(samples, target):\n",
    "            x_valid = samples.iloc[valid_index]\n",
    "            y_valid = target.iloc[valid_index]\n",
    "            x_train = samples.iloc[train_index]\n",
    "            y_train = target.iloc[train_index]\n",
    "            \n",
    "            model[1].fit(x_train, np.ravel(y_train))\n",
    "            pred_train = model[1].predict(x_train)\n",
    "            pred_valid = model[1].predict(x_valid)        \n",
    "           \n",
    "            if len(pred_train.shape)>1 and (pred_train.shape[1]>1):\n",
    "                train_mse = train_mse + mean_squared_error(y_train, pred_train.reshape(-1,1)) / k\n",
    "                valid_mse = valid_mse + mean_squared_error(y_valid, pred_valid.reshape(-1,1)) / k\n",
    "            else:\n",
    "                train_mse = train_mse + mean_squared_error(y_train, pred_train.reshape(-1,1)) / k\n",
    "                valid_mse = valid_mse + mean_squared_error(y_valid, pred_valid.reshape(-1,1)) / k\n",
    "        \n",
    "        pred_test = model[1].predict(x_test)\n",
    "\n",
    "        results[model_name][\"Train\"] = train_mse\n",
    "        results[model_name][\"Valid\"] = valid_mse\n",
    "        results[model_name][\"Test\"] = mean_squared_error(y_test, pred_test.reshape(-1,1))\n",
    "\n",
    "    models_results = pd.DataFrame(results).T\n",
    "    return models_results"
   ]
  },
  {
   "cell_type": "code",
   "execution_count": 117,
   "id": "00b1999c",
   "metadata": {
    "executionInfo": {
     "elapsed": 21092,
     "status": "ok",
     "timestamp": 1635734124470,
     "user": {
      "displayName": "Agustin Acerbo",
      "photoUrl": "https://lh3.googleusercontent.com/a-/AOh14GiFUHlal2m-HqrdHQGftXlBFKZBOGaIXX61S4e_MQ=s64",
      "userId": "11845685418075358694"
     },
     "user_tz": 180
    },
    "id": "00b1999c"
   },
   "outputs": [],
   "source": [
    "res1 = kfold_pipeline(model1, x_train_1, y_train_1_norm, x_test_1, y_test_1_norm, k = 5)\n",
    "res2 = kfold_pipeline(model2, x_train_1, y_train_1_norm, x_test_1, y_test_1_norm, k = 5)\n",
    "res3 = kfold_pipeline(model3, x_train_2, y_train_2_norm, x_test_2, y_test_2_norm, k = 5)\n",
    "res4 = kfold_pipeline(model4, x_train_2, y_train_2_norm, x_test_2, y_test_2_norm, k = 5)"
   ]
  },
  {
   "cell_type": "markdown",
   "id": "k-zTEBF0VSQF",
   "metadata": {
    "id": "k-zTEBF0VSQF"
   },
   "source": [
    "#### Resultados de modelos"
   ]
  },
  {
   "cell_type": "code",
   "execution_count": 118,
   "id": "b5c7ee4d",
   "metadata": {
    "executionInfo": {
     "elapsed": 8,
     "status": "ok",
     "timestamp": 1635734124471,
     "user": {
      "displayName": "Agustin Acerbo",
      "photoUrl": "https://lh3.googleusercontent.com/a-/AOh14GiFUHlal2m-HqrdHQGftXlBFKZBOGaIXX61S4e_MQ=s64",
      "userId": "11845685418075358694"
     },
     "user_tz": 180
    },
    "id": "b5c7ee4d"
   },
   "outputs": [],
   "source": [
    "resultado1 = pd.DataFrame()\n",
    "resultado2 = pd.DataFrame()\n",
    "resultado3 = pd.DataFrame()\n",
    "resultado4 = pd.DataFrame()"
   ]
  },
  {
   "cell_type": "code",
   "execution_count": 119,
   "id": "c74a78dd",
   "metadata": {
    "executionInfo": {
     "elapsed": 8,
     "status": "ok",
     "timestamp": 1635734124472,
     "user": {
      "displayName": "Agustin Acerbo",
      "photoUrl": "https://lh3.googleusercontent.com/a-/AOh14GiFUHlal2m-HqrdHQGftXlBFKZBOGaIXX61S4e_MQ=s64",
      "userId": "11845685418075358694"
     },
     "user_tz": 180
    },
    "id": "c74a78dd"
   },
   "outputs": [],
   "source": [
    "resultado1['Train Model 1'] = res1['Train']\n",
    "resultado1['Test Model 1'] = res1['Test']\n",
    "\n",
    "resultado2['Train Model 2'] = res2['Train']\n",
    "resultado2['Test Model 2'] = res2['Test']\n",
    "\n",
    "resultado3['Train Model 3'] = res3['Train']\n",
    "resultado3['Test Model 3'] = res3['Test']\n",
    "\n",
    "resultado4['Train Model 4'] = res4['Train']\n",
    "resultado4['Test Model 4'] = res4['Test']"
   ]
  },
  {
   "cell_type": "code",
   "execution_count": 120,
   "id": "5b2331b5",
   "metadata": {
    "executionInfo": {
     "elapsed": 8,
     "status": "ok",
     "timestamp": 1635734124472,
     "user": {
      "displayName": "Agustin Acerbo",
      "photoUrl": "https://lh3.googleusercontent.com/a-/AOh14GiFUHlal2m-HqrdHQGftXlBFKZBOGaIXX61S4e_MQ=s64",
      "userId": "11845685418075358694"
     },
     "user_tz": 180
    },
    "id": "5b2331b5"
   },
   "outputs": [],
   "source": [
    "train_mse = pd.concat([resultado1['Train Model 1'], resultado2['Train Model 2'], resultado3['Train Model 3'],\n",
    "                      resultado4['Train Model 4']], axis = 1)\n",
    "test_mse = pd.concat([resultado1['Test Model 1'], resultado2['Test Model 2'], resultado3['Test Model 3'],\n",
    "                      resultado4['Test Model 4']], axis = 1)"
   ]
  },
  {
   "cell_type": "code",
   "execution_count": 121,
   "id": "4c124718",
   "metadata": {
    "colab": {
     "base_uri": "https://localhost:8080/",
     "height": 516
    },
    "executionInfo": {
     "elapsed": 681,
     "status": "ok",
     "timestamp": 1635734125145,
     "user": {
      "displayName": "Agustin Acerbo",
      "photoUrl": "https://lh3.googleusercontent.com/a-/AOh14GiFUHlal2m-HqrdHQGftXlBFKZBOGaIXX61S4e_MQ=s64",
      "userId": "11845685418075358694"
     },
     "user_tz": 180
    },
    "id": "4c124718",
    "outputId": "1e4cac7d-065e-4ffc-f71b-526413dd5139"
   },
   "outputs": [
    {
     "data": {
      "text/plain": [
       "<matplotlib.axes._subplots.AxesSubplot at 0x7fa29ccd5a90>"
      ]
     },
     "execution_count": 121,
     "metadata": {},
     "output_type": "execute_result"
    },
    {
     "data": {
      "image/png": "[encoded data removed]",
      "text/plain": [
       "<Figure size 1584x432 with 1 Axes>"
      ]
     },
     "metadata": {
      "needs_background": "light"
     },
     "output_type": "display_data"
    }
   ],
   "source": [
    "train_mse.plot.bar(title=\"Desempeño de modelos\",figsize=(22,6))"
   ]
  },
  {
   "cell_type": "code",
   "execution_count": 122,
   "id": "4de19a58",
   "metadata": {
    "colab": {
     "base_uri": "https://localhost:8080/",
     "height": 516
    },
    "executionInfo": {
     "elapsed": 7,
     "status": "ok",
     "timestamp": 1635734125146,
     "user": {
      "displayName": "Agustin Acerbo",
      "photoUrl": "https://lh3.googleusercontent.com/a-/AOh14GiFUHlal2m-HqrdHQGftXlBFKZBOGaIXX61S4e_MQ=s64",
      "userId": "11845685418075358694"
     },
     "user_tz": 180
    },
    "id": "4de19a58",
    "outputId": "83ef5b8c-c265-4451-cbff-e7fae9044acb"
   },
   "outputs": [
    {
     "data": {
      "text/plain": [
       "<matplotlib.axes._subplots.AxesSubplot at 0x7fa2980e1e90>"
      ]
     },
     "execution_count": 122,
     "metadata": {},
     "output_type": "execute_result"
    },
    {
     "data": {
      "image/png": "[encoded data removed]",
      "text/plain": [
       "<Figure size 1584x432 with 1 Axes>"
      ]
     },
     "metadata": {
      "needs_background": "light"
     },
     "output_type": "display_data"
    }
   ],
   "source": [
    "test_mse.plot.bar(title=\"Desempeño de modelos\",figsize=(22,6))"
   ]
  },
  {
   "cell_type": "markdown",
   "id": "GV9jCvRkUc4e",
   "metadata": {
    "id": "GV9jCvRkUc4e"
   },
   "source": [
    "#### Importancia de features"
   ]
  },
  {
   "cell_type": "markdown",
   "id": "GHpXJ-XfTggW",
   "metadata": {
    "id": "GHpXJ-XfTggW"
   },
   "source": [
    "A traves de la libreria xgb podemos realizar un analisis de importancia de features. Aqui podemos ver que en los modelos 1 y 2 tenemos las features f1 a f9  corresponden a las distintas regiones codificadas por ohe. Las features f10 a f14 corresponden a las variables 'GDP per Capita', 'Life Expectancy', 'Freedom', 'Perceptions of corruption', 'Generosity'. Mientras que en los modelos 3 y 4 solo tenemos las features numericas en el mismo orden:"
   ]
  },
  {
   "cell_type": "code",
   "execution_count": 123,
   "id": "9y1sDdAVQXxs",
   "metadata": {
    "colab": {
     "base_uri": "https://localhost:8080/",
     "height": 312
    },
    "executionInfo": {
     "elapsed": 1621,
     "status": "ok",
     "timestamp": 1635734126763,
     "user": {
      "displayName": "Agustin Acerbo",
      "photoUrl": "https://lh3.googleusercontent.com/a-/AOh14GiFUHlal2m-HqrdHQGftXlBFKZBOGaIXX61S4e_MQ=s64",
      "userId": "11845685418075358694"
     },
     "user_tz": 180
    },
    "id": "9y1sDdAVQXxs",
    "outputId": "6e8d10d5-601a-4d51-a6c2-587dd1ecc688"
   },
   "outputs": [
    {
     "data": {
      "text/plain": [
       "<matplotlib.axes._subplots.AxesSubplot at 0x7fa29795ed90>"
      ]
     },
     "execution_count": 123,
     "metadata": {},
     "output_type": "execute_result"
    },
    {
     "data": {
      "image/png": "[encoded data removed]",
      "text/plain": [
       "<Figure size 432x288 with 1 Axes>"
      ]
     },
     "metadata": {
      "needs_background": "light"
     },
     "output_type": "display_data"
    }
   ],
   "source": [
    "xgb.plot_importance(model1[4][1][1], )"
   ]
  },
  {
   "cell_type": "code",
   "execution_count": 124,
   "id": "_JFxeQ-9RjZd",
   "metadata": {
    "colab": {
     "base_uri": "https://localhost:8080/"
    },
    "executionInfo": {
     "elapsed": 49,
     "status": "ok",
     "timestamp": 1635734126765,
     "user": {
      "displayName": "Agustin Acerbo",
      "photoUrl": "https://lh3.googleusercontent.com/a-/AOh14GiFUHlal2m-HqrdHQGftXlBFKZBOGaIXX61S4e_MQ=s64",
      "userId": "11845685418075358694"
     },
     "user_tz": 180
    },
    "id": "_JFxeQ-9RjZd",
    "outputId": "dabe9813-5601-48cb-f421-d8b68ee9d546"
   },
   "outputs": [
    {
     "data": {
      "text/plain": [
       "ColumnTransformer(n_jobs=None, remainder='passthrough', sparse_threshold=0.3,\n",
       "                  transformer_weights=None,\n",
       "                  transformers=[('categoric',\n",
       "                                 OneHotEncoder(categories='auto', drop=None,\n",
       "                                               dtype=<class 'numpy.float64'>,\n",
       "                                               handle_unknown='ignore',\n",
       "                                               sparse=True),\n",
       "                                 ['Region'])],\n",
       "                  verbose=False)"
      ]
     },
     "execution_count": 124,
     "metadata": {},
     "output_type": "execute_result"
    }
   ],
   "source": [
    "model1[4][1][0]"
   ]
  },
  {
   "cell_type": "code",
   "execution_count": 125,
   "id": "JKbRcA_WQv5d",
   "metadata": {
    "colab": {
     "base_uri": "https://localhost:8080/",
     "height": 312
    },
    "executionInfo": {
     "elapsed": 45,
     "status": "ok",
     "timestamp": 1635734126767,
     "user": {
      "displayName": "Agustin Acerbo",
      "photoUrl": "https://lh3.googleusercontent.com/a-/AOh14GiFUHlal2m-HqrdHQGftXlBFKZBOGaIXX61S4e_MQ=s64",
      "userId": "11845685418075358694"
     },
     "user_tz": 180
    },
    "id": "JKbRcA_WQv5d",
    "outputId": "52c56041-1c37-4520-f77d-eeb510a728da"
   },
   "outputs": [
    {
     "data": {
      "text/plain": [
       "<matplotlib.axes._subplots.AxesSubplot at 0x7fa297835390>"
      ]
     },
     "execution_count": 125,
     "metadata": {},
     "output_type": "execute_result"
    },
    {
     "data": {
      "image/png": "[encoded data removed]",
      "text/plain": [
       "<Figure size 432x288 with 1 Axes>"
      ]
     },
     "metadata": {
      "needs_background": "light"
     },
     "output_type": "display_data"
    }
   ],
   "source": [
    "xgb.plot_importance(model2[4][1][1])"
   ]
  },
  {
   "cell_type": "code",
   "execution_count": 126,
   "id": "NL5YCMydRe6S",
   "metadata": {
    "colab": {
     "base_uri": "https://localhost:8080/"
    },
    "executionInfo": {
     "elapsed": 39,
     "status": "ok",
     "timestamp": 1635734126769,
     "user": {
      "displayName": "Agustin Acerbo",
      "photoUrl": "https://lh3.googleusercontent.com/a-/AOh14GiFUHlal2m-HqrdHQGftXlBFKZBOGaIXX61S4e_MQ=s64",
      "userId": "11845685418075358694"
     },
     "user_tz": 180
    },
    "id": "NL5YCMydRe6S",
    "outputId": "819aa40d-fe16-4a5d-8bc7-b7ba06fbabcc"
   },
   "outputs": [
    {
     "data": {
      "text/plain": [
       "ColumnTransformer(n_jobs=None, remainder='passthrough', sparse_threshold=0.3,\n",
       "                  transformer_weights=None,\n",
       "                  transformers=[('categoric',\n",
       "                                 OneHotEncoder(categories='auto', drop=None,\n",
       "                                               dtype=<class 'numpy.float64'>,\n",
       "                                               handle_unknown='ignore',\n",
       "                                               sparse=True),\n",
       "                                 ['Region']),\n",
       "                                ('numerical',\n",
       "                                 MinMaxScaler(copy=True, feature_range=(0, 1)),\n",
       "                                 ['GDP per Capita', 'Life Expectancy',\n",
       "                                  'Freedom', 'Perceptions of corruption',\n",
       "                                  'Generosity'])],\n",
       "                  verbose=False)"
      ]
     },
     "execution_count": 126,
     "metadata": {},
     "output_type": "execute_result"
    }
   ],
   "source": [
    "model2[4][1][0]"
   ]
  },
  {
   "cell_type": "code",
   "execution_count": 127,
   "id": "jQ3brE-XRwEt",
   "metadata": {
    "colab": {
     "base_uri": "https://localhost:8080/",
     "height": 312
    },
    "executionInfo": {
     "elapsed": 608,
     "status": "ok",
     "timestamp": 1635734127346,
     "user": {
      "displayName": "Agustin Acerbo",
      "photoUrl": "https://lh3.googleusercontent.com/a-/AOh14GiFUHlal2m-HqrdHQGftXlBFKZBOGaIXX61S4e_MQ=s64",
      "userId": "11845685418075358694"
     },
     "user_tz": 180
    },
    "id": "jQ3brE-XRwEt",
    "outputId": "aa63f29b-2afe-4081-f742-61bdae635d24"
   },
   "outputs": [
    {
     "data": {
      "text/plain": [
       "<matplotlib.axes._subplots.AxesSubplot at 0x7fa29777f350>"
      ]
     },
     "execution_count": 127,
     "metadata": {},
     "output_type": "execute_result"
    },
    {
     "data": {
      "image/png": "[encoded data removed]",
      "text/plain": [
       "<Figure size 432x288 with 1 Axes>"
      ]
     },
     "metadata": {
      "needs_background": "light"
     },
     "output_type": "display_data"
    }
   ],
   "source": [
    "xgb.plot_importance(model3[4][1][1])"
   ]
  },
  {
   "cell_type": "code",
   "execution_count": 128,
   "id": "uEnP6MgxR0uX",
   "metadata": {
    "colab": {
     "base_uri": "https://localhost:8080/"
    },
    "executionInfo": {
     "elapsed": 14,
     "status": "ok",
     "timestamp": 1635734127347,
     "user": {
      "displayName": "Agustin Acerbo",
      "photoUrl": "https://lh3.googleusercontent.com/a-/AOh14GiFUHlal2m-HqrdHQGftXlBFKZBOGaIXX61S4e_MQ=s64",
      "userId": "11845685418075358694"
     },
     "user_tz": 180
    },
    "id": "uEnP6MgxR0uX",
    "outputId": "4278bb35-8344-4fa0-a265-1ac2da5f6d17"
   },
   "outputs": [
    {
     "data": {
      "text/plain": [
       "ColumnTransformer(n_jobs=None, remainder='passthrough', sparse_threshold=0.3,\n",
       "                  transformer_weights=None, transformers=[], verbose=False)"
      ]
     },
     "execution_count": 128,
     "metadata": {},
     "output_type": "execute_result"
    }
   ],
   "source": [
    "model3[4][1][0]"
   ]
  },
  {
   "cell_type": "code",
   "execution_count": 129,
   "id": "axJqpqHgR3WA",
   "metadata": {
    "colab": {
     "base_uri": "https://localhost:8080/",
     "height": 312
    },
    "executionInfo": {
     "elapsed": 11,
     "status": "ok",
     "timestamp": 1635734127347,
     "user": {
      "displayName": "Agustin Acerbo",
      "photoUrl": "https://lh3.googleusercontent.com/a-/AOh14GiFUHlal2m-HqrdHQGftXlBFKZBOGaIXX61S4e_MQ=s64",
      "userId": "11845685418075358694"
     },
     "user_tz": 180
    },
    "id": "axJqpqHgR3WA",
    "outputId": "754c75b8-6a50-436e-e7b0-24a65bd9cc88"
   },
   "outputs": [
    {
     "data": {
      "text/plain": [
       "<matplotlib.axes._subplots.AxesSubplot at 0x7fa2977000d0>"
      ]
     },
     "execution_count": 129,
     "metadata": {},
     "output_type": "execute_result"
    },
    {
     "data": {
      "image/png": "[encoded data removed]",
      "text/plain": [
       "<Figure size 432x288 with 1 Axes>"
      ]
     },
     "metadata": {
      "needs_background": "light"
     },
     "output_type": "display_data"
    }
   ],
   "source": [
    "xgb.plot_importance(model4[4][1][1])"
   ]
  },
  {
   "cell_type": "code",
   "execution_count": 130,
   "id": "CB-QpbAlUWi-",
   "metadata": {
    "colab": {
     "base_uri": "https://localhost:8080/"
    },
    "executionInfo": {
     "elapsed": 9,
     "status": "ok",
     "timestamp": 1635734127348,
     "user": {
      "displayName": "Agustin Acerbo",
      "photoUrl": "https://lh3.googleusercontent.com/a-/AOh14GiFUHlal2m-HqrdHQGftXlBFKZBOGaIXX61S4e_MQ=s64",
      "userId": "11845685418075358694"
     },
     "user_tz": 180
    },
    "id": "CB-QpbAlUWi-",
    "outputId": "91fee26c-a4e2-4c40-facb-bdf38e477f68"
   },
   "outputs": [
    {
     "data": {
      "text/plain": [
       "ColumnTransformer(n_jobs=None, remainder='passthrough', sparse_threshold=0.3,\n",
       "                  transformer_weights=None,\n",
       "                  transformers=[('numerical',\n",
       "                                 MinMaxScaler(copy=True, feature_range=(0, 1)),\n",
       "                                 ['GDP per Capita', 'Life Expectancy',\n",
       "                                  'Freedom', 'Perceptions of corruption',\n",
       "                                  'Generosity'])],\n",
       "                  verbose=False)"
      ]
     },
     "execution_count": 130,
     "metadata": {},
     "output_type": "execute_result"
    }
   ],
   "source": [
    "model4[4][1][0]"
   ]
  },
  {
   "cell_type": "markdown",
   "id": "m5S9NdDvUqdg",
   "metadata": {
    "id": "m5S9NdDvUqdg"
   },
   "source": [
    "Conclusion: Notamos dos cosas de gran importancia. En primer lugar que las variables GDP per capita y Freedom son las variables mas importantes en todos los casos. Por otro lado, notamos que si bien hay gran diferencia entre la importancia que se le da a las regiones en comparacion con las variables numericas, estas si son relevantes a la hora de obtener un buen performance de los modelos como se vio en los resultados anteriores."
   ]
  },
  {
   "cell_type": "markdown",
   "id": "A0HwnoyBVtDd",
   "metadata": {
    "id": "A0HwnoyBVtDd"
   },
   "source": [
    "## CONCLUSIONES:\n",
    "\n",
    "Como pudimos analizar la libreria XGBoost nos da poderosas herramientas para el modelado. Si bien la regresion con Extreme Gradient Boosting no tuvo la mejor performance levemente por debajo del Random Forest, superando al resto de los modelos."
   ]
  },
  {
   "cell_type": "code",
   "execution_count": null,
   "id": "1APTGbvlXAyf",
   "metadata": {
    "id": "1APTGbvlXAyf"
   },
   "outputs": [],
   "source": []
  }
 ],
 "metadata": {
  "colab": {
   "collapsed_sections": [],
   "name": "Machine Learning Models v2.ipynb",
   "provenance": []
  },
  "kernelspec": {
   "display_name": "Python 3 (ipykernel)",
   "language": "python",
   "name": "python3"
  },
  "language_info": {
   "codemirror_mode": {
    "name": "ipython",
    "version": 3
   },
   "file_extension": ".py",
   "mimetype": "text/x-python",
   "name": "python",
   "nbconvert_exporter": "python",
   "pygments_lexer": "ipython3",
   "version": "3.8.13"
  }
 },
 "nbformat": 4,
 "nbformat_minor": 5
}
